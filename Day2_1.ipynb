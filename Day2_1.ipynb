{
 "cells": [
  {
   "cell_type": "markdown",
   "id": "de1ae0ab",
   "metadata": {},
   "source": [
    "###  정수 ( int ) cached internal"
   ]
  },
  {
   "cell_type": "code",
   "execution_count": 1,
   "id": "fac8f7be",
   "metadata": {},
   "outputs": [
    {
     "data": {
      "text/plain": [
       "100"
      ]
     },
     "execution_count": 1,
     "metadata": {},
     "output_type": "execute_result"
    }
   ],
   "source": [
    "100"
   ]
  },
  {
   "cell_type": "markdown",
   "id": "a7434dde",
   "metadata": {},
   "source": [
    "[-5, 256] 범위의 정수는 인스턴스를 재생성하지 않는다."
   ]
  },
  {
   "cell_type": "code",
   "execution_count": 2,
   "id": "9747b183",
   "metadata": {},
   "outputs": [],
   "source": [
    "a = 256; b = 256; c = 256"
   ]
  },
  {
   "cell_type": "code",
   "execution_count": 3,
   "id": "474b5db2",
   "metadata": {},
   "outputs": [
    {
     "data": {
      "text/plain": [
       "True"
      ]
     },
     "execution_count": 3,
     "metadata": {},
     "output_type": "execute_result"
    }
   ],
   "source": [
    "a is b is c"
   ]
  },
  {
   "cell_type": "code",
   "execution_count": 4,
   "id": "3a12b372",
   "metadata": {},
   "outputs": [
    {
     "data": {
      "text/plain": [
       "(140716045059856, 140716045059856, 140716045059856)"
      ]
     },
     "execution_count": 4,
     "metadata": {},
     "output_type": "execute_result"
    }
   ],
   "source": [
    "id(a), id(b), id(c)"
   ]
  },
  {
   "cell_type": "code",
   "execution_count": 5,
   "id": "d8a09f7d",
   "metadata": {},
   "outputs": [],
   "source": [
    "d = 257; e = 257; f = 257"
   ]
  },
  {
   "cell_type": "code",
   "execution_count": 6,
   "id": "70fb5bcf",
   "metadata": {},
   "outputs": [
    {
     "data": {
      "text/plain": [
       "False"
      ]
     },
     "execution_count": 6,
     "metadata": {},
     "output_type": "execute_result"
    }
   ],
   "source": [
    "d is e is f"
   ]
  },
  {
   "cell_type": "code",
   "execution_count": 7,
   "id": "ddd7be8d",
   "metadata": {},
   "outputs": [
    {
     "data": {
      "text/plain": [
       "(1904475391824, 1904475391664, 1904475391280)"
      ]
     },
     "execution_count": 7,
     "metadata": {},
     "output_type": "execute_result"
    }
   ],
   "source": [
    "id(d), id(e), id(f)"
   ]
  },
  {
   "cell_type": "markdown",
   "id": "066e6b67",
   "metadata": {},
   "source": [
    "### str 객체의 cached internal"
   ]
  },
  {
   "cell_type": "code",
   "execution_count": 8,
   "id": "10a346ab",
   "metadata": {},
   "outputs": [],
   "source": [
    "a = 'ab'; b = 'ab'; c = 'ab'"
   ]
  },
  {
   "cell_type": "code",
   "execution_count": 9,
   "id": "13693e1c",
   "metadata": {},
   "outputs": [
    {
     "data": {
      "text/plain": [
       "True"
      ]
     },
     "execution_count": 9,
     "metadata": {},
     "output_type": "execute_result"
    }
   ],
   "source": [
    "a is b is c"
   ]
  },
  {
   "cell_type": "code",
   "execution_count": 10,
   "id": "791bb58d",
   "metadata": {},
   "outputs": [
    {
     "data": {
      "text/plain": [
       "(1904412336240, 1904412336240, 1904412336240)"
      ]
     },
     "execution_count": 10,
     "metadata": {},
     "output_type": "execute_result"
    }
   ],
   "source": [
    "id(a), id(b), id(c)"
   ]
  },
  {
   "cell_type": "code",
   "execution_count": 11,
   "id": "9c703092",
   "metadata": {},
   "outputs": [],
   "source": [
    "d = '!!'; e = '!!'; f = '!!'"
   ]
  },
  {
   "cell_type": "code",
   "execution_count": 12,
   "id": "3acf1839",
   "metadata": {},
   "outputs": [
    {
     "data": {
      "text/plain": [
       "False"
      ]
     },
     "execution_count": 12,
     "metadata": {},
     "output_type": "execute_result"
    }
   ],
   "source": [
    "d is e is f"
   ]
  },
  {
   "cell_type": "code",
   "execution_count": 13,
   "id": "721ccee4",
   "metadata": {},
   "outputs": [
    {
     "data": {
      "text/plain": [
       "(1904475672624, 1904475672816, 1904475672752)"
      ]
     },
     "execution_count": 13,
     "metadata": {},
     "output_type": "execute_result"
    }
   ],
   "source": [
    "id(d), id(e), id(f)"
   ]
  },
  {
   "cell_type": "markdown",
   "id": "42d2fdb6",
   "metadata": {},
   "source": [
    "# 함수\n",
    "\n",
    "반복되는 코드의 중복을 방지하기 위한 하나의 코드 블록을 이야기한다.  \n",
    "정의를 먼저 진행하고, 이 함수의 이름을 호출해서 사용한다. ( 0 )  \n",
    "순수함수, 비순수함수  \n",
    "순수함수 : 입력을 받아서 출력을 처리해서 전달해주는 함수 ( ex : f(x) = y )  \n",
    "비순수함수 : 함수 내의 기능의 외부의 변수나 객체를 호출한 다음에 상태를 바꿔주는 함수 ( ex: f(x) )"
   ]
  },
  {
   "cell_type": "code",
   "execution_count": 14,
   "id": "35c6ba38",
   "metadata": {},
   "outputs": [],
   "source": [
    "def soonsu(a, b):\n",
    "    return a+b"
   ]
  },
  {
   "cell_type": "code",
   "execution_count": 15,
   "id": "d1cf7702",
   "metadata": {},
   "outputs": [],
   "source": [
    "c = 0\n",
    "def bisoonsu(a, b):\n",
    "    globals()['c'] = a+b"
   ]
  },
  {
   "cell_type": "code",
   "execution_count": 16,
   "id": "4ae7e394",
   "metadata": {},
   "outputs": [],
   "source": [
    "d = soonsu(10,10)"
   ]
  },
  {
   "cell_type": "code",
   "execution_count": 17,
   "id": "d601ad7e",
   "metadata": {},
   "outputs": [
    {
     "data": {
      "text/plain": [
       "20"
      ]
     },
     "execution_count": 17,
     "metadata": {},
     "output_type": "execute_result"
    }
   ],
   "source": [
    "d"
   ]
  },
  {
   "cell_type": "code",
   "execution_count": 18,
   "id": "a35ab925",
   "metadata": {},
   "outputs": [
    {
     "data": {
      "text/plain": [
       "int"
      ]
     },
     "execution_count": 18,
     "metadata": {},
     "output_type": "execute_result"
    }
   ],
   "source": [
    "type(d)"
   ]
  },
  {
   "cell_type": "code",
   "execution_count": 19,
   "id": "c4f7440d",
   "metadata": {},
   "outputs": [],
   "source": [
    "e = bisoonsu(10, 20)"
   ]
  },
  {
   "cell_type": "code",
   "execution_count": 20,
   "id": "3cea2cee",
   "metadata": {},
   "outputs": [],
   "source": [
    "e"
   ]
  },
  {
   "cell_type": "code",
   "execution_count": 21,
   "id": "bc80f905",
   "metadata": {},
   "outputs": [
    {
     "data": {
      "text/plain": [
       "NoneType"
      ]
     },
     "execution_count": 21,
     "metadata": {},
     "output_type": "execute_result"
    }
   ],
   "source": [
    "type(e)"
   ]
  },
  {
   "cell_type": "code",
   "execution_count": 22,
   "id": "9cff38f2",
   "metadata": {},
   "outputs": [
    {
     "data": {
      "text/plain": [
       "30"
      ]
     },
     "execution_count": 22,
     "metadata": {},
     "output_type": "execute_result"
    }
   ],
   "source": [
    "c"
   ]
  },
  {
   "cell_type": "markdown",
   "id": "350a34c0",
   "metadata": {},
   "source": [
    "## 1. 함수 정의\n",
    "### 함수 정의문\n",
    "- 함수는 콜론(:)을 기준으로 좌축에는 헤더부(Header)이고, 우측이나 아래는 몸체부(Body).\n",
    "- 헤더부 : 함수명과 매개변수(parameter)\n",
    "- 몸체부 : 로직과 return처리. (로직만 처리한다 : 비순수함수, 리턴처리한다 : 순수함수)\n",
    "\n",
    ">def 키워드+함수명(매개변수):  \n",
    "  로직  \n",
    "  return"
   ]
  },
  {
   "cell_type": "code",
   "execution_count": 23,
   "id": "0a6488f1",
   "metadata": {},
   "outputs": [],
   "source": [
    "def add(x, y):\n",
    "    result = x+y\n",
    "    return result"
   ]
  },
  {
   "cell_type": "code",
   "execution_count": 24,
   "id": "44356779",
   "metadata": {},
   "outputs": [
    {
     "data": {
      "text/plain": [
       "5"
      ]
     },
     "execution_count": 24,
     "metadata": {},
     "output_type": "execute_result"
    }
   ],
   "source": [
    "add(2, 3)"
   ]
  },
  {
   "cell_type": "code",
   "execution_count": 25,
   "id": "68d4acc5",
   "metadata": {},
   "outputs": [
    {
     "ename": "NameError",
     "evalue": "name 'dd' is not defined",
     "output_type": "error",
     "traceback": [
      "\u001b[1;31m---------------------------------------------------------------------------\u001b[0m",
      "\u001b[1;31mNameError\u001b[0m                                 Traceback (most recent call last)",
      "\u001b[1;32m<ipython-input-25-e30bbef865cd>\u001b[0m in \u001b[0;36m<module>\u001b[1;34m\u001b[0m\n\u001b[1;32m----> 1\u001b[1;33m \u001b[0mdd\u001b[0m\u001b[1;33m\u001b[0m\u001b[1;33m\u001b[0m\u001b[0m\n\u001b[0m\u001b[0;32m      2\u001b[0m \u001b[0md\u001b[0m\u001b[1;33m\u001b[0m\u001b[1;33m\u001b[0m\u001b[0m\n\u001b[0;32m      3\u001b[0m \u001b[0md\u001b[0m\u001b[1;33m\u001b[0m\u001b[1;33m\u001b[0m\u001b[0m\n\u001b[0;32m      4\u001b[0m \u001b[0md\u001b[0m\u001b[1;33m\u001b[0m\u001b[1;33m\u001b[0m\u001b[0m\n\u001b[0;32m      5\u001b[0m \u001b[0md\u001b[0m\u001b[1;33m\u001b[0m\u001b[1;33m\u001b[0m\u001b[0m\n",
      "\u001b[1;31mNameError\u001b[0m: name 'dd' is not defined"
     ]
    }
   ],
   "source": [
    "dd\n",
    "d\n",
    "d\n",
    "d\n",
    "d\n",
    "d\n",
    "d\n"
   ]
  },
  {
   "cell_type": "code",
   "execution_count": null,
   "id": "039f980d",
   "metadata": {},
   "outputs": [],
   "source": [
    "add"
   ]
  },
  {
   "cell_type": "code",
   "execution_count": null,
   "id": "0aefaa90",
   "metadata": {},
   "outputs": [],
   "source": [
    "callable(add)"
   ]
  },
  {
   "cell_type": "code",
   "execution_count": null,
   "id": "d4c490e9",
   "metadata": {},
   "outputs": [],
   "source": [
    "a = 100"
   ]
  },
  {
   "cell_type": "code",
   "execution_count": null,
   "id": "957a5794",
   "metadata": {},
   "outputs": [],
   "source": [
    "callable(a)"
   ]
  },
  {
   "cell_type": "code",
   "execution_count": null,
   "id": "77bafa64",
   "metadata": {},
   "outputs": [],
   "source": [
    "print(dir(add))"
   ]
  },
  {
   "cell_type": "markdown",
   "id": "55935ead",
   "metadata": {},
   "source": [
    "### 함수 호출을 위해 호출연산자 사용\n",
    "- 함수이름 다음에 괄호 즉! 함수호출연산자를 사용한다.\n",
    "- 함수에 매개변수가 있으면, 해당하는 값인 인자를 전달해야 한다."
   ]
  },
  {
   "cell_type": "code",
   "execution_count": null,
   "id": "94191e3a",
   "metadata": {},
   "outputs": [],
   "source": [
    "add(2,5)"
   ]
  },
  {
   "cell_type": "code",
   "execution_count": null,
   "id": "57a0ff81",
   "metadata": {},
   "outputs": [],
   "source": [
    "add.__call__(2,5)"
   ]
  },
  {
   "cell_type": "code",
   "execution_count": null,
   "id": "90795798",
   "metadata": {},
   "outputs": [],
   "source": [
    "def add(a, b):\n",
    "    return a+b"
   ]
  },
  {
   "cell_type": "code",
   "execution_count": null,
   "id": "e36647f0",
   "metadata": {},
   "outputs": [],
   "source": [
    "add"
   ]
  },
  {
   "cell_type": "code",
   "execution_count": null,
   "id": "0abd202e",
   "metadata": {},
   "outputs": [],
   "source": [
    "class A:\n",
    "    def add(self, a, b):\n",
    "        return a+b+b"
   ]
  },
  {
   "cell_type": "code",
   "execution_count": null,
   "id": "eabcf7bc",
   "metadata": {},
   "outputs": [],
   "source": [
    "add(10,10)"
   ]
  },
  {
   "cell_type": "code",
   "execution_count": null,
   "id": "aad18142",
   "metadata": {},
   "outputs": [],
   "source": [
    "b = A()"
   ]
  },
  {
   "cell_type": "code",
   "execution_count": null,
   "id": "78b81751",
   "metadata": {},
   "outputs": [],
   "source": [
    "b"
   ]
  },
  {
   "cell_type": "code",
   "execution_count": null,
   "id": "c818723c",
   "metadata": {},
   "outputs": [],
   "source": [
    "print(b)"
   ]
  },
  {
   "cell_type": "code",
   "execution_count": null,
   "id": "1519b367",
   "metadata": {},
   "outputs": [],
   "source": [
    "print(dir(b))"
   ]
  },
  {
   "cell_type": "code",
   "execution_count": null,
   "id": "ca02992a",
   "metadata": {},
   "outputs": [],
   "source": [
    "b.add"
   ]
  },
  {
   "cell_type": "code",
   "execution_count": null,
   "id": "b2a21b42",
   "metadata": {},
   "outputs": [],
   "source": [
    "b.add(10, 10)"
   ]
  },
  {
   "cell_type": "markdown",
   "id": "1ab1435a",
   "metadata": {},
   "source": [
    "클래스 안의 함수를 호출 해서 쓸 때는 메소드라고 한다.  \n",
    "모듈에서 썼을 때는 메소드를 쓰는거. 즉, 객체(인스턴스)를 생성해서 쓰면 메소드이다.  \n",
    "함수는 수학적인걸 그냥 생각하면 된다."
   ]
  },
  {
   "cell_type": "code",
   "execution_count": null,
   "id": "2a5da0ac",
   "metadata": {},
   "outputs": [],
   "source": [
    "A"
   ]
  },
  {
   "cell_type": "code",
   "execution_count": null,
   "id": "f7c19c3d",
   "metadata": {},
   "outputs": [],
   "source": [
    "print(dir(A))"
   ]
  },
  {
   "cell_type": "code",
   "execution_count": null,
   "id": "15fcff40",
   "metadata": {},
   "outputs": [],
   "source": [
    "A.add"
   ]
  },
  {
   "cell_type": "code",
   "execution_count": null,
   "id": "33d56c56",
   "metadata": {},
   "outputs": [],
   "source": [
    "A.add(A(), 10, 10)"
   ]
  },
  {
   "cell_type": "markdown",
   "id": "96635d70",
   "metadata": {},
   "source": [
    "### 일반 로직과 함수 처리 비교\n",
    "일반로직 : 한번을 처리할 때 일반적인 로직으로 처리  \n",
    "동일한 로직을 여러 번 사용할 때는 함수로 정의해서 사용 가능  \n"
   ]
  },
  {
   "cell_type": "code",
   "execution_count": null,
   "id": "cce19dd1",
   "metadata": {},
   "outputs": [],
   "source": [
    "a = 0\n",
    "for data in range(0,10):\n",
    "    a += data\n",
    "\n",
    "print(a)"
   ]
  },
  {
   "cell_type": "code",
   "execution_count": null,
   "id": "01253e8c",
   "metadata": {},
   "outputs": [],
   "source": [
    "def add_function(a):\n",
    "    for data in range(1,10):\n",
    "        a += data\n",
    "    \n",
    "    return a"
   ]
  },
  {
   "cell_type": "code",
   "execution_count": null,
   "id": "3dba4a68",
   "metadata": {},
   "outputs": [],
   "source": [
    "add_function(a)"
   ]
  },
  {
   "cell_type": "code",
   "execution_count": null,
   "id": "e692436d",
   "metadata": {},
   "outputs": [],
   "source": [
    "globals()['add_function']"
   ]
  },
  {
   "cell_type": "markdown",
   "id": "d8ef58c2",
   "metadata": {},
   "source": [
    "### 매개변수\n",
    "\n",
    "- 컴퓨터 프로그래밍에서 매개변수(parameter)란 변수의 특별한 한 종류로서, 함수 등과 같은 서브루틴의 인풋으로 제공되는 여러 데이터중 하나를 가리키기 위해 사용된다. 여기서 서브루틴의 인풋으로 제공되는 여러 데이터들을 전달인자(argument)라고 부른다."
   ]
  },
  {
   "cell_type": "code",
   "execution_count": null,
   "id": "a732a2ab",
   "metadata": {},
   "outputs": [],
   "source": [
    "def add(a:int, b:int):\n",
    "    if type(a) == int and type(b) == int:\n",
    "        return a+b\n",
    "    \n",
    "    else:\n",
    "        print(\"매개변수 값을 수정해주세요. ( int만 가능합니다. )\")\n",
    "        return None"
   ]
  },
  {
   "cell_type": "code",
   "execution_count": null,
   "id": "815cf392",
   "metadata": {},
   "outputs": [],
   "source": [
    "add.__annotations__"
   ]
  },
  {
   "cell_type": "code",
   "execution_count": null,
   "id": "cdbebbf6",
   "metadata": {},
   "outputs": [],
   "source": [
    "add(3, '3')"
   ]
  },
  {
   "cell_type": "code",
   "execution_count": null,
   "id": "6f7af54f",
   "metadata": {},
   "outputs": [],
   "source": [
    "b = print(\"!\")"
   ]
  },
  {
   "cell_type": "code",
   "execution_count": null,
   "id": "2f141200",
   "metadata": {},
   "outputs": [],
   "source": [
    "b"
   ]
  },
  {
   "cell_type": "code",
   "execution_count": null,
   "id": "06119c26",
   "metadata": {},
   "outputs": [],
   "source": [
    "type(b)"
   ]
  },
  {
   "cell_type": "code",
   "execution_count": null,
   "id": "a829bea5",
   "metadata": {},
   "outputs": [],
   "source": [
    "def add(a, b):\n",
    "    return a+b\n",
    "    \n",
    "def subtract(a, b):\n",
    "    return a-b\n",
    "\n",
    "def multiplicated_by(a, b):\n",
    "    return a*b\n",
    "\n",
    "def divided_by(a, b):\n",
    "    return a/b"
   ]
  },
  {
   "cell_type": "code",
   "execution_count": 37,
   "id": "db94e98b",
   "metadata": {},
   "outputs": [
    {
     "name": "stdout",
     "output_type": "stream",
     "text": [
      "Overwriting calculator.py\n"
     ]
    }
   ],
   "source": [
    "%%writefile calculator.py\n",
    "\n",
    "class Calculator:\n",
    "    \"\"\"\n",
    "    계산기 클래스입니다.\n",
    "    \"\"\"\n",
    "    result = 0\n",
    "    \n",
    "    def add(self, a):\n",
    "        self.result += a\n",
    "    \n",
    "    def subtract(self, a):\n",
    "        self.result -= a\n",
    "    \n",
    "    def multiplicated_by(self, a):\n",
    "        self.result *= a\n",
    "    \n",
    "    def divided_by(self, a):\n",
    "        self.result /= a\n",
    "        \n",
    "    def ac(self):\n",
    "        self.result = 0"
   ]
  },
  {
   "cell_type": "code",
   "execution_count": 38,
   "id": "6e72793b",
   "metadata": {},
   "outputs": [
    {
     "ename": "NameError",
     "evalue": "name 'Calculator' is not defined",
     "output_type": "error",
     "traceback": [
      "\u001b[1;31m---------------------------------------------------------------------------\u001b[0m",
      "\u001b[1;31mNameError\u001b[0m                                 Traceback (most recent call last)",
      "\u001b[1;32m<ipython-input-38-22be19210ba6>\u001b[0m in \u001b[0;36m<module>\u001b[1;34m\u001b[0m\n\u001b[1;32m----> 1\u001b[1;33m \u001b[0mhelp\u001b[0m\u001b[1;33m(\u001b[0m\u001b[0mCalculator\u001b[0m\u001b[1;33m)\u001b[0m\u001b[1;33m\u001b[0m\u001b[1;33m\u001b[0m\u001b[0m\n\u001b[0m",
      "\u001b[1;31mNameError\u001b[0m: name 'Calculator' is not defined"
     ]
    }
   ],
   "source": [
    "help(Calculator)"
   ]
  },
  {
   "cell_type": "code",
   "execution_count": null,
   "id": "0e7225ae",
   "metadata": {},
   "outputs": [],
   "source": [
    "calculator = Calculator()"
   ]
  },
  {
   "cell_type": "code",
   "execution_count": null,
   "id": "0ccce336",
   "metadata": {},
   "outputs": [],
   "source": [
    "calculator.result"
   ]
  },
  {
   "cell_type": "code",
   "execution_count": null,
   "id": "b9772fe4",
   "metadata": {
    "scrolled": true
   },
   "outputs": [],
   "source": [
    "calculator.add(3)"
   ]
  },
  {
   "cell_type": "code",
   "execution_count": null,
   "id": "5d4d54e2",
   "metadata": {},
   "outputs": [],
   "source": [
    "calculator.result"
   ]
  },
  {
   "cell_type": "code",
   "execution_count": null,
   "id": "c43392d2",
   "metadata": {},
   "outputs": [],
   "source": [
    "calculator.subtract(2)"
   ]
  },
  {
   "cell_type": "code",
   "execution_count": null,
   "id": "db86ab42",
   "metadata": {},
   "outputs": [],
   "source": [
    "calculator.result"
   ]
  },
  {
   "cell_type": "code",
   "execution_count": null,
   "id": "315ca5ff",
   "metadata": {},
   "outputs": [],
   "source": [
    "def add(x,y):\n",
    "    \"\"\"\n",
    "    add함수\n",
    "    - 정수 혹은 숫자 자료형 x,y의 더한 결과값을 리턴합니다.\n",
    "    \"\"\"\n",
    "    return x+y"
   ]
  },
  {
   "cell_type": "code",
   "execution_count": null,
   "id": "c293b75f",
   "metadata": {},
   "outputs": [],
   "source": [
    "help(add)"
   ]
  },
  {
   "cell_type": "code",
   "execution_count": null,
   "id": "80296dc2",
   "metadata": {},
   "outputs": [],
   "source": [
    "add.__doc__"
   ]
  },
  {
   "cell_type": "code",
   "execution_count": null,
   "id": "585f2849",
   "metadata": {},
   "outputs": [],
   "source": [
    "def add(x:int, y:int) -> int:\n",
    "    return x+y"
   ]
  },
  {
   "cell_type": "code",
   "execution_count": null,
   "id": "8b2bec53",
   "metadata": {},
   "outputs": [],
   "source": [
    "add.__annotations__"
   ]
  },
  {
   "cell_type": "code",
   "execution_count": null,
   "id": "57f9709b",
   "metadata": {},
   "outputs": [],
   "source": [
    "add(\"1\", \"2\")"
   ]
  },
  {
   "cell_type": "code",
   "execution_count": null,
   "id": "d7275696",
   "metadata": {},
   "outputs": [],
   "source": [
    "import inspect"
   ]
  },
  {
   "cell_type": "code",
   "execution_count": null,
   "id": "7796a499",
   "metadata": {},
   "outputs": [],
   "source": [
    "inspect.getfullargspec(add)"
   ]
  },
  {
   "cell_type": "markdown",
   "id": "dc4023bc",
   "metadata": {},
   "source": [
    "# 여러 parmeter가 필요한 경우\n",
    "\n",
    "### 가변인자처리\n",
    "- 여러개의 인자를 하나로 묶어서 처리\n",
    "- 함수를 정의할 때 가변인자가 들어가는 매개변수를 args라는 이름으로 지정하고 그 앞에 별을 붙여서 사용한다."
   ]
  },
  {
   "cell_type": "code",
   "execution_count": 26,
   "id": "c68122a8",
   "metadata": {},
   "outputs": [],
   "source": [
    "def sum_all(*args):\n",
    "    print(args)\n",
    "    return sum(args)"
   ]
  },
  {
   "cell_type": "code",
   "execution_count": 27,
   "id": "f25ddae0",
   "metadata": {},
   "outputs": [
    {
     "name": "stdout",
     "output_type": "stream",
     "text": [
      "(1, 2)\n"
     ]
    },
    {
     "data": {
      "text/plain": [
       "3"
      ]
     },
     "execution_count": 27,
     "metadata": {},
     "output_type": "execute_result"
    }
   ],
   "source": [
    "sum_all(1,2)"
   ]
  },
  {
   "cell_type": "code",
   "execution_count": 28,
   "id": "4b067a5f",
   "metadata": {},
   "outputs": [
    {
     "name": "stdout",
     "output_type": "stream",
     "text": [
      "['__add__', '__class__', '__contains__', '__delattr__', '__delitem__', '__dir__', '__doc__', '__eq__', '__format__', '__ge__', '__getattribute__', '__getitem__', '__gt__', '__hash__', '__iadd__', '__imul__', '__init__', '__init_subclass__', '__iter__', '__le__', '__len__', '__lt__', '__mul__', '__ne__', '__new__', '__reduce__', '__reduce_ex__', '__repr__', '__reversed__', '__rmul__', '__setattr__', '__setitem__', '__sizeof__', '__str__', '__subclasshook__', 'append', 'clear', 'copy', 'count', 'extend', 'index', 'insert', 'pop', 'remove', 'reverse', 'sort']\n"
     ]
    }
   ],
   "source": [
    "print(dir(list))"
   ]
  },
  {
   "cell_type": "code",
   "execution_count": 29,
   "id": "14f2a1a8",
   "metadata": {},
   "outputs": [
    {
     "name": "stdout",
     "output_type": "stream",
     "text": [
      "['__add__', '__class__', '__contains__', '__delattr__', '__dir__', '__doc__', '__eq__', '__format__', '__ge__', '__getattribute__', '__getitem__', '__getnewargs__', '__gt__', '__hash__', '__init__', '__init_subclass__', '__iter__', '__le__', '__len__', '__lt__', '__mul__', '__ne__', '__new__', '__reduce__', '__reduce_ex__', '__repr__', '__rmul__', '__setattr__', '__sizeof__', '__str__', '__subclasshook__', 'count', 'index']\n"
     ]
    }
   ],
   "source": [
    "print(dir(tuple))"
   ]
  },
  {
   "cell_type": "code",
   "execution_count": 30,
   "id": "7a4a8d4b",
   "metadata": {},
   "outputs": [
    {
     "name": "stdout",
     "output_type": "stream",
     "text": [
      "__delitem__\n",
      "__iadd__\n",
      "__imul__\n",
      "__reversed__\n",
      "__setitem__\n",
      "append\n",
      "clear\n",
      "copy\n",
      "extend\n",
      "insert\n",
      "pop\n",
      "remove\n",
      "reverse\n",
      "sort\n"
     ]
    }
   ],
   "source": [
    "for data in dir(list):\n",
    "    if data not in dir(tuple):\n",
    "        print(data)"
   ]
  },
  {
   "cell_type": "code",
   "execution_count": 39,
   "id": "3e374d80",
   "metadata": {},
   "outputs": [],
   "source": [
    "a = tuple([3])"
   ]
  },
  {
   "cell_type": "markdown",
   "id": "ed0d13eb",
   "metadata": {},
   "source": [
    "### 가변 키워드인자\n",
    "- 이름과 값을 나열해서 지정할 수 있다.\n",
    "- 가변인자 다음에 가변 키워드인자를 넣어서 사용해야함."
   ]
  },
  {
   "cell_type": "code",
   "execution_count": 45,
   "id": "336a7018",
   "metadata": {},
   "outputs": [],
   "source": [
    "def kwarg_function(**kwargs):\n",
    "    print(kwargs)\n",
    "    print(type(kwargs))"
   ]
  },
  {
   "cell_type": "code",
   "execution_count": 47,
   "id": "0f362c8c",
   "metadata": {},
   "outputs": [
    {
     "name": "stdout",
     "output_type": "stream",
     "text": [
      "{'a': 1, 'b': '2', 'c': None, 'asdf': '1234'}\n",
      "<class 'dict'>\n"
     ]
    }
   ],
   "source": [
    "kwarg_function(a=1,b='2',c=None, asdf='1234')"
   ]
  },
  {
   "cell_type": "code",
   "execution_count": 49,
   "id": "80d5aa1e",
   "metadata": {},
   "outputs": [],
   "source": [
    "def args_kwargs_function(*args, **kwargs):\n",
    "    print(args)\n",
    "    print(type(args))\n",
    "    \n",
    "    print(kwargs)\n",
    "    print(type(kwargs))"
   ]
  },
  {
   "cell_type": "code",
   "execution_count": 50,
   "id": "1d54748b",
   "metadata": {},
   "outputs": [
    {
     "name": "stdout",
     "output_type": "stream",
     "text": [
      "(1, 2, 3, 4, 5)\n",
      "<class 'tuple'>\n",
      "{'a': '1', 'b': '2', 'c': 3, 'd': None}\n",
      "<class 'dict'>\n"
     ]
    }
   ],
   "source": [
    "args_kwargs_function(1,2,3,4,5,a='1',b='2',c=3,d=None)"
   ]
  },
  {
   "cell_type": "code",
   "execution_count": 51,
   "id": "fe965a77",
   "metadata": {},
   "outputs": [
    {
     "ename": "SyntaxError",
     "evalue": "positional argument follows keyword argument (<ipython-input-51-2f00f2e438ea>, line 1)",
     "output_type": "error",
     "traceback": [
      "\u001b[1;36m  File \u001b[1;32m\"<ipython-input-51-2f00f2e438ea>\"\u001b[1;36m, line \u001b[1;32m1\u001b[0m\n\u001b[1;33m    args_kwargs_function(1,2,3,4,5,a='1',b='2',c=3,d=None,4,5)\u001b[0m\n\u001b[1;37m                                                          ^\u001b[0m\n\u001b[1;31mSyntaxError\u001b[0m\u001b[1;31m:\u001b[0m positional argument follows keyword argument\n"
     ]
    }
   ],
   "source": [
    "args_kwargs_function(1,2,3,4,5,a='1',b='2',c=3,d=None,4,5)"
   ]
  },
  {
   "cell_type": "code",
   "execution_count": 52,
   "id": "dbb2afe2",
   "metadata": {},
   "outputs": [],
   "source": [
    "def basic_parmeter_args_kwargs_function(a, b, *args, **kwargs):\n",
    "    print(args)\n",
    "    print(type(args))\n",
    "    \n",
    "    print(kwargs)\n",
    "    print(type(kwargs))\n",
    "    \n",
    "    print(a)\n",
    "    print(b)"
   ]
  },
  {
   "cell_type": "code",
   "execution_count": 56,
   "id": "f31eac37",
   "metadata": {},
   "outputs": [
    {
     "name": "stdout",
     "output_type": "stream",
     "text": [
      "(1, 2, 3, 4)\n",
      "<class 'tuple'>\n",
      "{'c': 30, 'd': 40}\n",
      "<class 'dict'>\n",
      "10\n",
      "20\n"
     ]
    }
   ],
   "source": [
    "basic_parmeter_args_kwargs_function(10, 20, 1,2,3,4, c=30, d=40)"
   ]
  },
  {
   "cell_type": "markdown",
   "id": "0ab4f3d3",
   "metadata": {},
   "source": [
    "### *args 내가 원하는 구구단 단수만 입력받아서 출력하는 함수 제작 gugudan(2,5,7)"
   ]
  },
  {
   "cell_type": "code",
   "execution_count": 75,
   "id": "5513fda3",
   "metadata": {},
   "outputs": [],
   "source": [
    "def gugudan(*args):\n",
    "    for dan in args:\n",
    "        print(f\"-- {dan} 단 --\")\n",
    "        for gugu in range(1,10):\n",
    "            print(f\"{dan} X {gugu} = {dan * gugu}\")\n",
    "        print()"
   ]
  },
  {
   "cell_type": "code",
   "execution_count": 76,
   "id": "93985d12",
   "metadata": {},
   "outputs": [
    {
     "name": "stdout",
     "output_type": "stream",
     "text": [
      "-- 2 단 --\n",
      "2 X 1 = 2\n",
      "2 X 2 = 4\n",
      "2 X 3 = 6\n",
      "2 X 4 = 8\n",
      "2 X 5 = 10\n",
      "2 X 6 = 12\n",
      "2 X 7 = 14\n",
      "2 X 8 = 16\n",
      "2 X 9 = 18\n",
      "\n",
      "-- 5 단 --\n",
      "5 X 1 = 5\n",
      "5 X 2 = 10\n",
      "5 X 3 = 15\n",
      "5 X 4 = 20\n",
      "5 X 5 = 25\n",
      "5 X 6 = 30\n",
      "5 X 7 = 35\n",
      "5 X 8 = 40\n",
      "5 X 9 = 45\n",
      "\n",
      "-- 7 단 --\n",
      "7 X 1 = 7\n",
      "7 X 2 = 14\n",
      "7 X 3 = 21\n",
      "7 X 4 = 28\n",
      "7 X 5 = 35\n",
      "7 X 6 = 42\n",
      "7 X 7 = 49\n",
      "7 X 8 = 56\n",
      "7 X 9 = 63\n",
      "\n"
     ]
    }
   ],
   "source": [
    "gugudan(2,5,7)"
   ]
  },
  {
   "cell_type": "markdown",
   "id": "983ddc92",
   "metadata": {},
   "source": [
    "### *args *kwargs 내가 원하는 구구단 단수만 입력받아서 출력하는 함수 제작 gugudan(2,5,seven=7,nine=9)"
   ]
  },
  {
   "cell_type": "code",
   "execution_count": 80,
   "id": "0c08c631",
   "metadata": {},
   "outputs": [],
   "source": [
    "def gugudan(*args, **kwargs):\n",
    "    for dan in args:\n",
    "        print(f\"-- {dan} 단 --\")\n",
    "        for gugu in range(1,10):\n",
    "            print(f\"{dan} X {gugu} = {dan * gugu}\")\n",
    "        print()\n",
    "    for dan in kwargs:\n",
    "        dan = kwargs[dan]\n",
    "        print(f\"-- {dan} 단 --\")\n",
    "        for gugu in range(1,10):\n",
    "            print(f\"{dan} X {gugu} = {dan * gugu}\")\n",
    "        print()"
   ]
  },
  {
   "cell_type": "code",
   "execution_count": 81,
   "id": "b4dae518",
   "metadata": {},
   "outputs": [
    {
     "name": "stdout",
     "output_type": "stream",
     "text": [
      "-- 2 단 --\n",
      "2 X 1 = 2\n",
      "2 X 2 = 4\n",
      "2 X 3 = 6\n",
      "2 X 4 = 8\n",
      "2 X 5 = 10\n",
      "2 X 6 = 12\n",
      "2 X 7 = 14\n",
      "2 X 8 = 16\n",
      "2 X 9 = 18\n",
      "\n",
      "-- 5 단 --\n",
      "5 X 1 = 5\n",
      "5 X 2 = 10\n",
      "5 X 3 = 15\n",
      "5 X 4 = 20\n",
      "5 X 5 = 25\n",
      "5 X 6 = 30\n",
      "5 X 7 = 35\n",
      "5 X 8 = 40\n",
      "5 X 9 = 45\n",
      "\n",
      "-- 7 단 --\n",
      "7 X 1 = 7\n",
      "7 X 2 = 14\n",
      "7 X 3 = 21\n",
      "7 X 4 = 28\n",
      "7 X 5 = 35\n",
      "7 X 6 = 42\n",
      "7 X 7 = 49\n",
      "7 X 8 = 56\n",
      "7 X 9 = 63\n",
      "\n",
      "-- 9 단 --\n",
      "9 X 1 = 9\n",
      "9 X 2 = 18\n",
      "9 X 3 = 27\n",
      "9 X 4 = 36\n",
      "9 X 5 = 45\n",
      "9 X 6 = 54\n",
      "9 X 7 = 63\n",
      "9 X 8 = 72\n",
      "9 X 9 = 81\n",
      "\n"
     ]
    }
   ],
   "source": [
    "gugudan(2,5,seven=7,nine=9)"
   ]
  },
  {
   "cell_type": "markdown",
   "id": "ceaf80c4",
   "metadata": {},
   "source": [
    "# 함수 내에 함수 정의 : 로컬 함수"
   ]
  },
  {
   "cell_type": "markdown",
   "id": "1f627b5a",
   "metadata": {},
   "source": [
    "- 각 함수 정의별로 그 안에 지역변수가 만들어지므로 (locals()) 해당 이름공간도 같이 만들어집니다.\n",
    "- 함수 내부의 로직들을 하나의 블럭인 함수로 지정해서 재사용 용도로 구성할 수 있음."
   ]
  },
  {
   "cell_type": "code",
   "execution_count": 87,
   "id": "e662cff8",
   "metadata": {},
   "outputs": [],
   "source": [
    "def outer(a):\n",
    "    \n",
    "    def inner(b):\n",
    "        b += 2\n",
    "        print(\"inner 함수 {}\".format(locals()))\n",
    "        return b\n",
    "    \n",
    "    a += 1\n",
    "    print(\"outer 함수 {}\".format(locals()))\n",
    "    \n",
    "    for data in range(1,3):\n",
    "        inner(a)"
   ]
  },
  {
   "cell_type": "code",
   "execution_count": 88,
   "id": "b2492e59",
   "metadata": {},
   "outputs": [
    {
     "name": "stdout",
     "output_type": "stream",
     "text": [
      "outer 함수 {'a': 101, 'inner': <function outer.<locals>.inner at 0x000001BB6B98B1F0>}\n",
      "inner 함수 {'b': 103}\n",
      "inner 함수 {'b': 103}\n"
     ]
    }
   ],
   "source": [
    "outer(100)"
   ]
  },
  {
   "cell_type": "code",
   "execution_count": null,
   "id": "8a1f4739",
   "metadata": {},
   "outputs": [],
   "source": []
  }
 ],
 "metadata": {
  "kernelspec": {
   "display_name": "Python 3",
   "language": "python",
   "name": "python3"
  },
  "language_info": {
   "codemirror_mode": {
    "name": "ipython",
    "version": 3
   },
   "file_extension": ".py",
   "mimetype": "text/x-python",
   "name": "python",
   "nbconvert_exporter": "python",
   "pygments_lexer": "ipython3",
   "version": "3.8.8"
  }
 },
 "nbformat": 4,
 "nbformat_minor": 5
}
