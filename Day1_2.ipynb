{
 "cells": [
  {
   "cell_type": "markdown",
   "id": "66614145",
   "metadata": {},
   "source": [
    "# 1. 순환문\n",
    "\n",
    "특정한 행위(것)를 여러번 수행하는 문장.  \n",
    "for와 while"
   ]
  },
  {
   "cell_type": "markdown",
   "id": "0483f3ab",
   "metadata": {},
   "source": [
    "### for 문\n",
    "- 반복되는 클래스의 객체를 가져와서 그 내부에 원소를 읽음."
   ]
  },
  {
   "cell_type": "code",
   "execution_count": null,
   "id": "437f05f0",
   "metadata": {},
   "outputs": [],
   "source": [
    "range(0, 10)"
   ]
  },
  {
   "cell_type": "code",
   "execution_count": null,
   "id": "ff789960",
   "metadata": {},
   "outputs": [],
   "source": [
    "for data in range(1, 10):\n",
    "    print(data)"
   ]
  },
  {
   "cell_type": "markdown",
   "id": "30fd50f6",
   "metadata": {},
   "source": [
    "#### range\n",
    "- 범위 : 첫 인덱스 ~ 마지막 인덱스 - 1"
   ]
  },
  {
   "cell_type": "code",
   "execution_count": null,
   "id": "de38c835",
   "metadata": {},
   "outputs": [],
   "source": [
    "a = range(10)"
   ]
  },
  {
   "cell_type": "code",
   "execution_count": null,
   "id": "d96bb902",
   "metadata": {},
   "outputs": [],
   "source": [
    "type(a)"
   ]
  },
  {
   "cell_type": "code",
   "execution_count": null,
   "id": "c4e6bf60",
   "metadata": {},
   "outputs": [],
   "source": [
    "a.__class__"
   ]
  },
  {
   "cell_type": "code",
   "execution_count": null,
   "id": "fb75b284",
   "metadata": {},
   "outputs": [],
   "source": [
    "for data in [1,3,7,4]:\n",
    "    print(data)"
   ]
  },
  {
   "cell_type": "code",
   "execution_count": null,
   "id": "995eff40",
   "metadata": {},
   "outputs": [],
   "source": [
    "for data in \"abc\":\n",
    "    print(data)"
   ]
  },
  {
   "cell_type": "code",
   "execution_count": null,
   "id": "e725b21e",
   "metadata": {},
   "outputs": [],
   "source": [
    "dict_data = {'a':1, 'b':2}\n",
    "for data in dict_data:\n",
    "    print(data)\n",
    "    print(dict_data[data])"
   ]
  },
  {
   "cell_type": "code",
   "execution_count": null,
   "id": "9f4598bc",
   "metadata": {},
   "outputs": [],
   "source": [
    "for data in dict_data.keys():\n",
    "    print(data)"
   ]
  },
  {
   "cell_type": "code",
   "execution_count": null,
   "id": "a7c6fd66",
   "metadata": {},
   "outputs": [],
   "source": [
    "for data in dict_data.values():\n",
    "    print(data)"
   ]
  },
  {
   "cell_type": "code",
   "execution_count": null,
   "id": "3c7147e7",
   "metadata": {},
   "outputs": [],
   "source": [
    "for (k, v) in dict_data.items():\n",
    "    print(k, v)"
   ]
  },
  {
   "cell_type": "code",
   "execution_count": null,
   "id": "32225fe2",
   "metadata": {},
   "outputs": [],
   "source": [
    "print(\"HEIGHT : \" + str(165))"
   ]
  },
  {
   "cell_type": "code",
   "execution_count": null,
   "id": "5f698a91",
   "metadata": {},
   "outputs": [],
   "source": [
    "f\"HEIGHT : { 165 }\""
   ]
  },
  {
   "cell_type": "markdown",
   "id": "f4f5ed96",
   "metadata": {},
   "source": [
    "#### break"
   ]
  },
  {
   "cell_type": "code",
   "execution_count": null,
   "id": "06751bd9",
   "metadata": {},
   "outputs": [],
   "source": [
    "for data in range(5):\n",
    "    print(\"loop\")\n",
    "    break"
   ]
  },
  {
   "cell_type": "markdown",
   "id": "5ab3b152",
   "metadata": {},
   "source": [
    "#### continue"
   ]
  },
  {
   "cell_type": "code",
   "execution_count": null,
   "id": "dd2be3ae",
   "metadata": {},
   "outputs": [],
   "source": [
    "for data in range(10):\n",
    "    if data % 2 == 0:\n",
    "        continue\n",
    "    print(f'{ data } : loop')"
   ]
  },
  {
   "cell_type": "code",
   "execution_count": null,
   "id": "1712d2c1",
   "metadata": {},
   "outputs": [],
   "source": [
    "for data in range(5):\n",
    "    print(data)\n",
    "else:\n",
    "    print(\"for loop end\")"
   ]
  },
  {
   "cell_type": "code",
   "execution_count": null,
   "id": "9b112ef0",
   "metadata": {},
   "outputs": [],
   "source": [
    "for data in range(5):\n",
    "    if data == 3:\n",
    "        break\n",
    "    print(data)\n",
    "else:\n",
    "    print(\"for loop end\")"
   ]
  },
  {
   "cell_type": "code",
   "execution_count": null,
   "id": "4a7dc298",
   "metadata": {},
   "outputs": [],
   "source": [
    "for i in range(2, 10):\n",
    "    print(f\"---구구단 {i}단---\")\n",
    "    for j in range(1,10):\n",
    "        print(f\"{i} * {j} = {i*j}\")\n",
    "    else:\n",
    "        print(\"\\n\")"
   ]
  },
  {
   "cell_type": "code",
   "execution_count": null,
   "id": "4faa3330",
   "metadata": {},
   "outputs": [],
   "source": [
    "for first in range(2, 10):\n",
    "    print(f'{first}단')\n",
    "    for second in range(1,10):\n",
    "        print(f'{ first } X { second } = { first * second }')\n",
    "        \n",
    "    print()"
   ]
  },
  {
   "cell_type": "markdown",
   "id": "b9a5442f",
   "metadata": {},
   "source": [
    "#### while문\n",
    "- 특정 조건식이 만족하는 경우에 순환을 처리"
   ]
  },
  {
   "cell_type": "code",
   "execution_count": 12,
   "id": "599bb0b3",
   "metadata": {},
   "outputs": [
    {
     "name": "stdout",
     "output_type": "stream",
     "text": [
      "loop\n",
      "loop\n",
      "loop\n",
      "loop\n",
      "loop\n"
     ]
    }
   ],
   "source": [
    "index = 0\n",
    "\n",
    "while True:\n",
    "    if index >= 5:\n",
    "        break\n",
    "    print(\"loop\")\n",
    "    index += 1\n",
    "else:\n",
    "    print(\"while else end\")"
   ]
  },
  {
   "cell_type": "code",
   "execution_count": 28,
   "id": "be7d64e1",
   "metadata": {},
   "outputs": [
    {
     "name": "stdout",
     "output_type": "stream",
     "text": [
      "2단\n",
      "2 X 1 = 2\n",
      "2 X 2 = 4\n",
      "2 X 3 = 6\n",
      "2 X 4 = 8\n",
      "2 X 5 = 10\n",
      "2 X 6 = 12\n",
      "2 X 7 = 14\n",
      "2 X 8 = 16\n",
      "2 X 9 = 18\n",
      "\n",
      "3단\n",
      "3 X 1 = 3\n",
      "3 X 2 = 6\n",
      "3 X 3 = 9\n",
      "3 X 4 = 12\n",
      "3 X 5 = 15\n",
      "3 X 6 = 18\n",
      "3 X 7 = 21\n",
      "3 X 8 = 24\n",
      "3 X 9 = 27\n",
      "\n",
      "4단\n",
      "4 X 1 = 4\n",
      "4 X 2 = 8\n",
      "4 X 3 = 12\n",
      "4 X 4 = 16\n",
      "4 X 5 = 20\n",
      "4 X 6 = 24\n",
      "4 X 7 = 28\n",
      "4 X 8 = 32\n",
      "4 X 9 = 36\n",
      "\n",
      "5단\n",
      "5 X 1 = 5\n",
      "5 X 2 = 10\n",
      "5 X 3 = 15\n",
      "5 X 4 = 20\n",
      "5 X 5 = 25\n",
      "5 X 6 = 30\n",
      "5 X 7 = 35\n",
      "5 X 8 = 40\n",
      "5 X 9 = 45\n",
      "\n",
      "6단\n",
      "6 X 1 = 6\n",
      "6 X 2 = 12\n",
      "6 X 3 = 18\n",
      "6 X 4 = 24\n",
      "6 X 5 = 30\n",
      "6 X 6 = 36\n",
      "6 X 7 = 42\n",
      "6 X 8 = 48\n",
      "6 X 9 = 54\n",
      "\n",
      "7단\n",
      "7 X 1 = 7\n",
      "7 X 2 = 14\n",
      "7 X 3 = 21\n",
      "7 X 4 = 28\n",
      "7 X 5 = 35\n",
      "7 X 6 = 42\n",
      "7 X 7 = 49\n",
      "7 X 8 = 56\n",
      "7 X 9 = 63\n",
      "\n",
      "8단\n",
      "8 X 1 = 8\n",
      "8 X 2 = 16\n",
      "8 X 3 = 24\n",
      "8 X 4 = 32\n",
      "8 X 5 = 40\n",
      "8 X 6 = 48\n",
      "8 X 7 = 56\n",
      "8 X 8 = 64\n",
      "8 X 9 = 72\n",
      "\n",
      "9단\n",
      "9 X 1 = 9\n",
      "9 X 2 = 18\n",
      "9 X 3 = 27\n",
      "9 X 4 = 36\n",
      "9 X 5 = 45\n",
      "9 X 6 = 54\n",
      "9 X 7 = 63\n",
      "9 X 8 = 72\n",
      "9 X 9 = 81\n",
      "\n"
     ]
    }
   ],
   "source": [
    "first = 1\n",
    "second = 1\n",
    "\n",
    "while True:\n",
    "    first += 1\n",
    "    if first >= 10:\n",
    "        break\n",
    "    print(f\"{first}단\")\n",
    "    while True:\n",
    "        print(f'{first} X {second} = {first * second}')\n",
    "        second += 1\n",
    "        if second >= 10:\n",
    "            second = 1\n",
    "            break\n",
    "    print()"
   ]
  },
  {
   "cell_type": "markdown",
   "id": "fa0c5e90",
   "metadata": {},
   "source": [
    "# 2. 제어문\n",
    "\n",
    "if (elif) else  \n",
    "특정 조건을 판단해서 특정 기능을 처리."
   ]
  },
  {
   "cell_type": "markdown",
   "id": "c792e55f",
   "metadata": {},
   "source": [
    "### 비교 연산자\n",
    "\n",
    "== ( equal), <, >, >=, <="
   ]
  },
  {
   "cell_type": "code",
   "execution_count": 29,
   "id": "8ac02974",
   "metadata": {},
   "outputs": [
    {
     "data": {
      "text/plain": [
       "True"
      ]
     },
     "execution_count": 29,
     "metadata": {},
     "output_type": "execute_result"
    }
   ],
   "source": [
    "100 == 100"
   ]
  },
  {
   "cell_type": "code",
   "execution_count": 30,
   "id": "4398b7ce",
   "metadata": {},
   "outputs": [
    {
     "data": {
      "text/plain": [
       "False"
      ]
     },
     "execution_count": 30,
     "metadata": {},
     "output_type": "execute_result"
    }
   ],
   "source": [
    "100 < 99"
   ]
  },
  {
   "cell_type": "markdown",
   "id": "98cc13c0",
   "metadata": {},
   "source": [
    "### 논리연산자\n",
    "\n",
    "and, or"
   ]
  },
  {
   "cell_type": "code",
   "execution_count": 31,
   "id": "565a90af",
   "metadata": {},
   "outputs": [
    {
     "data": {
      "text/plain": [
       "True"
      ]
     },
     "execution_count": 31,
     "metadata": {},
     "output_type": "execute_result"
    }
   ],
   "source": [
    "(100 == 100) and (100 > 99)"
   ]
  },
  {
   "cell_type": "code",
   "execution_count": 33,
   "id": "20261c30",
   "metadata": {},
   "outputs": [
    {
     "data": {
      "text/plain": [
       "False"
      ]
     },
     "execution_count": 33,
     "metadata": {},
     "output_type": "execute_result"
    }
   ],
   "source": [
    "(100 == 100) and (100 < 99)"
   ]
  },
  {
   "cell_type": "code",
   "execution_count": 34,
   "id": "b0a41048",
   "metadata": {},
   "outputs": [
    {
     "data": {
      "text/plain": [
       "True"
      ]
     },
     "execution_count": 34,
     "metadata": {},
     "output_type": "execute_result"
    }
   ],
   "source": [
    "(100 == 100) or (100 < 99)"
   ]
  },
  {
   "cell_type": "code",
   "execution_count": 35,
   "id": "20228bb9",
   "metadata": {},
   "outputs": [
    {
     "data": {
      "text/plain": [
       "True"
      ]
     },
     "execution_count": 35,
     "metadata": {},
     "output_type": "execute_result"
    }
   ],
   "source": [
    "(100 == 100) or (100 > 99)"
   ]
  },
  {
   "cell_type": "markdown",
   "id": "d98823d6",
   "metadata": {},
   "source": [
    "### 단순 조건문 if"
   ]
  },
  {
   "cell_type": "code",
   "execution_count": 36,
   "id": "33dd7c77",
   "metadata": {},
   "outputs": [],
   "source": [
    "import random"
   ]
  },
  {
   "cell_type": "code",
   "execution_count": 38,
   "id": "e767318d",
   "metadata": {},
   "outputs": [
    {
     "name": "stdout",
     "output_type": "stream",
     "text": [
      "6 under\n",
      "4\n"
     ]
    }
   ],
   "source": [
    "random_value = random.randint(0, 10)\n",
    "\n",
    "if random_value < 3:\n",
    "    print(\"3 under\")\n",
    "elif random_value < 6:\n",
    "    print(\"6 under\")\n",
    "else:\n",
    "    print(\"6 over\")\n",
    "    \n",
    "print(random_value)"
   ]
  },
  {
   "cell_type": "markdown",
   "id": "c41ddf2e",
   "metadata": {},
   "source": [
    "### 삼항연산자"
   ]
  },
  {
   "cell_type": "code",
   "execution_count": 39,
   "id": "51568e7a",
   "metadata": {},
   "outputs": [
    {
     "name": "stdout",
     "output_type": "stream",
     "text": [
      "5 under\n",
      "0\n"
     ]
    }
   ],
   "source": [
    "random_value = random.randint(0, 10)\n",
    "\n",
    "print(\"5 over\") if random_value > 5 else print(\"5 under\")\n",
    "print(random_value)"
   ]
  },
  {
   "cell_type": "code",
   "execution_count": 40,
   "id": "6e9d425f",
   "metadata": {},
   "outputs": [
    {
     "name": "stdout",
     "output_type": "stream",
     "text": [
      "값을 입력하세요. 1\n"
     ]
    },
    {
     "data": {
      "text/plain": [
       "'1'"
      ]
     },
     "execution_count": 40,
     "metadata": {},
     "output_type": "execute_result"
    }
   ],
   "source": [
    "input(\"값을 입력하세요. \")"
   ]
  },
  {
   "cell_type": "code",
   "execution_count": 41,
   "id": "12af2e97",
   "metadata": {},
   "outputs": [],
   "source": [
    "import random"
   ]
  },
  {
   "cell_type": "code",
   "execution_count": 52,
   "id": "96913c03",
   "metadata": {},
   "outputs": [],
   "source": [
    "def game_20():\n",
    "    random_value = random.randint(0, 50)\n",
    "    \n",
    "    for index in range(20):\n",
    "        input_value = int(input('정답을 입력해주세요.'))\n",
    "\n",
    "        if input_value == random_value:\n",
    "            print(\"정답입니다!\")\n",
    "            break\n",
    "        elif input_value < random_value:\n",
    "            print(\"작습니다.\")\n",
    "        else:\n",
    "            print(\"큽니다.\")\n",
    "    else:\n",
    "        print(\"스무고개 게임이 종료됐습니다.\")"
   ]
  },
  {
   "cell_type": "code",
   "execution_count": 53,
   "id": "3fef87fa",
   "metadata": {},
   "outputs": [
    {
     "name": "stdout",
     "output_type": "stream",
     "text": [
      "정답을 입력해주세요.20\n",
      "작습니다.\n",
      "정답을 입력해주세요.1\n",
      "작습니다.\n",
      "정답을 입력해주세요.3\n",
      "작습니다.\n",
      "정답을 입력해주세요.6\n",
      "작습니다.\n",
      "정답을 입력해주세요.10\n",
      "작습니다.\n",
      "정답을 입력해주세요.15\n",
      "작습니다.\n",
      "정답을 입력해주세요.16\n",
      "작습니다.\n",
      "정답을 입력해주세요.13\n",
      "작습니다.\n",
      "정답을 입력해주세요.2\n",
      "작습니다.\n",
      "정답을 입력해주세요.1\n",
      "작습니다.\n",
      "정답을 입력해주세요.3\n",
      "작습니다.\n",
      "정답을 입력해주세요.4\n",
      "작습니다.\n",
      "정답을 입력해주세요.1\n",
      "작습니다.\n",
      "정답을 입력해주세요.2\n",
      "작습니다.\n",
      "정답을 입력해주세요.3\n",
      "작습니다.\n",
      "정답을 입력해주세요.4\n",
      "작습니다.\n",
      "정답을 입력해주세요.1\n",
      "작습니다.\n",
      "정답을 입력해주세요.2\n",
      "작습니다.\n",
      "정답을 입력해주세요.3\n",
      "작습니다.\n",
      "정답을 입력해주세요.4\n",
      "작습니다.\n",
      "스무고개 게임이 종료됐습니다.\n"
     ]
    }
   ],
   "source": [
    "game_20()"
   ]
  },
  {
   "cell_type": "code",
   "execution_count": 54,
   "id": "80c4ee09",
   "metadata": {},
   "outputs": [],
   "source": [
    "import keyword"
   ]
  },
  {
   "cell_type": "code",
   "execution_count": 55,
   "id": "edc89d1c",
   "metadata": {},
   "outputs": [
    {
     "name": "stdout",
     "output_type": "stream",
     "text": [
      "['False', 'None', 'True', 'and', 'as', 'assert', 'async', 'await', 'break', 'class', 'continue', 'def', 'del', 'elif', 'else', 'except', 'finally', 'for', 'from', 'global', 'if', 'import', 'in', 'is', 'lambda', 'nonlocal', 'not', 'or', 'pass', 'raise', 'return', 'try', 'while', 'with', 'yield']\n"
     ]
    }
   ],
   "source": [
    "print(keyword.kwlist)"
   ]
  },
  {
   "cell_type": "code",
   "execution_count": 68,
   "id": "15d1bd3e",
   "metadata": {},
   "outputs": [],
   "source": [
    "dict_value = {\n",
    "    '1' : \"1을 눌렀습니다.\",\n",
    "    '2' : \"2을 눌렀습니다.\",\n",
    "    '3' : \"3을 눌렀습니다.\"\n",
    "}"
   ]
  },
  {
   "cell_type": "code",
   "execution_count": 69,
   "id": "97b9f771",
   "metadata": {},
   "outputs": [
    {
     "name": "stdout",
     "output_type": "stream",
     "text": [
      "3을 눌렀습니다.\n"
     ]
    }
   ],
   "source": [
    "if '3' in dict_value:\n",
    "    print(dict_value['3'])"
   ]
  },
  {
   "cell_type": "markdown",
   "id": "5e111696",
   "metadata": {},
   "source": [
    "# 3. 예외문\n",
    "\n",
    "keyword : try except  \n",
    "모든 코드는 실행 중에 에러나 예외가 발생하는 상황이 존재한다.  \n",
    "특정 코드를 처리하게끔 해주는 것이 예외문이다."
   ]
  },
  {
   "cell_type": "code",
   "execution_count": 95,
   "id": "97639806",
   "metadata": {},
   "outputs": [
    {
     "name": "stdout",
     "output_type": "stream",
     "text": [
      "False\n",
      "try\n",
      "Exception\n",
      "<class 'TypeError'>\n",
      "can only concatenate str (not \"int\") to str\n",
      "Finally\n",
      "Send Email for warning\n"
     ]
    }
   ],
   "source": [
    "import sys\n",
    "\n",
    "is_try = False\n",
    "print(is_try)\n",
    "\n",
    "try:\n",
    "    print(\"try\")\n",
    "    print('str' + 1)\n",
    "except Exception as e:\n",
    "    print(\"Exception\")\n",
    "    is_try = True\n",
    "    print(sys.exc_info()[0])\n",
    "    print(e)\n",
    "finally:\n",
    "    print(\"Finally\")\n",
    "    if is_try == True:\n",
    "        print(\"Send Email for warning\")"
   ]
  },
  {
   "cell_type": "code",
   "execution_count": 90,
   "id": "25c18925",
   "metadata": {},
   "outputs": [
    {
     "ename": "TypeError",
     "evalue": "can only concatenate str (not \"int\") to str",
     "output_type": "error",
     "traceback": [
      "\u001b[1;31m---------------------------------------------------------------------------\u001b[0m",
      "\u001b[1;31mTypeError\u001b[0m                                 Traceback (most recent call last)",
      "\u001b[1;32m<ipython-input-90-580f576c2d54>\u001b[0m in \u001b[0;36m<module>\u001b[1;34m\u001b[0m\n\u001b[1;32m----> 1\u001b[1;33m \u001b[0mprint\u001b[0m\u001b[1;33m(\u001b[0m\u001b[1;34m'str'\u001b[0m \u001b[1;33m+\u001b[0m \u001b[1;36m1\u001b[0m\u001b[1;33m)\u001b[0m\u001b[1;33m\u001b[0m\u001b[1;33m\u001b[0m\u001b[0m\n\u001b[0m",
      "\u001b[1;31mTypeError\u001b[0m: can only concatenate str (not \"int\") to str"
     ]
    }
   ],
   "source": [
    "print('str' + 1)"
   ]
  },
  {
   "cell_type": "code",
   "execution_count": 109,
   "id": "910c8ddd",
   "metadata": {},
   "outputs": [],
   "source": [
    "a = [1,2,3,4]"
   ]
  },
  {
   "cell_type": "code",
   "execution_count": 110,
   "id": "b4b5be1f",
   "metadata": {},
   "outputs": [
    {
     "data": {
      "text/plain": [
       "[1, 2, 3, 4]"
      ]
     },
     "execution_count": 110,
     "metadata": {},
     "output_type": "execute_result"
    }
   ],
   "source": [
    "a"
   ]
  },
  {
   "cell_type": "code",
   "execution_count": 111,
   "id": "ae7c9b98",
   "metadata": {},
   "outputs": [],
   "source": [
    "b = a"
   ]
  },
  {
   "cell_type": "code",
   "execution_count": 112,
   "id": "2121f8eb",
   "metadata": {},
   "outputs": [
    {
     "data": {
      "text/plain": [
       "[1, 2, 3, 4]"
      ]
     },
     "execution_count": 112,
     "metadata": {},
     "output_type": "execute_result"
    }
   ],
   "source": [
    "b"
   ]
  },
  {
   "cell_type": "code",
   "execution_count": 113,
   "id": "08b76083",
   "metadata": {},
   "outputs": [
    {
     "data": {
      "text/plain": [
       "(1685860104448, 1685860104448)"
      ]
     },
     "execution_count": 113,
     "metadata": {},
     "output_type": "execute_result"
    }
   ],
   "source": [
    "id(a), id(b)"
   ]
  },
  {
   "cell_type": "code",
   "execution_count": 114,
   "id": "28ec2994",
   "metadata": {},
   "outputs": [
    {
     "data": {
      "text/plain": [
       "True"
      ]
     },
     "execution_count": 114,
     "metadata": {},
     "output_type": "execute_result"
    }
   ],
   "source": [
    "id(a) == id(b)"
   ]
  },
  {
   "cell_type": "code",
   "execution_count": 115,
   "id": "fe5c73eb",
   "metadata": {},
   "outputs": [],
   "source": [
    "b[0] = 100"
   ]
  },
  {
   "cell_type": "code",
   "execution_count": 116,
   "id": "cad59f73",
   "metadata": {},
   "outputs": [
    {
     "data": {
      "text/plain": [
       "([100, 2, 3, 4], [100, 2, 3, 4])"
      ]
     },
     "execution_count": 116,
     "metadata": {},
     "output_type": "execute_result"
    }
   ],
   "source": [
    "b, a"
   ]
  },
  {
   "cell_type": "code",
   "execution_count": 117,
   "id": "c24dd6d2",
   "metadata": {},
   "outputs": [],
   "source": [
    "import copy"
   ]
  },
  {
   "cell_type": "code",
   "execution_count": 118,
   "id": "dce56bda",
   "metadata": {},
   "outputs": [],
   "source": [
    "a = [1,2,3,4]"
   ]
  },
  {
   "cell_type": "code",
   "execution_count": 119,
   "id": "c0ae2a31",
   "metadata": {},
   "outputs": [
    {
     "data": {
      "text/plain": [
       "[1, 2, 3, 4]"
      ]
     },
     "execution_count": 119,
     "metadata": {},
     "output_type": "execute_result"
    }
   ],
   "source": [
    "a"
   ]
  },
  {
   "cell_type": "code",
   "execution_count": 120,
   "id": "0a6c5dc2",
   "metadata": {},
   "outputs": [],
   "source": [
    "b = copy.deepcopy(a)"
   ]
  },
  {
   "cell_type": "code",
   "execution_count": 121,
   "id": "c2c1b698",
   "metadata": {},
   "outputs": [
    {
     "data": {
      "text/plain": [
       "[1, 2, 3, 4]"
      ]
     },
     "execution_count": 121,
     "metadata": {},
     "output_type": "execute_result"
    }
   ],
   "source": [
    "b"
   ]
  },
  {
   "cell_type": "code",
   "execution_count": 122,
   "id": "dd1960a6",
   "metadata": {},
   "outputs": [
    {
     "data": {
      "text/plain": [
       "(1685860078464, 1685860105856)"
      ]
     },
     "execution_count": 122,
     "metadata": {},
     "output_type": "execute_result"
    }
   ],
   "source": [
    "id(a), id(b)"
   ]
  },
  {
   "cell_type": "code",
   "execution_count": 123,
   "id": "d9c0ba8e",
   "metadata": {},
   "outputs": [
    {
     "data": {
      "text/plain": [
       "False"
      ]
     },
     "execution_count": 123,
     "metadata": {},
     "output_type": "execute_result"
    }
   ],
   "source": [
    "b[0] == 99"
   ]
  },
  {
   "cell_type": "code",
   "execution_count": 124,
   "id": "66b817d2",
   "metadata": {},
   "outputs": [
    {
     "data": {
      "text/plain": [
       "([1, 2, 3, 4], [1, 2, 3, 4])"
      ]
     },
     "execution_count": 124,
     "metadata": {},
     "output_type": "execute_result"
    }
   ],
   "source": [
    "b, a"
   ]
  },
  {
   "cell_type": "code",
   "execution_count": 125,
   "id": "7fdbed53",
   "metadata": {},
   "outputs": [],
   "source": [
    "b[0] = 99"
   ]
  },
  {
   "cell_type": "code",
   "execution_count": 126,
   "id": "e42f80b1",
   "metadata": {},
   "outputs": [
    {
     "data": {
      "text/plain": [
       "([1, 2, 3, 4], [99, 2, 3, 4])"
      ]
     },
     "execution_count": 126,
     "metadata": {},
     "output_type": "execute_result"
    }
   ],
   "source": [
    "a, b"
   ]
  },
  {
   "cell_type": "code",
   "execution_count": 127,
   "id": "c574d4e6",
   "metadata": {},
   "outputs": [
    {
     "data": {
      "text/plain": [
       "False"
      ]
     },
     "execution_count": 127,
     "metadata": {},
     "output_type": "execute_result"
    }
   ],
   "source": [
    "id(a) == id(b)"
   ]
  },
  {
   "cell_type": "code",
   "execution_count": 128,
   "id": "0b2d7f1b",
   "metadata": {},
   "outputs": [
    {
     "data": {
      "text/plain": [
       "1685860078464"
      ]
     },
     "execution_count": 128,
     "metadata": {},
     "output_type": "execute_result"
    }
   ],
   "source": [
    "id(a)"
   ]
  },
  {
   "cell_type": "code",
   "execution_count": 129,
   "id": "6ee11b5a",
   "metadata": {},
   "outputs": [
    {
     "data": {
      "text/plain": [
       "1685860105856"
      ]
     },
     "execution_count": 129,
     "metadata": {},
     "output_type": "execute_result"
    }
   ],
   "source": [
    "id(b)"
   ]
  },
  {
   "cell_type": "code",
   "execution_count": 130,
   "id": "4c1b3803",
   "metadata": {},
   "outputs": [],
   "source": [
    "copy = 100"
   ]
  },
  {
   "cell_type": "code",
   "execution_count": 131,
   "id": "e7c6a1d6",
   "metadata": {},
   "outputs": [
    {
     "ename": "AttributeError",
     "evalue": "'int' object has no attribute 'deepcopy'",
     "output_type": "error",
     "traceback": [
      "\u001b[1;31m---------------------------------------------------------------------------\u001b[0m",
      "\u001b[1;31mAttributeError\u001b[0m                            Traceback (most recent call last)",
      "\u001b[1;32m<ipython-input-131-186cd1e59b0f>\u001b[0m in \u001b[0;36m<module>\u001b[1;34m\u001b[0m\n\u001b[1;32m----> 1\u001b[1;33m \u001b[0mcopy\u001b[0m\u001b[1;33m.\u001b[0m\u001b[0mdeepcopy\u001b[0m\u001b[1;33m\u001b[0m\u001b[1;33m\u001b[0m\u001b[0m\n\u001b[0m",
      "\u001b[1;31mAttributeError\u001b[0m: 'int' object has no attribute 'deepcopy'"
     ]
    }
   ],
   "source": [
    "copy.deepcopy"
   ]
  },
  {
   "cell_type": "code",
   "execution_count": 132,
   "id": "1aac0594",
   "metadata": {},
   "outputs": [
    {
     "data": {
      "text/plain": [
       "100"
      ]
     },
     "execution_count": 132,
     "metadata": {},
     "output_type": "execute_result"
    }
   ],
   "source": [
    "copy"
   ]
  },
  {
   "cell_type": "code",
   "execution_count": 133,
   "id": "a2e97fc8",
   "metadata": {},
   "outputs": [],
   "source": [
    "import copy"
   ]
  },
  {
   "cell_type": "code",
   "execution_count": 134,
   "id": "7ac66338",
   "metadata": {},
   "outputs": [
    {
     "data": {
      "text/plain": [
       "<module 'copy' from 'C:\\\\Users\\\\MONOGRAM\\\\anaconda3\\\\lib\\\\copy.py'>"
      ]
     },
     "execution_count": 134,
     "metadata": {},
     "output_type": "execute_result"
    }
   ],
   "source": [
    "copy"
   ]
  },
  {
   "cell_type": "code",
   "execution_count": 135,
   "id": "ca50e12c",
   "metadata": {},
   "outputs": [],
   "source": [
    "from datetime import *"
   ]
  },
  {
   "cell_type": "code",
   "execution_count": 142,
   "id": "d0cc04bf",
   "metadata": {},
   "outputs": [],
   "source": [
    "def datetime():\n",
    "    return 5"
   ]
  },
  {
   "cell_type": "code",
   "execution_count": 143,
   "id": "b6b5ab53",
   "metadata": {},
   "outputs": [
    {
     "data": {
      "text/plain": [
       "5"
      ]
     },
     "execution_count": 143,
     "metadata": {},
     "output_type": "execute_result"
    }
   ],
   "source": [
    "datetime()"
   ]
  },
  {
   "cell_type": "code",
   "execution_count": 144,
   "id": "8cc226b1",
   "metadata": {},
   "outputs": [
    {
     "data": {
      "text/plain": [
       "function"
      ]
     },
     "execution_count": 144,
     "metadata": {},
     "output_type": "execute_result"
    }
   ],
   "source": [
    "datetime.__class__"
   ]
  },
  {
   "cell_type": "code",
   "execution_count": 145,
   "id": "452a2f99",
   "metadata": {},
   "outputs": [],
   "source": [
    "from datetime import datetime"
   ]
  },
  {
   "cell_type": "code",
   "execution_count": 147,
   "id": "6ffe0c4b",
   "metadata": {},
   "outputs": [
    {
     "data": {
      "text/plain": [
       "type"
      ]
     },
     "execution_count": 147,
     "metadata": {},
     "output_type": "execute_result"
    }
   ],
   "source": [
    "datetime.__class__"
   ]
  },
  {
   "cell_type": "markdown",
   "id": "45131c5e",
   "metadata": {},
   "source": [
    "세 자연수 a, b, c 가 피타고라스 정리 a2 + b2 = c2 를 만족하면  \n",
    "피타고라스 수라고 부릅니다 (여기서 a < b < c ).  \n",
    "예를 들면 32 + 42 = 9 + 16 = 25 = 52이므로 3, 4, 5는 피타고라스 수입니다.  \n",
    "a + b + c = 1000 인 피타고라스 수 a, b, c는 한 가지 뿐입니다.  \n",
    "이 때, a x b x c 는 얼마입니까?"
   ]
  },
  {
   "cell_type": "code",
   "execution_count": 156,
   "id": "da8aeb7f",
   "metadata": {},
   "outputs": [
    {
     "name": "stdout",
     "output_type": "stream",
     "text": [
      "200 375 425\n"
     ]
    }
   ],
   "source": [
    "a = 1\n",
    "b = 2\n",
    "c = 3\n",
    "\n",
    "for a_value in range(1, 500):\n",
    "    for b_value in range(1, 500):\n",
    "        if b_value < a_value:\n",
    "            continue\n",
    "            \n",
    "        for c_value in range(1, 500):\n",
    "            if c_value < b_value:\n",
    "                continue\n",
    "                \n",
    "            if a_value + b_value + c_value == 1000:\n",
    "                if (a_value**2 + b_value**2) == c_value**2:\n",
    "                    print(a_value, b_value, c_value)\n",
    "                    break"
   ]
  },
  {
   "cell_type": "code",
   "execution_count": 158,
   "id": "5747b702",
   "metadata": {},
   "outputs": [
    {
     "data": {
      "text/plain": [
       "True"
      ]
     },
     "execution_count": 158,
     "metadata": {},
     "output_type": "execute_result"
    }
   ],
   "source": [
    "200 ** 2 + 375 ** 2 == 425 ** 2"
   ]
  },
  {
   "cell_type": "code",
   "execution_count": 159,
   "id": "f6e97b5a",
   "metadata": {},
   "outputs": [
    {
     "data": {
      "text/plain": [
       "31875000"
      ]
     },
     "execution_count": 159,
     "metadata": {},
     "output_type": "execute_result"
    }
   ],
   "source": [
    "200*375*425"
   ]
  },
  {
   "cell_type": "code",
   "execution_count": null,
   "id": "b409b9fc",
   "metadata": {},
   "outputs": [],
   "source": []
  }
 ],
 "metadata": {
  "kernelspec": {
   "display_name": "Python 3",
   "language": "python",
   "name": "python3"
  },
  "language_info": {
   "codemirror_mode": {
    "name": "ipython",
    "version": 3
   },
   "file_extension": ".py",
   "mimetype": "text/x-python",
   "name": "python",
   "nbconvert_exporter": "python",
   "pygments_lexer": "ipython3",
   "version": "3.8.8"
  }
 },
 "nbformat": 4,
 "nbformat_minor": 5
}
