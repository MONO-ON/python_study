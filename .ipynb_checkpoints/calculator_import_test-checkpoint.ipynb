{
 "cells": [
  {
   "cell_type": "code",
   "execution_count": 12,
   "id": "0ec08854",
   "metadata": {},
   "outputs": [],
   "source": [
    "import calculator"
   ]
  },
  {
   "cell_type": "code",
   "execution_count": 13,
   "id": "59bee713",
   "metadata": {},
   "outputs": [
    {
     "data": {
      "text/plain": [
       "['Calculator',\n",
       " '__builtins__',\n",
       " '__cached__',\n",
       " '__doc__',\n",
       " '__file__',\n",
       " '__loader__',\n",
       " '__name__',\n",
       " '__package__',\n",
       " '__spec__']"
      ]
     },
     "execution_count": 13,
     "metadata": {},
     "output_type": "execute_result"
    }
   ],
   "source": [
    "dir(calculator)"
   ]
  },
  {
   "cell_type": "code",
   "execution_count": 14,
   "id": "e7f1691d",
   "metadata": {},
   "outputs": [],
   "source": [
    "from calculator import Calculator"
   ]
  },
  {
   "cell_type": "code",
   "execution_count": 15,
   "id": "9837f171",
   "metadata": {},
   "outputs": [],
   "source": [
    "calculator = Calculator()"
   ]
  },
  {
   "cell_type": "code",
   "execution_count": 16,
   "id": "c42cfbee",
   "metadata": {},
   "outputs": [
    {
     "data": {
      "text/plain": [
       "0"
      ]
     },
     "execution_count": 16,
     "metadata": {},
     "output_type": "execute_result"
    }
   ],
   "source": [
    "calculator.result"
   ]
  },
  {
   "cell_type": "code",
   "execution_count": 17,
   "id": "37aa514d",
   "metadata": {},
   "outputs": [],
   "source": [
    "calculator.sum(5)"
   ]
  },
  {
   "cell_type": "code",
   "execution_count": 18,
   "id": "b307d371",
   "metadata": {},
   "outputs": [
    {
     "data": {
      "text/plain": [
       "5"
      ]
     },
     "execution_count": 18,
     "metadata": {},
     "output_type": "execute_result"
    }
   ],
   "source": [
    "calculator.result"
   ]
  },
  {
   "cell_type": "code",
   "execution_count": 19,
   "id": "87bc8b30",
   "metadata": {},
   "outputs": [],
   "source": [
    "calculator.subtract(3)"
   ]
  },
  {
   "cell_type": "code",
   "execution_count": 20,
   "id": "1386cfc0",
   "metadata": {},
   "outputs": [
    {
     "data": {
      "text/plain": [
       "2"
      ]
     },
     "execution_count": 20,
     "metadata": {},
     "output_type": "execute_result"
    }
   ],
   "source": [
    "calculator.result"
   ]
  },
  {
   "cell_type": "code",
   "execution_count": null,
   "id": "e9a6649b",
   "metadata": {},
   "outputs": [],
   "source": []
  }
 ],
 "metadata": {
  "kernelspec": {
   "display_name": "Python 3",
   "language": "python",
   "name": "python3"
  },
  "language_info": {
   "codemirror_mode": {
    "name": "ipython",
    "version": 3
   },
   "file_extension": ".py",
   "mimetype": "text/x-python",
   "name": "python",
   "nbconvert_exporter": "python",
   "pygments_lexer": "ipython3",
   "version": "3.8.8"
  }
 },
 "nbformat": 4,
 "nbformat_minor": 5
}
