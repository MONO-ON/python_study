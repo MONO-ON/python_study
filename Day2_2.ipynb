{
 "cells": [
  {
   "cell_type": "code",
   "execution_count": 1,
   "id": "92579b1d",
   "metadata": {},
   "outputs": [
    {
     "data": {
      "text/plain": [
       "'hello'"
      ]
     },
     "execution_count": 1,
     "metadata": {},
     "output_type": "execute_result"
    }
   ],
   "source": [
    "'hello'"
   ]
  },
  {
   "cell_type": "markdown",
   "id": "380df12b",
   "metadata": {},
   "source": [
    "# Git ( Code Repository )\n",
    "\n",
    "1. GitHub, Bitbucket, GitLab 가입\n",
    "2. Repository 생성\n",
    "3. clone\n",
    "- git clone https://로 시작하는 나의 repositoryURL ( 폴더명 )\n",
    "4. 여러가지 작업을 진행...\n",
    "5. 작업물을 올릴때 하는 명령어들\n",
    "- git add ( => local의 어떤 파일들을 올릴지 결정하는 단계)\n",
    "    - git add . ( 전체 파일이 올라간다. )\n",
    "    - git add ~PATH/파일명 ( 해당 파일만 올라간다. )\n",
    "- git commit ( => 우리의 코드를 가지는 해당 서버로 기록과 보관을 해주는 것 )\n",
    "    - git commit -m \"메세지\"\n",
    "- git push origin main ( => 코드를 가지는 해당 서버로 완전히 기록 및 업로드를 해주는 것 )\n",
    "    - git push origin main ( 혹은 자신이 가진 브랜치 )\n",
    "\n",
    "6. 다른 사람이 수정한 결과를 받을 때\n",
    "- git pull origin main\n",
    "    - update 가 된다.\n",
    "    <<<<< head"
   ]
  },
  {
   "cell_type": "code",
   "execution_count": null,
   "id": "7cba1fb6",
   "metadata": {},
   "outputs": [],
   "source": []
  }
 ],
 "metadata": {
  "kernelspec": {
   "display_name": "Python 3",
   "language": "python",
   "name": "python3"
  },
  "language_info": {
   "codemirror_mode": {
    "name": "ipython",
    "version": 3
   },
   "file_extension": ".py",
   "mimetype": "text/x-python",
   "name": "python",
   "nbconvert_exporter": "python",
   "pygments_lexer": "ipython3",
   "version": "3.8.8"
  }
 },
 "nbformat": 4,
 "nbformat_minor": 5
}
