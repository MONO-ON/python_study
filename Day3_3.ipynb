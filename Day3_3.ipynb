{
 "cells": [
  {
   "cell_type": "markdown",
   "id": "5477f64b",
   "metadata": {},
   "source": [
    "## 함수도 객체다.\n",
    "- 함수도 다른 객체처럼 클래스를 가지고 있다.\n",
    "- 함수도 다른 객체처럼 변수"
   ]
  },
  {
   "cell_type": "code",
   "execution_count": 8,
   "id": "b3b706e5",
   "metadata": {},
   "outputs": [],
   "source": [
    "def add(x, y):\n",
    "    \"\"\"덧셈을 위한 함수\"\"\"\n",
    "    return x + y"
   ]
  },
  {
   "cell_type": "code",
   "execution_count": 9,
   "id": "51230223",
   "metadata": {},
   "outputs": [
    {
     "data": {
      "text/plain": [
       "function"
      ]
     },
     "execution_count": 9,
     "metadata": {},
     "output_type": "execute_result"
    }
   ],
   "source": [
    "type(add)"
   ]
  },
  {
   "cell_type": "code",
   "execution_count": 10,
   "id": "340bbc14",
   "metadata": {},
   "outputs": [],
   "source": [
    "import types"
   ]
  },
  {
   "cell_type": "code",
   "execution_count": 11,
   "id": "3b466548",
   "metadata": {},
   "outputs": [
    {
     "name": "stdout",
     "output_type": "stream",
     "text": [
      "['AsyncGeneratorType', 'BuiltinFunctionType', 'BuiltinMethodType', 'CellType', 'ClassMethodDescriptorType', 'CodeType', 'CoroutineType', 'DynamicClassAttribute', 'FrameType', 'FunctionType', 'GeneratorType', 'GetSetDescriptorType', 'LambdaType', 'MappingProxyType', 'MemberDescriptorType', 'MethodDescriptorType', 'MethodType', 'MethodWrapperType', 'ModuleType', 'SimpleNamespace', 'TracebackType', 'WrapperDescriptorType', '_GeneratorWrapper', '__all__', '__builtins__', '__cached__', '__doc__', '__file__', '__loader__', '__name__', '__package__', '__spec__', '_calculate_meta', '_cell_factory', 'coroutine', 'new_class', 'prepare_class', 'resolve_bases']\n"
     ]
    }
   ],
   "source": [
    "print(dir(types))"
   ]
  },
  {
   "cell_type": "code",
   "execution_count": 12,
   "id": "94b0faaf",
   "metadata": {},
   "outputs": [],
   "source": [
    "from types import FunctionType"
   ]
  },
  {
   "cell_type": "code",
   "execution_count": 13,
   "id": "03a99191",
   "metadata": {},
   "outputs": [
    {
     "data": {
      "text/plain": [
       "True"
      ]
     },
     "execution_count": 13,
     "metadata": {},
     "output_type": "execute_result"
    }
   ],
   "source": [
    "add.__class__ is FunctionType"
   ]
  },
  {
   "cell_type": "code",
   "execution_count": 14,
   "id": "8347e70e",
   "metadata": {},
   "outputs": [],
   "source": [
    "add_ = add"
   ]
  },
  {
   "cell_type": "code",
   "execution_count": 15,
   "id": "0f523454",
   "metadata": {},
   "outputs": [
    {
     "data": {
      "text/plain": [
       "3"
      ]
     },
     "execution_count": 15,
     "metadata": {},
     "output_type": "execute_result"
    }
   ],
   "source": [
    "add_(1,2)"
   ]
  },
  {
   "cell_type": "code",
   "execution_count": 16,
   "id": "582a7644",
   "metadata": {},
   "outputs": [
    {
     "data": {
      "text/plain": [
       "(2642175290672, 2642175290672)"
      ]
     },
     "execution_count": 16,
     "metadata": {},
     "output_type": "execute_result"
    }
   ],
   "source": [
    "id(add_), id(add)"
   ]
  },
  {
   "cell_type": "code",
   "execution_count": 17,
   "id": "08f0a6ca",
   "metadata": {},
   "outputs": [
    {
     "data": {
      "text/plain": [
       "True"
      ]
     },
     "execution_count": 17,
     "metadata": {},
     "output_type": "execute_result"
    }
   ],
   "source": [
    "add_.__class__ is FunctionType"
   ]
  },
  {
   "cell_type": "code",
   "execution_count": 18,
   "id": "990c332c",
   "metadata": {},
   "outputs": [
    {
     "data": {
      "text/plain": [
       "function"
      ]
     },
     "execution_count": 18,
     "metadata": {},
     "output_type": "execute_result"
    }
   ],
   "source": [
    "FunctionType"
   ]
  },
  {
   "cell_type": "markdown",
   "id": "9dfaee5c",
   "metadata": {},
   "source": [
    "## 매개변수에 초기 고정값 지정하기\n",
    "\n",
    "- 매개변수에 초기값을 지정하는 이유는 이 매개변수에 인자가 안 들어올 경우 에러없이 처리하기위해 존재.\n",
    "- 다른 언어는 함수를 오버로딩이 가능해서 여러 함수를 정의하는 것을 방지하기 위해 초기값을 지정하지만\n",
    "- 파이썬같은 경우는 여러 함수를 동시에 정의할 수 없어서 초기값만으로 여러 함수를 정의한 것처럼 사용하게 됩니다."
   ]
  },
  {
   "cell_type": "code",
   "execution_count": 21,
   "id": "4ad2a885",
   "metadata": {},
   "outputs": [],
   "source": [
    "def subtract(x=1, y=1):\n",
    "    return x-y"
   ]
  },
  {
   "cell_type": "code",
   "execution_count": 22,
   "id": "d2e31583",
   "metadata": {},
   "outputs": [],
   "source": [
    "def add(x,y):\n",
    "    return x+y"
   ]
  },
  {
   "cell_type": "code",
   "execution_count": 23,
   "id": "449c19bf",
   "metadata": {},
   "outputs": [
    {
     "data": {
      "text/plain": [
       "<function __main__.add(x, y)>"
      ]
     },
     "execution_count": 23,
     "metadata": {},
     "output_type": "execute_result"
    }
   ],
   "source": [
    "globals()['add']"
   ]
  },
  {
   "cell_type": "code",
   "execution_count": 24,
   "id": "ff71f49d",
   "metadata": {},
   "outputs": [],
   "source": [
    "def add(x,y,z):\n",
    "    return x+y+z"
   ]
  },
  {
   "cell_type": "code",
   "execution_count": 25,
   "id": "fd9f4529",
   "metadata": {},
   "outputs": [
    {
     "data": {
      "text/plain": [
       "<function __main__.add(x, y, z)>"
      ]
     },
     "execution_count": 25,
     "metadata": {},
     "output_type": "execute_result"
    }
   ],
   "source": [
    "globals()['add']"
   ]
  },
  {
   "cell_type": "code",
   "execution_count": 33,
   "id": "3e6a76a5",
   "metadata": {},
   "outputs": [],
   "source": [
    "def subtract(x=1, y=2):\n",
    "    return x-y"
   ]
  },
  {
   "cell_type": "code",
   "execution_count": 34,
   "id": "e3bc436e",
   "metadata": {},
   "outputs": [
    {
     "name": "stdout",
     "output_type": "stream",
     "text": [
      "['__annotations__', '__call__', '__class__', '__closure__', '__code__', '__defaults__', '__delattr__', '__dict__', '__dir__', '__doc__', '__eq__', '__format__', '__ge__', '__get__', '__getattribute__', '__globals__', '__gt__', '__hash__', '__init__', '__init_subclass__', '__kwdefaults__', '__le__', '__lt__', '__module__', '__name__', '__ne__', '__new__', '__qualname__', '__reduce__', '__reduce_ex__', '__repr__', '__setattr__', '__sizeof__', '__str__', '__subclasshook__']\n"
     ]
    }
   ],
   "source": [
    "print(dir(subtract))"
   ]
  },
  {
   "cell_type": "code",
   "execution_count": 35,
   "id": "f359a6a8",
   "metadata": {},
   "outputs": [
    {
     "data": {
      "text/plain": [
       "(1, 2)"
      ]
     },
     "execution_count": 35,
     "metadata": {},
     "output_type": "execute_result"
    }
   ],
   "source": [
    "subtract.__defaults__"
   ]
  },
  {
   "cell_type": "code",
   "execution_count": 39,
   "id": "7c3ec91d",
   "metadata": {},
   "outputs": [
    {
     "data": {
      "text/plain": [
       "-2"
      ]
     },
     "execution_count": 39,
     "metadata": {},
     "output_type": "execute_result"
    }
   ],
   "source": [
    "subtract(y=3)"
   ]
  },
  {
   "cell_type": "code",
   "execution_count": 58,
   "id": "b976af5e",
   "metadata": {},
   "outputs": [],
   "source": [
    "def sample_function(a, b, c=1, d=2, *, kwargs1=\"123\", kwargs2=\"name\"):\n",
    "    print(a,b)"
   ]
  },
  {
   "cell_type": "code",
   "execution_count": 59,
   "id": "2348765f",
   "metadata": {},
   "outputs": [
    {
     "data": {
      "text/plain": [
       "(1, 2)"
      ]
     },
     "execution_count": 59,
     "metadata": {},
     "output_type": "execute_result"
    }
   ],
   "source": [
    "sample_function.__defaults__"
   ]
  },
  {
   "cell_type": "code",
   "execution_count": 60,
   "id": "520f3e76",
   "metadata": {},
   "outputs": [
    {
     "data": {
      "text/plain": [
       "{'kwargs1': '123', 'kwargs2': 'name'}"
      ]
     },
     "execution_count": 60,
     "metadata": {},
     "output_type": "execute_result"
    }
   ],
   "source": [
    "sample_function.__kwdefaults__"
   ]
  },
  {
   "cell_type": "code",
   "execution_count": 80,
   "id": "26f23566",
   "metadata": {},
   "outputs": [],
   "source": [
    "# 무슨 문제 풀었음.. 근데 코드를 알려주진 않았음... 백준에서 문제 푼 듯 ?\n",
    "N = 7\n",
    "\n",
    "schedule = [\n",
    "    {\n",
    "        'name': '1일',\n",
    "        'T' : 3,\n",
    "        'P' : 10\n",
    "    },\n",
    "    {\n",
    "        'name': '2일',\n",
    "        'T' : 5,\n",
    "        'P' : 20\n",
    "    },\n",
    "    {\n",
    "        'name': '3일',\n",
    "        'T' : 1,\n",
    "        'P' : 10\n",
    "    },\n",
    "    {\n",
    "        'name': '4일',\n",
    "        'T' : 1,\n",
    "        'P' : 20\n",
    "    },\n",
    "    {\n",
    "        'name': '5일',\n",
    "        'T' : 2,\n",
    "        'P' : 15\n",
    "    },\n",
    "    {\n",
    "        'name': '6일',\n",
    "        'T' : 4,\n",
    "        'P' : 40\n",
    "    },\n",
    "    {\n",
    "        'name': '7일',\n",
    "        'T' : 2,\n",
    "        'P' : 200\n",
    "    },\n",
    "]"
   ]
  },
  {
   "cell_type": "code",
   "execution_count": 74,
   "id": "95367adb",
   "metadata": {},
   "outputs": [
    {
     "name": "stdout",
     "output_type": "stream",
     "text": [
      "1일 : {'name': '1일', 'T': 3, 'P': 10}\n",
      "2일 : {'name': '2일', 'T': 5, 'P': 20}\n",
      "3일 : {'name': '3일', 'T': 1, 'P': 10}\n",
      "4일 : {'name': '4일', 'T': 1, 'P': 20}\n",
      "5일 : {'name': '5일', 'T': 2, 'P': 15}\n",
      "6일 : {'name': '6일', 'T': 4, 'P': 40}\n",
      "7일 : {'name': '7일', 'T': 2, 'P': 200}\n"
     ]
    }
   ],
   "source": [
    "for index, data in enumerate(schedule):\n",
    "    print(f'{index+1}일 : {data}')"
   ]
  },
  {
   "cell_type": "code",
   "execution_count": 77,
   "id": "a96ec1bc",
   "metadata": {},
   "outputs": [
    {
     "ename": "SyntaxError",
     "evalue": "invalid syntax (<ipython-input-77-1bb45f7d88fd>, line 12)",
     "output_type": "error",
     "traceback": [
      "\u001b[1;36m  File \u001b[1;32m\"<ipython-input-77-1bb45f7d88fd>\"\u001b[1;36m, line \u001b[1;32m12\u001b[0m\n\u001b[1;33m    if len(result_datum > 0:\u001b[0m\n\u001b[1;37m                           ^\u001b[0m\n\u001b[1;31mSyntaxError\u001b[0m\u001b[1;31m:\u001b[0m invalid syntax\n"
     ]
    }
   ],
   "source": [
    "remain_days = N\n",
    "result_data = []\n",
    "\n",
    "for index1, data1 in enumerate(schedule):\n",
    "    result_datum = []\n",
    "    for index2, data2 in enumerate(schedule):\n",
    "        if index2 < index1:\n",
    "            continue\n",
    "        \n",
    "        result_datum = []\n",
    "        if data2['T'] <= remain_days:\n",
    "            if len(result_datum > 0:\n",
    "                if result_datum[len(result_datum) - 1]['T'] > index2 + 1:\n",
    "                    result_datum.append(data2)\n",
    "                    remain_days -= data2['T']\n",
    "            else:\n",
    "                   \n",
    "    \n",
    "    if len(result_datum) > 0:\n",
    "        result_data.append(result_datum)\n",
    "\n",
    "for data in result_data:\n",
    "    print(data)"
   ]
  },
  {
   "cell_type": "code",
   "execution_count": 78,
   "id": "676c2d90",
   "metadata": {},
   "outputs": [
    {
     "ename": "SyntaxError",
     "evalue": "invalid syntax (<ipython-input-78-32e01b37650d>, line 1)",
     "output_type": "error",
     "traceback": [
      "\u001b[1;36m  File \u001b[1;32m\"<ipython-input-78-32e01b37650d>\"\u001b[1;36m, line \u001b[1;32m1\u001b[0m\n\u001b[1;33m    1일 : {'T': 3, 'P': 10}\u001b[0m\n\u001b[1;37m     ^\u001b[0m\n\u001b[1;31mSyntaxError\u001b[0m\u001b[1;31m:\u001b[0m invalid syntax\n"
     ]
    }
   ],
   "source": [
    "1일 : {'T': 3, 'P': 10}\n",
    "2일 : {'T': 5, 'P': 20}\n",
    "3일 : {'T': 1, 'P': 10}\n",
    "4일 : {'T': 1, 'P': 20}\n",
    "5일 : {'T': 2, 'P': 15}\n",
    "6일 : {'T': 4, 'P': 40}\n",
    "7일 : {'T': 2, 'P': 200}"
   ]
  },
  {
   "cell_type": "markdown",
   "id": "cbdc87cf",
   "metadata": {},
   "source": [
    "### 익명함수 lambda 함수\n",
    "\n",
    "- 이름없는 함수를 제작할 수 있다.\n",
    "- 이름없는 함수는 사용한 즉시 가비지컬렉션으로 사라진다.\n",
    "- 변수에 할당할 경우는 이름있는 함수로 지정해서 사용해야 한다."
   ]
  },
  {
   "cell_type": "markdown",
   "id": "b0b2840c",
   "metadata": {},
   "source": [
    "1. 익명함수 정의 및 실행\n",
    "\n",
    "- lambda 키워드를 사용\n",
    "- 콜론 ( : )으로 나눠지는데, 좌측은 매개변수, 우측은 표현식을 지정한다."
   ]
  },
  {
   "cell_type": "code",
   "execution_count": 82,
   "id": "d91d092a",
   "metadata": {},
   "outputs": [
    {
     "data": {
      "text/plain": [
       "<function __main__.<lambda>(x)>"
      ]
     },
     "execution_count": 82,
     "metadata": {},
     "output_type": "execute_result"
    }
   ],
   "source": [
    "lambda x : x + 1"
   ]
  },
  {
   "cell_type": "code",
   "execution_count": 83,
   "id": "dde65e57",
   "metadata": {},
   "outputs": [
    {
     "data": {
      "text/plain": [
       "4"
      ]
     },
     "execution_count": 83,
     "metadata": {},
     "output_type": "execute_result"
    }
   ],
   "source": [
    "(lambda x : x + 1)(3)"
   ]
  },
  {
   "cell_type": "code",
   "execution_count": 84,
   "id": "afe52335",
   "metadata": {},
   "outputs": [],
   "source": [
    "from types import FunctionType"
   ]
  },
  {
   "cell_type": "code",
   "execution_count": 85,
   "id": "355fa47a",
   "metadata": {},
   "outputs": [
    {
     "data": {
      "text/plain": [
       "True"
      ]
     },
     "execution_count": 85,
     "metadata": {},
     "output_type": "execute_result"
    }
   ],
   "source": [
    "(lambda x : x + 1).__class__ is FunctionType"
   ]
  },
  {
   "cell_type": "markdown",
   "id": "137c318c",
   "metadata": {},
   "source": [
    "### 재귀함수\n",
    "\n",
    "- 함수 자신을 호출하고 함수의 결과와 다른 변수가 계산되어 처리하는 함수\n",
    "- 꼬리 재귀는 함수 자신만을 호출해서 처리하는 재귀함수이다.\n",
    "- 특징 : 순환문 없이 함수를 호출해서 순환을 처리한다.\n",
    "\n",
    "예시 : 5! = 5 x 4 x 3 x 2 x 1"
   ]
  },
  {
   "cell_type": "code",
   "execution_count": 91,
   "id": "e536f810",
   "metadata": {},
   "outputs": [],
   "source": [
    "def factorial_for(n):\n",
    "    result = 1\n",
    "    for index in range(1, n+1):\n",
    "        result *= index\n",
    "    \n",
    "    return result"
   ]
  },
  {
   "cell_type": "code",
   "execution_count": 92,
   "id": "f34f9b1d",
   "metadata": {},
   "outputs": [
    {
     "data": {
      "text/plain": [
       "120"
      ]
     },
     "execution_count": 92,
     "metadata": {},
     "output_type": "execute_result"
    }
   ],
   "source": [
    "factorial_for(5)"
   ]
  },
  {
   "cell_type": "code",
   "execution_count": 93,
   "id": "54041daf",
   "metadata": {},
   "outputs": [],
   "source": [
    "def factorial_recursive(n):\n",
    "    return n * factorial_recursive(n-1) if n > 1 else 1"
   ]
  },
  {
   "cell_type": "code",
   "execution_count": 94,
   "id": "16726bf3",
   "metadata": {},
   "outputs": [
    {
     "data": {
      "text/plain": [
       "120"
      ]
     },
     "execution_count": 94,
     "metadata": {},
     "output_type": "execute_result"
    }
   ],
   "source": [
    "factorial_recursive(5)"
   ]
  },
  {
   "cell_type": "code",
   "execution_count": 140,
   "id": "cff9e390",
   "metadata": {},
   "outputs": [],
   "source": [
    "# 백준 1000번 ~ 사칙연산 연계\n",
    "\n",
    "def input_AB():\n",
    "    input_data = input(\"예제 입력 : \")\n",
    "    split_input_data = input_data.split(' ')\n",
    "    \n",
    "    A = int(split_input_data[0])\n",
    "    if ( A <= 0 or A >= 10 ):\n",
    "        print(\"A의 범위가 올바르지 않습니다.\")\n",
    "        return None\n",
    "\n",
    "    B = int(split_input_data[1])\n",
    "    if ( B <= 0 or B >= 10 ):\n",
    "        print(\"B의 범위가 올바르지 않습니다.\")\n",
    "        return None\n",
    "    \n",
    "    return (A, B)\n",
    "\n",
    "def A_add_B():\n",
    "    data = input_AB()\n",
    "    if data is None:\n",
    "        return\n",
    "    \n",
    "    print(f'예제 출력 : {data[0] + data[1]}')\n",
    "    \n",
    "def A_multiple_B():\n",
    "    data = input_AB()\n",
    "    if data is None:\n",
    "        return\n",
    "    \n",
    "    print(f'예제 출력 : {data[0] * data[1]}')\n",
    "\n",
    "def A_subtract_B():\n",
    "    data = input_AB()\n",
    "    if data is None:\n",
    "        return\n",
    "    \n",
    "    print(f'예제 출력 : {data[0] - data[1]}')\n",
    "    \n",
    "def A_divided_B():\n",
    "    data = input_AB()\n",
    "    if data is None:\n",
    "        return\n",
    "    \n",
    "    print(f'예제 출력 : {data[0] / data[1]}')"
   ]
  },
  {
   "cell_type": "code",
   "execution_count": 142,
   "id": "72dfb9e5",
   "metadata": {},
   "outputs": [
    {
     "name": "stdout",
     "output_type": "stream",
     "text": [
      "예제 입력 : 1 2\n",
      "예제 출력 : -1\n"
     ]
    }
   ],
   "source": [
    "A_subtract_B()"
   ]
  },
  {
   "cell_type": "markdown",
   "id": "79d458f3",
   "metadata": {},
   "source": [
    "# 프로젝트 오일러 문제\n",
    " - 1000보다 작은 자연수 중에서 3 또는 5의 배수를 모두 더하면?"
   ]
  },
  {
   "cell_type": "code",
   "execution_count": 143,
   "id": "c89cee12",
   "metadata": {},
   "outputs": [],
   "source": [
    "three_list = []\n",
    "five_list = []"
   ]
  },
  {
   "cell_type": "code",
   "execution_count": 149,
   "id": "eb29aaf5",
   "metadata": {},
   "outputs": [],
   "source": [
    "count = 1000\n",
    "for data in range(1,  count):\n",
    "    if data % 3 == 0:\n",
    "        three_list.append(data)\n",
    "    if data % 5 == 0:\n",
    "        five_list.append(data)"
   ]
  },
  {
   "cell_type": "code",
   "execution_count": 150,
   "id": "f71fb444",
   "metadata": {},
   "outputs": [
    {
     "data": {
      "text/plain": [
       "[3,\n",
       " 6,\n",
       " 9,\n",
       " 3,\n",
       " 6,\n",
       " 9,\n",
       " 12,\n",
       " 15,\n",
       " 18,\n",
       " 21,\n",
       " 24,\n",
       " 27,\n",
       " 30,\n",
       " 33,\n",
       " 36,\n",
       " 39,\n",
       " 42,\n",
       " 45,\n",
       " 48,\n",
       " 51,\n",
       " 54,\n",
       " 57,\n",
       " 60,\n",
       " 63,\n",
       " 66,\n",
       " 69,\n",
       " 72,\n",
       " 75,\n",
       " 78,\n",
       " 81,\n",
       " 84,\n",
       " 87,\n",
       " 90,\n",
       " 93,\n",
       " 96,\n",
       " 99,\n",
       " 102,\n",
       " 105,\n",
       " 108,\n",
       " 111,\n",
       " 114,\n",
       " 117,\n",
       " 120,\n",
       " 123,\n",
       " 126,\n",
       " 129,\n",
       " 132,\n",
       " 135,\n",
       " 138,\n",
       " 141,\n",
       " 144,\n",
       " 147,\n",
       " 150,\n",
       " 153,\n",
       " 156,\n",
       " 159,\n",
       " 162,\n",
       " 165,\n",
       " 168,\n",
       " 171,\n",
       " 174,\n",
       " 177,\n",
       " 180,\n",
       " 183,\n",
       " 186,\n",
       " 189,\n",
       " 192,\n",
       " 195,\n",
       " 198,\n",
       " 201,\n",
       " 204,\n",
       " 207,\n",
       " 210,\n",
       " 213,\n",
       " 216,\n",
       " 219,\n",
       " 222,\n",
       " 225,\n",
       " 228,\n",
       " 231,\n",
       " 234,\n",
       " 237,\n",
       " 240,\n",
       " 243,\n",
       " 246,\n",
       " 249,\n",
       " 252,\n",
       " 255,\n",
       " 258,\n",
       " 261,\n",
       " 264,\n",
       " 267,\n",
       " 270,\n",
       " 273,\n",
       " 276,\n",
       " 279,\n",
       " 282,\n",
       " 285,\n",
       " 288,\n",
       " 291,\n",
       " 294,\n",
       " 297,\n",
       " 300,\n",
       " 303,\n",
       " 306,\n",
       " 309,\n",
       " 312,\n",
       " 315,\n",
       " 318,\n",
       " 321,\n",
       " 324,\n",
       " 327,\n",
       " 330,\n",
       " 333,\n",
       " 336,\n",
       " 339,\n",
       " 342,\n",
       " 345,\n",
       " 348,\n",
       " 351,\n",
       " 354,\n",
       " 357,\n",
       " 360,\n",
       " 363,\n",
       " 366,\n",
       " 369,\n",
       " 372,\n",
       " 375,\n",
       " 378,\n",
       " 381,\n",
       " 384,\n",
       " 387,\n",
       " 390,\n",
       " 393,\n",
       " 396,\n",
       " 399,\n",
       " 402,\n",
       " 405,\n",
       " 408,\n",
       " 411,\n",
       " 414,\n",
       " 417,\n",
       " 420,\n",
       " 423,\n",
       " 426,\n",
       " 429,\n",
       " 432,\n",
       " 435,\n",
       " 438,\n",
       " 441,\n",
       " 444,\n",
       " 447,\n",
       " 450,\n",
       " 453,\n",
       " 456,\n",
       " 459,\n",
       " 462,\n",
       " 465,\n",
       " 468,\n",
       " 471,\n",
       " 474,\n",
       " 477,\n",
       " 480,\n",
       " 483,\n",
       " 486,\n",
       " 489,\n",
       " 492,\n",
       " 495,\n",
       " 498,\n",
       " 501,\n",
       " 504,\n",
       " 507,\n",
       " 510,\n",
       " 513,\n",
       " 516,\n",
       " 519,\n",
       " 522,\n",
       " 525,\n",
       " 528,\n",
       " 531,\n",
       " 534,\n",
       " 537,\n",
       " 540,\n",
       " 543,\n",
       " 546,\n",
       " 549,\n",
       " 552,\n",
       " 555,\n",
       " 558,\n",
       " 561,\n",
       " 564,\n",
       " 567,\n",
       " 570,\n",
       " 573,\n",
       " 576,\n",
       " 579,\n",
       " 582,\n",
       " 585,\n",
       " 588,\n",
       " 591,\n",
       " 594,\n",
       " 597,\n",
       " 600,\n",
       " 603,\n",
       " 606,\n",
       " 609,\n",
       " 612,\n",
       " 615,\n",
       " 618,\n",
       " 621,\n",
       " 624,\n",
       " 627,\n",
       " 630,\n",
       " 633,\n",
       " 636,\n",
       " 639,\n",
       " 642,\n",
       " 645,\n",
       " 648,\n",
       " 651,\n",
       " 654,\n",
       " 657,\n",
       " 660,\n",
       " 663,\n",
       " 666,\n",
       " 669,\n",
       " 672,\n",
       " 675,\n",
       " 678,\n",
       " 681,\n",
       " 684,\n",
       " 687,\n",
       " 690,\n",
       " 693,\n",
       " 696,\n",
       " 699,\n",
       " 702,\n",
       " 705,\n",
       " 708,\n",
       " 711,\n",
       " 714,\n",
       " 717,\n",
       " 720,\n",
       " 723,\n",
       " 726,\n",
       " 729,\n",
       " 732,\n",
       " 735,\n",
       " 738,\n",
       " 741,\n",
       " 744,\n",
       " 747,\n",
       " 750,\n",
       " 753,\n",
       " 756,\n",
       " 759,\n",
       " 762,\n",
       " 765,\n",
       " 768,\n",
       " 771,\n",
       " 774,\n",
       " 777,\n",
       " 780,\n",
       " 783,\n",
       " 786,\n",
       " 789,\n",
       " 792,\n",
       " 795,\n",
       " 798,\n",
       " 801,\n",
       " 804,\n",
       " 807,\n",
       " 810,\n",
       " 813,\n",
       " 816,\n",
       " 819,\n",
       " 822,\n",
       " 825,\n",
       " 828,\n",
       " 831,\n",
       " 834,\n",
       " 837,\n",
       " 840,\n",
       " 843,\n",
       " 846,\n",
       " 849,\n",
       " 852,\n",
       " 855,\n",
       " 858,\n",
       " 861,\n",
       " 864,\n",
       " 867,\n",
       " 870,\n",
       " 873,\n",
       " 876,\n",
       " 879,\n",
       " 882,\n",
       " 885,\n",
       " 888,\n",
       " 891,\n",
       " 894,\n",
       " 897,\n",
       " 900,\n",
       " 903,\n",
       " 906,\n",
       " 909,\n",
       " 912,\n",
       " 915,\n",
       " 918,\n",
       " 921,\n",
       " 924,\n",
       " 927,\n",
       " 930,\n",
       " 933,\n",
       " 936,\n",
       " 939,\n",
       " 942,\n",
       " 945,\n",
       " 948,\n",
       " 951,\n",
       " 954,\n",
       " 957,\n",
       " 960,\n",
       " 963,\n",
       " 966,\n",
       " 969,\n",
       " 972,\n",
       " 975,\n",
       " 978,\n",
       " 981,\n",
       " 984,\n",
       " 987,\n",
       " 990,\n",
       " 993,\n",
       " 996,\n",
       " 999]"
      ]
     },
     "execution_count": 150,
     "metadata": {},
     "output_type": "execute_result"
    }
   ],
   "source": [
    "three_list"
   ]
  },
  {
   "cell_type": "code",
   "execution_count": 151,
   "id": "60863746",
   "metadata": {},
   "outputs": [
    {
     "data": {
      "text/plain": [
       "[5,\n",
       " 5,\n",
       " 10,\n",
       " 15,\n",
       " 20,\n",
       " 25,\n",
       " 30,\n",
       " 35,\n",
       " 40,\n",
       " 45,\n",
       " 50,\n",
       " 55,\n",
       " 60,\n",
       " 65,\n",
       " 70,\n",
       " 75,\n",
       " 80,\n",
       " 85,\n",
       " 90,\n",
       " 95,\n",
       " 100,\n",
       " 105,\n",
       " 110,\n",
       " 115,\n",
       " 120,\n",
       " 125,\n",
       " 130,\n",
       " 135,\n",
       " 140,\n",
       " 145,\n",
       " 150,\n",
       " 155,\n",
       " 160,\n",
       " 165,\n",
       " 170,\n",
       " 175,\n",
       " 180,\n",
       " 185,\n",
       " 190,\n",
       " 195,\n",
       " 200,\n",
       " 205,\n",
       " 210,\n",
       " 215,\n",
       " 220,\n",
       " 225,\n",
       " 230,\n",
       " 235,\n",
       " 240,\n",
       " 245,\n",
       " 250,\n",
       " 255,\n",
       " 260,\n",
       " 265,\n",
       " 270,\n",
       " 275,\n",
       " 280,\n",
       " 285,\n",
       " 290,\n",
       " 295,\n",
       " 300,\n",
       " 305,\n",
       " 310,\n",
       " 315,\n",
       " 320,\n",
       " 325,\n",
       " 330,\n",
       " 335,\n",
       " 340,\n",
       " 345,\n",
       " 350,\n",
       " 355,\n",
       " 360,\n",
       " 365,\n",
       " 370,\n",
       " 375,\n",
       " 380,\n",
       " 385,\n",
       " 390,\n",
       " 395,\n",
       " 400,\n",
       " 405,\n",
       " 410,\n",
       " 415,\n",
       " 420,\n",
       " 425,\n",
       " 430,\n",
       " 435,\n",
       " 440,\n",
       " 445,\n",
       " 450,\n",
       " 455,\n",
       " 460,\n",
       " 465,\n",
       " 470,\n",
       " 475,\n",
       " 480,\n",
       " 485,\n",
       " 490,\n",
       " 495,\n",
       " 500,\n",
       " 505,\n",
       " 510,\n",
       " 515,\n",
       " 520,\n",
       " 525,\n",
       " 530,\n",
       " 535,\n",
       " 540,\n",
       " 545,\n",
       " 550,\n",
       " 555,\n",
       " 560,\n",
       " 565,\n",
       " 570,\n",
       " 575,\n",
       " 580,\n",
       " 585,\n",
       " 590,\n",
       " 595,\n",
       " 600,\n",
       " 605,\n",
       " 610,\n",
       " 615,\n",
       " 620,\n",
       " 625,\n",
       " 630,\n",
       " 635,\n",
       " 640,\n",
       " 645,\n",
       " 650,\n",
       " 655,\n",
       " 660,\n",
       " 665,\n",
       " 670,\n",
       " 675,\n",
       " 680,\n",
       " 685,\n",
       " 690,\n",
       " 695,\n",
       " 700,\n",
       " 705,\n",
       " 710,\n",
       " 715,\n",
       " 720,\n",
       " 725,\n",
       " 730,\n",
       " 735,\n",
       " 740,\n",
       " 745,\n",
       " 750,\n",
       " 755,\n",
       " 760,\n",
       " 765,\n",
       " 770,\n",
       " 775,\n",
       " 780,\n",
       " 785,\n",
       " 790,\n",
       " 795,\n",
       " 800,\n",
       " 805,\n",
       " 810,\n",
       " 815,\n",
       " 820,\n",
       " 825,\n",
       " 830,\n",
       " 835,\n",
       " 840,\n",
       " 845,\n",
       " 850,\n",
       " 855,\n",
       " 860,\n",
       " 865,\n",
       " 870,\n",
       " 875,\n",
       " 880,\n",
       " 885,\n",
       " 890,\n",
       " 895,\n",
       " 900,\n",
       " 905,\n",
       " 910,\n",
       " 915,\n",
       " 920,\n",
       " 925,\n",
       " 930,\n",
       " 935,\n",
       " 940,\n",
       " 945,\n",
       " 950,\n",
       " 955,\n",
       " 960,\n",
       " 965,\n",
       " 970,\n",
       " 975,\n",
       " 980,\n",
       " 985,\n",
       " 990,\n",
       " 995]"
      ]
     },
     "execution_count": 151,
     "metadata": {},
     "output_type": "execute_result"
    }
   ],
   "source": [
    "five_list"
   ]
  },
  {
   "cell_type": "code",
   "execution_count": 147,
   "id": "3d40e899",
   "metadata": {},
   "outputs": [
    {
     "data": {
      "text/plain": [
       "[3, 6, 9, 5]"
      ]
     },
     "execution_count": 147,
     "metadata": {},
     "output_type": "execute_result"
    }
   ],
   "source": [
    "three_list + five_list"
   ]
  },
  {
   "cell_type": "code",
   "execution_count": 152,
   "id": "aa435126",
   "metadata": {},
   "outputs": [
    {
     "data": {
      "text/plain": [
       "266356"
      ]
     },
     "execution_count": 152,
     "metadata": {},
     "output_type": "execute_result"
    }
   ],
   "source": [
    "sum(three_list + five_list)"
   ]
  },
  {
   "cell_type": "code",
   "execution_count": 153,
   "id": "492e6a2a",
   "metadata": {},
   "outputs": [
    {
     "data": {
      "text/plain": [
       "233168"
      ]
     },
     "execution_count": 153,
     "metadata": {},
     "output_type": "execute_result"
    }
   ],
   "source": [
    "sum(set(three_list + five_list))"
   ]
  },
  {
   "cell_type": "markdown",
   "id": "ce2a786a",
   "metadata": {},
   "source": [
    "# 프로젝트 오일러 문제\n",
    "\n",
    "- 1 ~ 20 사이의 어떤 수로도 나누어 떨어지는 가장 작은 수\n",
    "- 1 ~ 10 일 때는 2520"
   ]
  },
  {
   "cell_type": "code",
   "execution_count": 156,
   "id": "f303d2b8",
   "metadata": {},
   "outputs": [
    {
     "name": "stdout",
     "output_type": "stream",
     "text": [
      "232792560\n"
     ]
    }
   ],
   "source": [
    "target = 1\n",
    "is_loop = True\n",
    "\n",
    "range_value = 21\n",
    "\n",
    "while True:\n",
    "    result = []\n",
    "    for data in range(1,range_value):\n",
    "        if target % data == 0:\n",
    "            result.append(True)\n",
    "    \n",
    "    if len(result) == range_value - 1:\n",
    "        print(target)\n",
    "        is_loop = False\n",
    "        break\n",
    "        \n",
    "    target += 1"
   ]
  },
  {
   "cell_type": "markdown",
   "id": "f37c4976",
   "metadata": {},
   "source": [
    "# 프로젝트 오일러 문제\n",
    "\n",
    "- 2^1000의 각 자릿수를 모두 더하면?"
   ]
  },
  {
   "cell_type": "code",
   "execution_count": 167,
   "id": "3864df02",
   "metadata": {},
   "outputs": [
    {
     "data": {
      "text/plain": [
       "1366"
      ]
     },
     "execution_count": 167,
     "metadata": {},
     "output_type": "execute_result"
    }
   ],
   "source": [
    "a = 2**1000\n",
    "total = 0\n",
    "\n",
    "for data in str(a):\n",
    "    total += int(data)\n",
    "    \n",
    "total"
   ]
  },
  {
   "cell_type": "markdown",
   "id": "de6ec2bb",
   "metadata": {},
   "source": [
    "# 프로젝트 오일러 문제\n",
    "\n",
    "- 20세기에서, 매월 1일이 일요일인 경우는 몇 번?"
   ]
  },
  {
   "cell_type": "code",
   "execution_count": 169,
   "id": "8f1dd802",
   "metadata": {},
   "outputs": [],
   "source": [
    "from datetime import datetime"
   ]
  },
  {
   "cell_type": "code",
   "execution_count": 170,
   "id": "4e7205c9",
   "metadata": {},
   "outputs": [],
   "source": [
    "a = datetime(1900, 1, 1)"
   ]
  },
  {
   "cell_type": "code",
   "execution_count": 171,
   "id": "05c7bf33",
   "metadata": {},
   "outputs": [
    {
     "data": {
      "text/plain": [
       "datetime.datetime(1900, 1, 1, 0, 0)"
      ]
     },
     "execution_count": 171,
     "metadata": {},
     "output_type": "execute_result"
    }
   ],
   "source": [
    "a"
   ]
  },
  {
   "cell_type": "code",
   "execution_count": 173,
   "id": "14043c8e",
   "metadata": {},
   "outputs": [
    {
     "name": "stdout",
     "output_type": "stream",
     "text": [
      "['__add__', '__class__', '__delattr__', '__dir__', '__doc__', '__eq__', '__format__', '__ge__', '__getattribute__', '__gt__', '__hash__', '__init__', '__init_subclass__', '__le__', '__lt__', '__ne__', '__new__', '__radd__', '__reduce__', '__reduce_ex__', '__repr__', '__rsub__', '__setattr__', '__sizeof__', '__str__', '__sub__', '__subclasshook__', 'astimezone', 'combine', 'ctime', 'date', 'day', 'dst', 'fold', 'fromisocalendar', 'fromisoformat', 'fromordinal', 'fromtimestamp', 'hour', 'isocalendar', 'isoformat', 'isoweekday', 'max', 'microsecond', 'min', 'minute', 'month', 'now', 'replace', 'resolution', 'second', 'strftime', 'strptime', 'time', 'timestamp', 'timetuple', 'timetz', 'today', 'toordinal', 'tzinfo', 'tzname', 'utcfromtimestamp', 'utcnow', 'utcoffset', 'utctimetuple', 'weekday', 'year']\n"
     ]
    }
   ],
   "source": [
    "print(dir(datetime))"
   ]
  },
  {
   "cell_type": "code",
   "execution_count": 177,
   "id": "3def0a54",
   "metadata": {},
   "outputs": [
    {
     "name": "stdout",
     "output_type": "stream",
     "text": [
      "172\n"
     ]
    }
   ],
   "source": [
    "total = 0\n",
    "result = []\n",
    "for year in range(1901, 2001):\n",
    "    for month in range(1, 13):\n",
    "        if datetime(year, month, 1).weekday() == 0:\n",
    "            result.append(datetime(year, month, 1))\n",
    "            total += 1\n",
    "            \n",
    "print(total)"
   ]
  },
  {
   "cell_type": "markdown",
   "id": "3a4f9088",
   "metadata": {},
   "source": [
    "# 프로젝트 오일러 문제\n",
    "\n",
    "- 10001번째의 소수"
   ]
  },
  {
   "cell_type": "code",
   "execution_count": 180,
   "id": "cd9f6583",
   "metadata": {},
   "outputs": [
    {
     "ename": "KeyboardInterrupt",
     "evalue": "",
     "output_type": "error",
     "traceback": [
      "\u001b[1;31m---------------------------------------------------------------------------\u001b[0m",
      "\u001b[1;31mKeyboardInterrupt\u001b[0m                         Traceback (most recent call last)",
      "\u001b[1;32m<ipython-input-180-e7125c972d14>\u001b[0m in \u001b[0;36m<module>\u001b[1;34m\u001b[0m\n\u001b[0;32m      4\u001b[0m \u001b[1;32mwhile\u001b[0m \u001b[1;32mTrue\u001b[0m\u001b[1;33m:\u001b[0m\u001b[1;33m\u001b[0m\u001b[1;33m\u001b[0m\u001b[0m\n\u001b[0;32m      5\u001b[0m     \u001b[0mresult\u001b[0m \u001b[1;33m=\u001b[0m \u001b[1;33m[\u001b[0m\u001b[1;33m]\u001b[0m\u001b[1;33m\u001b[0m\u001b[1;33m\u001b[0m\u001b[0m\n\u001b[1;32m----> 6\u001b[1;33m     \u001b[1;32mfor\u001b[0m \u001b[0mdata\u001b[0m \u001b[1;32min\u001b[0m \u001b[0mrange\u001b[0m\u001b[1;33m(\u001b[0m\u001b[1;36m1\u001b[0m\u001b[1;33m,\u001b[0m \u001b[0mcount\u001b[0m\u001b[1;33m)\u001b[0m\u001b[1;33m:\u001b[0m\u001b[1;33m\u001b[0m\u001b[1;33m\u001b[0m\u001b[0m\n\u001b[0m\u001b[0;32m      7\u001b[0m         \u001b[1;32mif\u001b[0m \u001b[0mlen\u001b[0m\u001b[1;33m(\u001b[0m\u001b[0mresult\u001b[0m\u001b[1;33m)\u001b[0m \u001b[1;33m>=\u001b[0m \u001b[1;36m3\u001b[0m\u001b[1;33m:\u001b[0m\u001b[1;33m\u001b[0m\u001b[1;33m\u001b[0m\u001b[0m\n\u001b[0;32m      8\u001b[0m             \u001b[1;32mbreak\u001b[0m\u001b[1;33m\u001b[0m\u001b[1;33m\u001b[0m\u001b[0m\n",
      "\u001b[1;31mKeyboardInterrupt\u001b[0m: "
     ]
    }
   ],
   "source": [
    "count = 2\n",
    "count_result = []\n",
    "\n",
    "while True:\n",
    "    result = []\n",
    "    for data in range(1, count):\n",
    "        if len(result) >= 3:\n",
    "            break\n",
    "            \n",
    "        if count % data == 0:\n",
    "            result.append(True)\n",
    "            \n",
    "    if len(result) == 2:\n",
    "        count_result.append(count)\n",
    "        if len(count_result) == 10001:\n",
    "            break\n",
    "        \n",
    "    count += 1\n",
    "\n",
    "print(count_result[-1])"
   ]
  },
  {
   "cell_type": "code",
   "execution_count": null,
   "id": "720e5729",
   "metadata": {},
   "outputs": [],
   "source": []
  }
 ],
 "metadata": {
  "kernelspec": {
   "display_name": "Python 3",
   "language": "python",
   "name": "python3"
  },
  "language_info": {
   "codemirror_mode": {
    "name": "ipython",
    "version": 3
   },
   "file_extension": ".py",
   "mimetype": "text/x-python",
   "name": "python",
   "nbconvert_exporter": "python",
   "pygments_lexer": "ipython3",
   "version": "3.8.8"
  }
 },
 "nbformat": 4,
 "nbformat_minor": 5
}
