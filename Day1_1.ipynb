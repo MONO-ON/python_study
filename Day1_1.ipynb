{
 "cells": [
  {
   "cell_type": "markdown",
   "id": "1e7f5ce2",
   "metadata": {},
   "source": [
    "#### Python Version 확인하기\n",
    "- 명령어 콘솔 이용 (!)"
   ]
  },
  {
   "cell_type": "code",
   "execution_count": 40,
   "id": "04d6273d",
   "metadata": {},
   "outputs": [
    {
     "name": "stdout",
     "output_type": "stream",
     "text": [
      "Python 3.8.8\n"
     ]
    }
   ],
   "source": [
    "!python --version"
   ]
  },
  {
   "cell_type": "code",
   "execution_count": 41,
   "id": "bac49ba2",
   "metadata": {},
   "outputs": [],
   "source": [
    "import sys"
   ]
  },
  {
   "cell_type": "code",
   "execution_count": 42,
   "id": "200d6f62",
   "metadata": {},
   "outputs": [
    {
     "name": "stdout",
     "output_type": "stream",
     "text": [
      "3.8.8 (default, Apr 13 2021, 15:08:03) [MSC v.1916 64 bit (AMD64)]\n"
     ]
    }
   ],
   "source": [
    "print(sys.version)"
   ]
  },
  {
   "cell_type": "markdown",
   "id": "0a577cc5",
   "metadata": {},
   "source": [
    "# Day-1-1\n",
    "## 대구\n",
    "### IT교육원\n",
    "#### 강사: 문성혁"
   ]
  },
  {
   "cell_type": "markdown",
   "id": "94a4face",
   "metadata": {},
   "source": [
    "- Anaconda 설치\n",
    "- Jupyter Notebook 사용법"
   ]
  },
  {
   "cell_type": "code",
   "execution_count": 43,
   "id": "a558f7de",
   "metadata": {},
   "outputs": [
    {
     "name": "stdout",
     "output_type": "stream",
     "text": [
      "Overwriting helloworld.py\n"
     ]
    }
   ],
   "source": [
    "%%writefile helloworld.py\n",
    "\n",
    "print(\"Hello World!\")"
   ]
  },
  {
   "cell_type": "code",
   "execution_count": 44,
   "id": "847cebba",
   "metadata": {},
   "outputs": [],
   "source": [
    "import helloworld"
   ]
  },
  {
   "cell_type": "code",
   "execution_count": 45,
   "id": "2f4a70d5",
   "metadata": {},
   "outputs": [
    {
     "name": "stdout",
     "output_type": "stream",
     "text": [
      " C 드라이브의 볼륨에는 이름이 없습니다.\n",
      " 볼륨 일련 번호: F050-B4CC\n",
      "\n",
      " C:\\Users\\MONOGRAM\\python 디렉터리\n",
      "\n",
      "2021-07-28  오후 12:21    <DIR>          .\n",
      "2021-07-28  오후 12:21    <DIR>          ..\n",
      "2021-07-28  오전 09:13    <DIR>          .ipynb_checkpoints\n",
      "2021-07-28  오후 12:20    <DIR>          __pycache__\n",
      "2021-07-28  오후 12:21            38,632 Day1_1.ipynb\n",
      "2021-07-28  오후 12:21                25 helloworld.py\n",
      "               2개 파일              38,657 바이트\n",
      "               4개 디렉터리  160,855,912,448 바이트 남음\n"
     ]
    }
   ],
   "source": [
    "%ls"
   ]
  },
  {
   "cell_type": "code",
   "execution_count": 46,
   "id": "0635f12f",
   "metadata": {},
   "outputs": [
    {
     "name": "stdout",
     "output_type": "stream",
     "text": [
      "Hello World!\n"
     ]
    }
   ],
   "source": [
    "!python helloworld.py"
   ]
  },
  {
   "cell_type": "code",
   "execution_count": 47,
   "id": "8c4e99d8",
   "metadata": {},
   "outputs": [
    {
     "name": "stdout",
     "output_type": "stream",
     "text": [
      "Hello World!\n"
     ]
    }
   ],
   "source": [
    "%run helloworld.py"
   ]
  },
  {
   "cell_type": "code",
   "execution_count": 48,
   "id": "92e211b3",
   "metadata": {},
   "outputs": [],
   "source": [
    "import keyword"
   ]
  },
  {
   "cell_type": "code",
   "execution_count": 49,
   "id": "ed27a5bd",
   "metadata": {},
   "outputs": [
    {
     "data": {
      "text/plain": [
       "['__all__',\n",
       " '__builtins__',\n",
       " '__cached__',\n",
       " '__doc__',\n",
       " '__file__',\n",
       " '__loader__',\n",
       " '__name__',\n",
       " '__package__',\n",
       " '__spec__',\n",
       " 'iskeyword',\n",
       " 'kwlist']"
      ]
     },
     "execution_count": 49,
     "metadata": {},
     "output_type": "execute_result"
    }
   ],
   "source": [
    "dir(keyword)"
   ]
  },
  {
   "cell_type": "code",
   "execution_count": 50,
   "id": "341d9ca6",
   "metadata": {},
   "outputs": [
    {
     "data": {
      "text/plain": [
       "['False',\n",
       " 'None',\n",
       " 'True',\n",
       " 'and',\n",
       " 'as',\n",
       " 'assert',\n",
       " 'async',\n",
       " 'await',\n",
       " 'break',\n",
       " 'class',\n",
       " 'continue',\n",
       " 'def',\n",
       " 'del',\n",
       " 'elif',\n",
       " 'else',\n",
       " 'except',\n",
       " 'finally',\n",
       " 'for',\n",
       " 'from',\n",
       " 'global',\n",
       " 'if',\n",
       " 'import',\n",
       " 'in',\n",
       " 'is',\n",
       " 'lambda',\n",
       " 'nonlocal',\n",
       " 'not',\n",
       " 'or',\n",
       " 'pass',\n",
       " 'raise',\n",
       " 'return',\n",
       " 'try',\n",
       " 'while',\n",
       " 'with',\n",
       " 'yield']"
      ]
     },
     "execution_count": 50,
     "metadata": {},
     "output_type": "execute_result"
    }
   ],
   "source": [
    "keyword.kwlist"
   ]
  },
  {
   "cell_type": "code",
   "execution_count": 51,
   "id": "0d1f068d",
   "metadata": {},
   "outputs": [
    {
     "name": "stdout",
     "output_type": "stream",
     "text": [
      "['False', 'None', 'True', 'and', 'as', 'assert', 'async', 'await', 'break', 'class', 'continue', 'def', 'del', 'elif', 'else', 'except', 'finally', 'for', 'from', 'global', 'if', 'import', 'in', 'is', 'lambda', 'nonlocal', 'not', 'or', 'pass', 'raise', 'return', 'try', 'while', 'with', 'yield']\n"
     ]
    }
   ],
   "source": [
    "print (keyword.kwlist)"
   ]
  },
  {
   "cell_type": "code",
   "execution_count": 52,
   "id": "cf867a17",
   "metadata": {},
   "outputs": [
    {
     "data": {
      "text/plain": [
       "35"
      ]
     },
     "execution_count": 52,
     "metadata": {},
     "output_type": "execute_result"
    }
   ],
   "source": [
    "len(keyword.kwlist)"
   ]
  },
  {
   "cell_type": "code",
   "execution_count": 53,
   "id": "8fc1d713",
   "metadata": {},
   "outputs": [],
   "source": [
    "a = 100"
   ]
  },
  {
   "cell_type": "markdown",
   "id": "7887910f",
   "metadata": {},
   "source": [
    "#### 테스트\n",
    "\n",
    "- 모듈이 뭔지\n",
    "\n",
    ">첫 번째 문장  \n",
    "두 번째 문장\n",
    "- aa\n",
    "    + aa"
   ]
  },
  {
   "cell_type": "code",
   "execution_count": 54,
   "id": "a3690365",
   "metadata": {},
   "outputs": [
    {
     "data": {
      "text/plain": [
       "100"
      ]
     },
     "execution_count": 54,
     "metadata": {},
     "output_type": "execute_result"
    }
   ],
   "source": [
    "100"
   ]
  },
  {
   "cell_type": "markdown",
   "id": "b7ecc114",
   "metadata": {},
   "source": [
    "#### type\n",
    "\n",
    "- 객체"
   ]
  },
  {
   "cell_type": "code",
   "execution_count": 55,
   "id": "35d4ffb4",
   "metadata": {},
   "outputs": [
    {
     "data": {
      "text/plain": [
       "int"
      ]
     },
     "execution_count": 55,
     "metadata": {},
     "output_type": "execute_result"
    }
   ],
   "source": [
    "type(100)"
   ]
  },
  {
   "cell_type": "code",
   "execution_count": 56,
   "id": "4abee719",
   "metadata": {},
   "outputs": [
    {
     "data": {
      "text/plain": [
       "False"
      ]
     },
     "execution_count": 56,
     "metadata": {},
     "output_type": "execute_result"
    }
   ],
   "source": [
    "isinstance(100, bool)"
   ]
  },
  {
   "cell_type": "code",
   "execution_count": 57,
   "id": "228518b0",
   "metadata": {},
   "outputs": [
    {
     "data": {
      "text/plain": [
       "100"
      ]
     },
     "execution_count": 57,
     "metadata": {},
     "output_type": "execute_result"
    }
   ],
   "source": [
    "a"
   ]
  },
  {
   "cell_type": "code",
   "execution_count": 58,
   "id": "063130d3",
   "metadata": {},
   "outputs": [],
   "source": [
    "a = 100"
   ]
  },
  {
   "cell_type": "code",
   "execution_count": 59,
   "id": "346f19b6",
   "metadata": {},
   "outputs": [],
   "source": [
    "a = '200'"
   ]
  },
  {
   "cell_type": "code",
   "execution_count": 60,
   "id": "86d011a3",
   "metadata": {},
   "outputs": [
    {
     "data": {
      "text/plain": [
       "'200'"
      ]
     },
     "execution_count": 60,
     "metadata": {},
     "output_type": "execute_result"
    }
   ],
   "source": [
    "a"
   ]
  },
  {
   "cell_type": "code",
   "execution_count": 61,
   "id": "2aba9eb1",
   "metadata": {},
   "outputs": [
    {
     "data": {
      "text/plain": [
       "str"
      ]
     },
     "execution_count": 61,
     "metadata": {},
     "output_type": "execute_result"
    }
   ],
   "source": [
    "type(a)"
   ]
  },
  {
   "cell_type": "code",
   "execution_count": 62,
   "id": "24a943c0",
   "metadata": {},
   "outputs": [
    {
     "name": "stdout",
     "output_type": "stream",
     "text": [
      "2\n",
      "0\n",
      "0\n"
     ]
    }
   ],
   "source": [
    "for b in a:\n",
    "    print(b)"
   ]
  },
  {
   "cell_type": "code",
   "execution_count": 63,
   "id": "8830e327",
   "metadata": {},
   "outputs": [],
   "source": [
    "a = 100; b = 200; c = a + b"
   ]
  },
  {
   "cell_type": "code",
   "execution_count": 64,
   "id": "13b1a59f",
   "metadata": {},
   "outputs": [
    {
     "data": {
      "text/plain": [
       "(100, 200, 300)"
      ]
     },
     "execution_count": 64,
     "metadata": {},
     "output_type": "execute_result"
    }
   ],
   "source": [
    "a, b, c"
   ]
  },
  {
   "cell_type": "code",
   "execution_count": 65,
   "id": "40258635",
   "metadata": {},
   "outputs": [
    {
     "data": {
      "text/plain": [
       "{'__name__': '__main__',\n",
       " '__doc__': 'Module created for script run in IPython',\n",
       " '__package__': None,\n",
       " '__loader__': None,\n",
       " '__spec__': None,\n",
       " '__builtin__': <module 'builtins' (built-in)>,\n",
       " '__builtins__': <module 'builtins' (built-in)>,\n",
       " '_ih': ['',\n",
       "  \"get_ipython().system('python --version')\",\n",
       "  'import sys',\n",
       "  'print(sys.version)',\n",
       "  'get_ipython().run_cell_magic(\\'writefile\\', \\'helloworld.py\\', \\'\\\\nprint(\"Hello World!\")\\\\n\\')',\n",
       "  'import helloworld',\n",
       "  \"get_ipython().run_line_magic('ls', '')\",\n",
       "  \"get_ipython().system('ls')\",\n",
       "  \"get_ipython().system('python helloworld.py')\",\n",
       "  \"get_ipython().run_line_magic('run', 'helloworld.py')\",\n",
       "  'import keyword',\n",
       "  'dir(keyword)',\n",
       "  'keyword.kwlist',\n",
       "  'print (keyword.kwlist)',\n",
       "  'len(keyword.kwlist)',\n",
       "  'a = 100',\n",
       "  '100',\n",
       "  'type(100)',\n",
       "  'isinstance(100, bool)',\n",
       "  'a',\n",
       "  'a = 100',\n",
       "  \"a = '200'\",\n",
       "  'a',\n",
       "  'type(a)',\n",
       "  'for b in a:\\n    print(b)',\n",
       "  'a = 100; b = 200; c = a + b',\n",
       "  'a, b, c',\n",
       "  'globals()',\n",
       "  'locals()',\n",
       "  \"a = {\\n    'a' : 100,\\n    'b' : '200'\\n}\",\n",
       "  'a',\n",
       "  \"a['a']\",\n",
       "  \"a['b']\",\n",
       "  \"type(a['a'])\",\n",
       "  \"def test():\\n    global c = 100\\n    d = 200\\n    print(locals())\\n    print(c)\\n    print(locals()['c'])\\n    print(a)\",\n",
       "  'b = int(a)',\n",
       "  \"a = '100'\",\n",
       "  'b = int(a)',\n",
       "  'test()',\n",
       "  'def test2():\\n    print(locals())\\n    print(c)',\n",
       "  \"get_ipython().system('python --version')\",\n",
       "  'import sys',\n",
       "  'print(sys.version)',\n",
       "  'get_ipython().run_cell_magic(\\'writefile\\', \\'helloworld.py\\', \\'\\\\nprint(\"Hello World!\")\\\\n\\')',\n",
       "  'import helloworld',\n",
       "  \"get_ipython().run_line_magic('ls', '')\",\n",
       "  \"get_ipython().system('python helloworld.py')\",\n",
       "  \"get_ipython().run_line_magic('run', 'helloworld.py')\",\n",
       "  'import keyword',\n",
       "  'dir(keyword)',\n",
       "  'keyword.kwlist',\n",
       "  'print (keyword.kwlist)',\n",
       "  'len(keyword.kwlist)',\n",
       "  'a = 100',\n",
       "  '100',\n",
       "  'type(100)',\n",
       "  'isinstance(100, bool)',\n",
       "  'a',\n",
       "  'a = 100',\n",
       "  \"a = '200'\",\n",
       "  'a',\n",
       "  'type(a)',\n",
       "  'for b in a:\\n    print(b)',\n",
       "  'a = 100; b = 200; c = a + b',\n",
       "  'a, b, c',\n",
       "  'globals()'],\n",
       " '_oh': {11: ['__all__',\n",
       "   '__builtins__',\n",
       "   '__cached__',\n",
       "   '__doc__',\n",
       "   '__file__',\n",
       "   '__loader__',\n",
       "   '__name__',\n",
       "   '__package__',\n",
       "   '__spec__',\n",
       "   'iskeyword',\n",
       "   'kwlist'],\n",
       "  12: ['False',\n",
       "   'None',\n",
       "   'True',\n",
       "   'and',\n",
       "   'as',\n",
       "   'assert',\n",
       "   'async',\n",
       "   'await',\n",
       "   'break',\n",
       "   'class',\n",
       "   'continue',\n",
       "   'def',\n",
       "   'del',\n",
       "   'elif',\n",
       "   'else',\n",
       "   'except',\n",
       "   'finally',\n",
       "   'for',\n",
       "   'from',\n",
       "   'global',\n",
       "   'if',\n",
       "   'import',\n",
       "   'in',\n",
       "   'is',\n",
       "   'lambda',\n",
       "   'nonlocal',\n",
       "   'not',\n",
       "   'or',\n",
       "   'pass',\n",
       "   'raise',\n",
       "   'return',\n",
       "   'try',\n",
       "   'while',\n",
       "   'with',\n",
       "   'yield'],\n",
       "  14: 35,\n",
       "  16: 100,\n",
       "  17: int,\n",
       "  18: False,\n",
       "  19: 100,\n",
       "  22: '200',\n",
       "  23: str,\n",
       "  26: (100, 200, 300),\n",
       "  27: {...},\n",
       "  28: {...},\n",
       "  30: {'a': 100, 'b': '200'},\n",
       "  31: 100,\n",
       "  32: '200',\n",
       "  33: int,\n",
       "  49: ['__all__',\n",
       "   '__builtins__',\n",
       "   '__cached__',\n",
       "   '__doc__',\n",
       "   '__file__',\n",
       "   '__loader__',\n",
       "   '__name__',\n",
       "   '__package__',\n",
       "   '__spec__',\n",
       "   'iskeyword',\n",
       "   'kwlist'],\n",
       "  50: ['False',\n",
       "   'None',\n",
       "   'True',\n",
       "   'and',\n",
       "   'as',\n",
       "   'assert',\n",
       "   'async',\n",
       "   'await',\n",
       "   'break',\n",
       "   'class',\n",
       "   'continue',\n",
       "   'def',\n",
       "   'del',\n",
       "   'elif',\n",
       "   'else',\n",
       "   'except',\n",
       "   'finally',\n",
       "   'for',\n",
       "   'from',\n",
       "   'global',\n",
       "   'if',\n",
       "   'import',\n",
       "   'in',\n",
       "   'is',\n",
       "   'lambda',\n",
       "   'nonlocal',\n",
       "   'not',\n",
       "   'or',\n",
       "   'pass',\n",
       "   'raise',\n",
       "   'return',\n",
       "   'try',\n",
       "   'while',\n",
       "   'with',\n",
       "   'yield'],\n",
       "  52: 35,\n",
       "  54: 100,\n",
       "  55: int,\n",
       "  56: False,\n",
       "  57: 100,\n",
       "  60: '200',\n",
       "  61: str,\n",
       "  64: (100, 200, 300)},\n",
       " '_dh': ['C:\\\\Users\\\\MONOGRAM\\\\python'],\n",
       " 'In': ['',\n",
       "  \"get_ipython().system('python --version')\",\n",
       "  'import sys',\n",
       "  'print(sys.version)',\n",
       "  'get_ipython().run_cell_magic(\\'writefile\\', \\'helloworld.py\\', \\'\\\\nprint(\"Hello World!\")\\\\n\\')',\n",
       "  'import helloworld',\n",
       "  \"get_ipython().run_line_magic('ls', '')\",\n",
       "  \"get_ipython().system('ls')\",\n",
       "  \"get_ipython().system('python helloworld.py')\",\n",
       "  \"get_ipython().run_line_magic('run', 'helloworld.py')\",\n",
       "  'import keyword',\n",
       "  'dir(keyword)',\n",
       "  'keyword.kwlist',\n",
       "  'print (keyword.kwlist)',\n",
       "  'len(keyword.kwlist)',\n",
       "  'a = 100',\n",
       "  '100',\n",
       "  'type(100)',\n",
       "  'isinstance(100, bool)',\n",
       "  'a',\n",
       "  'a = 100',\n",
       "  \"a = '200'\",\n",
       "  'a',\n",
       "  'type(a)',\n",
       "  'for b in a:\\n    print(b)',\n",
       "  'a = 100; b = 200; c = a + b',\n",
       "  'a, b, c',\n",
       "  'globals()',\n",
       "  'locals()',\n",
       "  \"a = {\\n    'a' : 100,\\n    'b' : '200'\\n}\",\n",
       "  'a',\n",
       "  \"a['a']\",\n",
       "  \"a['b']\",\n",
       "  \"type(a['a'])\",\n",
       "  \"def test():\\n    global c = 100\\n    d = 200\\n    print(locals())\\n    print(c)\\n    print(locals()['c'])\\n    print(a)\",\n",
       "  'b = int(a)',\n",
       "  \"a = '100'\",\n",
       "  'b = int(a)',\n",
       "  'test()',\n",
       "  'def test2():\\n    print(locals())\\n    print(c)',\n",
       "  \"get_ipython().system('python --version')\",\n",
       "  'import sys',\n",
       "  'print(sys.version)',\n",
       "  'get_ipython().run_cell_magic(\\'writefile\\', \\'helloworld.py\\', \\'\\\\nprint(\"Hello World!\")\\\\n\\')',\n",
       "  'import helloworld',\n",
       "  \"get_ipython().run_line_magic('ls', '')\",\n",
       "  \"get_ipython().system('python helloworld.py')\",\n",
       "  \"get_ipython().run_line_magic('run', 'helloworld.py')\",\n",
       "  'import keyword',\n",
       "  'dir(keyword)',\n",
       "  'keyword.kwlist',\n",
       "  'print (keyword.kwlist)',\n",
       "  'len(keyword.kwlist)',\n",
       "  'a = 100',\n",
       "  '100',\n",
       "  'type(100)',\n",
       "  'isinstance(100, bool)',\n",
       "  'a',\n",
       "  'a = 100',\n",
       "  \"a = '200'\",\n",
       "  'a',\n",
       "  'type(a)',\n",
       "  'for b in a:\\n    print(b)',\n",
       "  'a = 100; b = 200; c = a + b',\n",
       "  'a, b, c',\n",
       "  'globals()'],\n",
       " 'Out': {11: ['__all__',\n",
       "   '__builtins__',\n",
       "   '__cached__',\n",
       "   '__doc__',\n",
       "   '__file__',\n",
       "   '__loader__',\n",
       "   '__name__',\n",
       "   '__package__',\n",
       "   '__spec__',\n",
       "   'iskeyword',\n",
       "   'kwlist'],\n",
       "  12: ['False',\n",
       "   'None',\n",
       "   'True',\n",
       "   'and',\n",
       "   'as',\n",
       "   'assert',\n",
       "   'async',\n",
       "   'await',\n",
       "   'break',\n",
       "   'class',\n",
       "   'continue',\n",
       "   'def',\n",
       "   'del',\n",
       "   'elif',\n",
       "   'else',\n",
       "   'except',\n",
       "   'finally',\n",
       "   'for',\n",
       "   'from',\n",
       "   'global',\n",
       "   'if',\n",
       "   'import',\n",
       "   'in',\n",
       "   'is',\n",
       "   'lambda',\n",
       "   'nonlocal',\n",
       "   'not',\n",
       "   'or',\n",
       "   'pass',\n",
       "   'raise',\n",
       "   'return',\n",
       "   'try',\n",
       "   'while',\n",
       "   'with',\n",
       "   'yield'],\n",
       "  14: 35,\n",
       "  16: 100,\n",
       "  17: int,\n",
       "  18: False,\n",
       "  19: 100,\n",
       "  22: '200',\n",
       "  23: str,\n",
       "  26: (100, 200, 300),\n",
       "  27: {...},\n",
       "  28: {...},\n",
       "  30: {'a': 100, 'b': '200'},\n",
       "  31: 100,\n",
       "  32: '200',\n",
       "  33: int,\n",
       "  49: ['__all__',\n",
       "   '__builtins__',\n",
       "   '__cached__',\n",
       "   '__doc__',\n",
       "   '__file__',\n",
       "   '__loader__',\n",
       "   '__name__',\n",
       "   '__package__',\n",
       "   '__spec__',\n",
       "   'iskeyword',\n",
       "   'kwlist'],\n",
       "  50: ['False',\n",
       "   'None',\n",
       "   'True',\n",
       "   'and',\n",
       "   'as',\n",
       "   'assert',\n",
       "   'async',\n",
       "   'await',\n",
       "   'break',\n",
       "   'class',\n",
       "   'continue',\n",
       "   'def',\n",
       "   'del',\n",
       "   'elif',\n",
       "   'else',\n",
       "   'except',\n",
       "   'finally',\n",
       "   'for',\n",
       "   'from',\n",
       "   'global',\n",
       "   'if',\n",
       "   'import',\n",
       "   'in',\n",
       "   'is',\n",
       "   'lambda',\n",
       "   'nonlocal',\n",
       "   'not',\n",
       "   'or',\n",
       "   'pass',\n",
       "   'raise',\n",
       "   'return',\n",
       "   'try',\n",
       "   'while',\n",
       "   'with',\n",
       "   'yield'],\n",
       "  52: 35,\n",
       "  54: 100,\n",
       "  55: int,\n",
       "  56: False,\n",
       "  57: 100,\n",
       "  60: '200',\n",
       "  61: str,\n",
       "  64: (100, 200, 300)},\n",
       " 'get_ipython': <bound method InteractiveShell.get_ipython of <ipykernel.zmqshell.ZMQInteractiveShell object at 0x000001A858E04C70>>,\n",
       " 'exit': <IPython.core.autocall.ZMQExitAutocall at 0x1a858e965e0>,\n",
       " 'quit': <IPython.core.autocall.ZMQExitAutocall at 0x1a858e965e0>,\n",
       " '_': (100, 200, 300),\n",
       " '__': str,\n",
       " '___': '200',\n",
       " '_i': 'a, b, c',\n",
       " '_ii': 'a = 100; b = 200; c = a + b',\n",
       " '_iii': 'for b in a:\\n    print(b)',\n",
       " '_i1': '!python --version',\n",
       " '_exit_code': 0,\n",
       " '_i2': 'import sys',\n",
       " 'sys': <module 'sys' (built-in)>,\n",
       " '_i3': 'print(sys.version)',\n",
       " '_i4': '%%writefile helloworld.py\\n\\nprint(\"Hello World!\")',\n",
       " '_i5': 'import helloworld',\n",
       " 'helloworld': <module 'helloworld' from 'C:\\\\Users\\\\MONOGRAM\\\\python\\\\helloworld.py'>,\n",
       " '_i6': '%ls',\n",
       " '_i7': '!ls',\n",
       " '_i8': '!python helloworld.py',\n",
       " '_i9': '%run helloworld.py',\n",
       " '__nonzero__': <function IPython.core.interactiveshell.InteractiveShell.new_main_mod.<locals>.<lambda>()>,\n",
       " '_i10': 'import keyword',\n",
       " 'keyword': <module 'keyword' from 'C:\\\\Users\\\\MONOGRAM\\\\anaconda3\\\\lib\\\\keyword.py'>,\n",
       " '_i11': 'dir(keyword)',\n",
       " '_11': ['__all__',\n",
       "  '__builtins__',\n",
       "  '__cached__',\n",
       "  '__doc__',\n",
       "  '__file__',\n",
       "  '__loader__',\n",
       "  '__name__',\n",
       "  '__package__',\n",
       "  '__spec__',\n",
       "  'iskeyword',\n",
       "  'kwlist'],\n",
       " '_i12': 'keyword.kwlist',\n",
       " '_12': ['False',\n",
       "  'None',\n",
       "  'True',\n",
       "  'and',\n",
       "  'as',\n",
       "  'assert',\n",
       "  'async',\n",
       "  'await',\n",
       "  'break',\n",
       "  'class',\n",
       "  'continue',\n",
       "  'def',\n",
       "  'del',\n",
       "  'elif',\n",
       "  'else',\n",
       "  'except',\n",
       "  'finally',\n",
       "  'for',\n",
       "  'from',\n",
       "  'global',\n",
       "  'if',\n",
       "  'import',\n",
       "  'in',\n",
       "  'is',\n",
       "  'lambda',\n",
       "  'nonlocal',\n",
       "  'not',\n",
       "  'or',\n",
       "  'pass',\n",
       "  'raise',\n",
       "  'return',\n",
       "  'try',\n",
       "  'while',\n",
       "  'with',\n",
       "  'yield'],\n",
       " '_i13': 'print (keyword.kwlist)',\n",
       " '_i14': 'len(keyword.kwlist)',\n",
       " '_14': 35,\n",
       " '_i15': 'a = 100',\n",
       " 'a': 100,\n",
       " '_i16': '100',\n",
       " '_16': 100,\n",
       " '_i17': 'type(100)',\n",
       " '_17': int,\n",
       " '_i18': 'isinstance(100, bool)',\n",
       " '_18': False,\n",
       " '_i19': 'a',\n",
       " '_19': 100,\n",
       " '_i20': 'a = 100',\n",
       " '_i21': \"a = '200'\",\n",
       " '_i22': 'a',\n",
       " '_22': '200',\n",
       " '_i23': 'type(a)',\n",
       " '_23': str,\n",
       " '_i24': 'for b in a:\\n    print(b)',\n",
       " 'b': 200,\n",
       " '_i25': 'a = 100; b = 200; c = a + b',\n",
       " 'c': 300,\n",
       " '_i26': 'a, b, c',\n",
       " '_26': (100, 200, 300),\n",
       " '_i27': 'globals()',\n",
       " '_27': {...},\n",
       " '_i28': 'locals()',\n",
       " '_28': {...},\n",
       " '_i29': \"a = {\\n    'a' : 100,\\n    'b' : '200'\\n}\",\n",
       " '_i30': 'a',\n",
       " '_30': {'a': 100, 'b': '200'},\n",
       " '_i31': \"a['a']\",\n",
       " '_31': 100,\n",
       " '_i32': \"a['b']\",\n",
       " '_32': '200',\n",
       " '_i33': \"type(a['a'])\",\n",
       " '_33': int,\n",
       " '_i34': \"def test():\\n    global c = 100\\n    d = 200\\n    print(locals())\\n    print(c)\\n    print(locals()['c'])\\n    print(a)\",\n",
       " '_i35': 'b = int(a)',\n",
       " '_i36': \"a = '100'\",\n",
       " '_i37': 'b = int(a)',\n",
       " '_i38': 'test()',\n",
       " '_i39': 'def test2():\\n    print(locals())\\n    print(c)',\n",
       " 'test2': <function __main__.test2()>,\n",
       " '_i40': '!python --version',\n",
       " '_i41': 'import sys',\n",
       " '_i42': 'print(sys.version)',\n",
       " '_i43': '%%writefile helloworld.py\\n\\nprint(\"Hello World!\")',\n",
       " '_i44': 'import helloworld',\n",
       " '_i45': '%ls',\n",
       " '_i46': '!python helloworld.py',\n",
       " '_i47': '%run helloworld.py',\n",
       " '_i48': 'import keyword',\n",
       " '_i49': 'dir(keyword)',\n",
       " '_49': ['__all__',\n",
       "  '__builtins__',\n",
       "  '__cached__',\n",
       "  '__doc__',\n",
       "  '__file__',\n",
       "  '__loader__',\n",
       "  '__name__',\n",
       "  '__package__',\n",
       "  '__spec__',\n",
       "  'iskeyword',\n",
       "  'kwlist'],\n",
       " '_i50': 'keyword.kwlist',\n",
       " '_50': ['False',\n",
       "  'None',\n",
       "  'True',\n",
       "  'and',\n",
       "  'as',\n",
       "  'assert',\n",
       "  'async',\n",
       "  'await',\n",
       "  'break',\n",
       "  'class',\n",
       "  'continue',\n",
       "  'def',\n",
       "  'del',\n",
       "  'elif',\n",
       "  'else',\n",
       "  'except',\n",
       "  'finally',\n",
       "  'for',\n",
       "  'from',\n",
       "  'global',\n",
       "  'if',\n",
       "  'import',\n",
       "  'in',\n",
       "  'is',\n",
       "  'lambda',\n",
       "  'nonlocal',\n",
       "  'not',\n",
       "  'or',\n",
       "  'pass',\n",
       "  'raise',\n",
       "  'return',\n",
       "  'try',\n",
       "  'while',\n",
       "  'with',\n",
       "  'yield'],\n",
       " '_i51': 'print (keyword.kwlist)',\n",
       " '_i52': 'len(keyword.kwlist)',\n",
       " '_52': 35,\n",
       " '_i53': 'a = 100',\n",
       " '_i54': '100',\n",
       " '_54': 100,\n",
       " '_i55': 'type(100)',\n",
       " '_55': int,\n",
       " '_i56': 'isinstance(100, bool)',\n",
       " '_56': False,\n",
       " '_i57': 'a',\n",
       " '_57': 100,\n",
       " '_i58': 'a = 100',\n",
       " '_i59': \"a = '200'\",\n",
       " '_i60': 'a',\n",
       " '_60': '200',\n",
       " '_i61': 'type(a)',\n",
       " '_61': str,\n",
       " '_i62': 'for b in a:\\n    print(b)',\n",
       " '_i63': 'a = 100; b = 200; c = a + b',\n",
       " '_i64': 'a, b, c',\n",
       " '_64': (100, 200, 300),\n",
       " '_i65': 'globals()'}"
      ]
     },
     "execution_count": 65,
     "metadata": {},
     "output_type": "execute_result"
    }
   ],
   "source": [
    "globals()"
   ]
  },
  {
   "cell_type": "code",
   "execution_count": 66,
   "id": "2a38a499",
   "metadata": {},
   "outputs": [
    {
     "data": {
      "text/plain": [
       "{'__name__': '__main__',\n",
       " '__doc__': 'Module created for script run in IPython',\n",
       " '__package__': None,\n",
       " '__loader__': None,\n",
       " '__spec__': None,\n",
       " '__builtin__': <module 'builtins' (built-in)>,\n",
       " '__builtins__': <module 'builtins' (built-in)>,\n",
       " '_ih': ['',\n",
       "  \"get_ipython().system('python --version')\",\n",
       "  'import sys',\n",
       "  'print(sys.version)',\n",
       "  'get_ipython().run_cell_magic(\\'writefile\\', \\'helloworld.py\\', \\'\\\\nprint(\"Hello World!\")\\\\n\\')',\n",
       "  'import helloworld',\n",
       "  \"get_ipython().run_line_magic('ls', '')\",\n",
       "  \"get_ipython().system('ls')\",\n",
       "  \"get_ipython().system('python helloworld.py')\",\n",
       "  \"get_ipython().run_line_magic('run', 'helloworld.py')\",\n",
       "  'import keyword',\n",
       "  'dir(keyword)',\n",
       "  'keyword.kwlist',\n",
       "  'print (keyword.kwlist)',\n",
       "  'len(keyword.kwlist)',\n",
       "  'a = 100',\n",
       "  '100',\n",
       "  'type(100)',\n",
       "  'isinstance(100, bool)',\n",
       "  'a',\n",
       "  'a = 100',\n",
       "  \"a = '200'\",\n",
       "  'a',\n",
       "  'type(a)',\n",
       "  'for b in a:\\n    print(b)',\n",
       "  'a = 100; b = 200; c = a + b',\n",
       "  'a, b, c',\n",
       "  'globals()',\n",
       "  'locals()',\n",
       "  \"a = {\\n    'a' : 100,\\n    'b' : '200'\\n}\",\n",
       "  'a',\n",
       "  \"a['a']\",\n",
       "  \"a['b']\",\n",
       "  \"type(a['a'])\",\n",
       "  \"def test():\\n    global c = 100\\n    d = 200\\n    print(locals())\\n    print(c)\\n    print(locals()['c'])\\n    print(a)\",\n",
       "  'b = int(a)',\n",
       "  \"a = '100'\",\n",
       "  'b = int(a)',\n",
       "  'test()',\n",
       "  'def test2():\\n    print(locals())\\n    print(c)',\n",
       "  \"get_ipython().system('python --version')\",\n",
       "  'import sys',\n",
       "  'print(sys.version)',\n",
       "  'get_ipython().run_cell_magic(\\'writefile\\', \\'helloworld.py\\', \\'\\\\nprint(\"Hello World!\")\\\\n\\')',\n",
       "  'import helloworld',\n",
       "  \"get_ipython().run_line_magic('ls', '')\",\n",
       "  \"get_ipython().system('python helloworld.py')\",\n",
       "  \"get_ipython().run_line_magic('run', 'helloworld.py')\",\n",
       "  'import keyword',\n",
       "  'dir(keyword)',\n",
       "  'keyword.kwlist',\n",
       "  'print (keyword.kwlist)',\n",
       "  'len(keyword.kwlist)',\n",
       "  'a = 100',\n",
       "  '100',\n",
       "  'type(100)',\n",
       "  'isinstance(100, bool)',\n",
       "  'a',\n",
       "  'a = 100',\n",
       "  \"a = '200'\",\n",
       "  'a',\n",
       "  'type(a)',\n",
       "  'for b in a:\\n    print(b)',\n",
       "  'a = 100; b = 200; c = a + b',\n",
       "  'a, b, c',\n",
       "  'globals()',\n",
       "  'locals()'],\n",
       " '_oh': {11: ['__all__',\n",
       "   '__builtins__',\n",
       "   '__cached__',\n",
       "   '__doc__',\n",
       "   '__file__',\n",
       "   '__loader__',\n",
       "   '__name__',\n",
       "   '__package__',\n",
       "   '__spec__',\n",
       "   'iskeyword',\n",
       "   'kwlist'],\n",
       "  12: ['False',\n",
       "   'None',\n",
       "   'True',\n",
       "   'and',\n",
       "   'as',\n",
       "   'assert',\n",
       "   'async',\n",
       "   'await',\n",
       "   'break',\n",
       "   'class',\n",
       "   'continue',\n",
       "   'def',\n",
       "   'del',\n",
       "   'elif',\n",
       "   'else',\n",
       "   'except',\n",
       "   'finally',\n",
       "   'for',\n",
       "   'from',\n",
       "   'global',\n",
       "   'if',\n",
       "   'import',\n",
       "   'in',\n",
       "   'is',\n",
       "   'lambda',\n",
       "   'nonlocal',\n",
       "   'not',\n",
       "   'or',\n",
       "   'pass',\n",
       "   'raise',\n",
       "   'return',\n",
       "   'try',\n",
       "   'while',\n",
       "   'with',\n",
       "   'yield'],\n",
       "  14: 35,\n",
       "  16: 100,\n",
       "  17: int,\n",
       "  18: False,\n",
       "  19: 100,\n",
       "  22: '200',\n",
       "  23: str,\n",
       "  26: (100, 200, 300),\n",
       "  27: {...},\n",
       "  28: {...},\n",
       "  30: {'a': 100, 'b': '200'},\n",
       "  31: 100,\n",
       "  32: '200',\n",
       "  33: int,\n",
       "  49: ['__all__',\n",
       "   '__builtins__',\n",
       "   '__cached__',\n",
       "   '__doc__',\n",
       "   '__file__',\n",
       "   '__loader__',\n",
       "   '__name__',\n",
       "   '__package__',\n",
       "   '__spec__',\n",
       "   'iskeyword',\n",
       "   'kwlist'],\n",
       "  50: ['False',\n",
       "   'None',\n",
       "   'True',\n",
       "   'and',\n",
       "   'as',\n",
       "   'assert',\n",
       "   'async',\n",
       "   'await',\n",
       "   'break',\n",
       "   'class',\n",
       "   'continue',\n",
       "   'def',\n",
       "   'del',\n",
       "   'elif',\n",
       "   'else',\n",
       "   'except',\n",
       "   'finally',\n",
       "   'for',\n",
       "   'from',\n",
       "   'global',\n",
       "   'if',\n",
       "   'import',\n",
       "   'in',\n",
       "   'is',\n",
       "   'lambda',\n",
       "   'nonlocal',\n",
       "   'not',\n",
       "   'or',\n",
       "   'pass',\n",
       "   'raise',\n",
       "   'return',\n",
       "   'try',\n",
       "   'while',\n",
       "   'with',\n",
       "   'yield'],\n",
       "  52: 35,\n",
       "  54: 100,\n",
       "  55: int,\n",
       "  56: False,\n",
       "  57: 100,\n",
       "  60: '200',\n",
       "  61: str,\n",
       "  64: (100, 200, 300),\n",
       "  65: {...}},\n",
       " '_dh': ['C:\\\\Users\\\\MONOGRAM\\\\python'],\n",
       " 'In': ['',\n",
       "  \"get_ipython().system('python --version')\",\n",
       "  'import sys',\n",
       "  'print(sys.version)',\n",
       "  'get_ipython().run_cell_magic(\\'writefile\\', \\'helloworld.py\\', \\'\\\\nprint(\"Hello World!\")\\\\n\\')',\n",
       "  'import helloworld',\n",
       "  \"get_ipython().run_line_magic('ls', '')\",\n",
       "  \"get_ipython().system('ls')\",\n",
       "  \"get_ipython().system('python helloworld.py')\",\n",
       "  \"get_ipython().run_line_magic('run', 'helloworld.py')\",\n",
       "  'import keyword',\n",
       "  'dir(keyword)',\n",
       "  'keyword.kwlist',\n",
       "  'print (keyword.kwlist)',\n",
       "  'len(keyword.kwlist)',\n",
       "  'a = 100',\n",
       "  '100',\n",
       "  'type(100)',\n",
       "  'isinstance(100, bool)',\n",
       "  'a',\n",
       "  'a = 100',\n",
       "  \"a = '200'\",\n",
       "  'a',\n",
       "  'type(a)',\n",
       "  'for b in a:\\n    print(b)',\n",
       "  'a = 100; b = 200; c = a + b',\n",
       "  'a, b, c',\n",
       "  'globals()',\n",
       "  'locals()',\n",
       "  \"a = {\\n    'a' : 100,\\n    'b' : '200'\\n}\",\n",
       "  'a',\n",
       "  \"a['a']\",\n",
       "  \"a['b']\",\n",
       "  \"type(a['a'])\",\n",
       "  \"def test():\\n    global c = 100\\n    d = 200\\n    print(locals())\\n    print(c)\\n    print(locals()['c'])\\n    print(a)\",\n",
       "  'b = int(a)',\n",
       "  \"a = '100'\",\n",
       "  'b = int(a)',\n",
       "  'test()',\n",
       "  'def test2():\\n    print(locals())\\n    print(c)',\n",
       "  \"get_ipython().system('python --version')\",\n",
       "  'import sys',\n",
       "  'print(sys.version)',\n",
       "  'get_ipython().run_cell_magic(\\'writefile\\', \\'helloworld.py\\', \\'\\\\nprint(\"Hello World!\")\\\\n\\')',\n",
       "  'import helloworld',\n",
       "  \"get_ipython().run_line_magic('ls', '')\",\n",
       "  \"get_ipython().system('python helloworld.py')\",\n",
       "  \"get_ipython().run_line_magic('run', 'helloworld.py')\",\n",
       "  'import keyword',\n",
       "  'dir(keyword)',\n",
       "  'keyword.kwlist',\n",
       "  'print (keyword.kwlist)',\n",
       "  'len(keyword.kwlist)',\n",
       "  'a = 100',\n",
       "  '100',\n",
       "  'type(100)',\n",
       "  'isinstance(100, bool)',\n",
       "  'a',\n",
       "  'a = 100',\n",
       "  \"a = '200'\",\n",
       "  'a',\n",
       "  'type(a)',\n",
       "  'for b in a:\\n    print(b)',\n",
       "  'a = 100; b = 200; c = a + b',\n",
       "  'a, b, c',\n",
       "  'globals()',\n",
       "  'locals()'],\n",
       " 'Out': {11: ['__all__',\n",
       "   '__builtins__',\n",
       "   '__cached__',\n",
       "   '__doc__',\n",
       "   '__file__',\n",
       "   '__loader__',\n",
       "   '__name__',\n",
       "   '__package__',\n",
       "   '__spec__',\n",
       "   'iskeyword',\n",
       "   'kwlist'],\n",
       "  12: ['False',\n",
       "   'None',\n",
       "   'True',\n",
       "   'and',\n",
       "   'as',\n",
       "   'assert',\n",
       "   'async',\n",
       "   'await',\n",
       "   'break',\n",
       "   'class',\n",
       "   'continue',\n",
       "   'def',\n",
       "   'del',\n",
       "   'elif',\n",
       "   'else',\n",
       "   'except',\n",
       "   'finally',\n",
       "   'for',\n",
       "   'from',\n",
       "   'global',\n",
       "   'if',\n",
       "   'import',\n",
       "   'in',\n",
       "   'is',\n",
       "   'lambda',\n",
       "   'nonlocal',\n",
       "   'not',\n",
       "   'or',\n",
       "   'pass',\n",
       "   'raise',\n",
       "   'return',\n",
       "   'try',\n",
       "   'while',\n",
       "   'with',\n",
       "   'yield'],\n",
       "  14: 35,\n",
       "  16: 100,\n",
       "  17: int,\n",
       "  18: False,\n",
       "  19: 100,\n",
       "  22: '200',\n",
       "  23: str,\n",
       "  26: (100, 200, 300),\n",
       "  27: {...},\n",
       "  28: {...},\n",
       "  30: {'a': 100, 'b': '200'},\n",
       "  31: 100,\n",
       "  32: '200',\n",
       "  33: int,\n",
       "  49: ['__all__',\n",
       "   '__builtins__',\n",
       "   '__cached__',\n",
       "   '__doc__',\n",
       "   '__file__',\n",
       "   '__loader__',\n",
       "   '__name__',\n",
       "   '__package__',\n",
       "   '__spec__',\n",
       "   'iskeyword',\n",
       "   'kwlist'],\n",
       "  50: ['False',\n",
       "   'None',\n",
       "   'True',\n",
       "   'and',\n",
       "   'as',\n",
       "   'assert',\n",
       "   'async',\n",
       "   'await',\n",
       "   'break',\n",
       "   'class',\n",
       "   'continue',\n",
       "   'def',\n",
       "   'del',\n",
       "   'elif',\n",
       "   'else',\n",
       "   'except',\n",
       "   'finally',\n",
       "   'for',\n",
       "   'from',\n",
       "   'global',\n",
       "   'if',\n",
       "   'import',\n",
       "   'in',\n",
       "   'is',\n",
       "   'lambda',\n",
       "   'nonlocal',\n",
       "   'not',\n",
       "   'or',\n",
       "   'pass',\n",
       "   'raise',\n",
       "   'return',\n",
       "   'try',\n",
       "   'while',\n",
       "   'with',\n",
       "   'yield'],\n",
       "  52: 35,\n",
       "  54: 100,\n",
       "  55: int,\n",
       "  56: False,\n",
       "  57: 100,\n",
       "  60: '200',\n",
       "  61: str,\n",
       "  64: (100, 200, 300),\n",
       "  65: {...}},\n",
       " 'get_ipython': <bound method InteractiveShell.get_ipython of <ipykernel.zmqshell.ZMQInteractiveShell object at 0x000001A858E04C70>>,\n",
       " 'exit': <IPython.core.autocall.ZMQExitAutocall at 0x1a858e965e0>,\n",
       " 'quit': <IPython.core.autocall.ZMQExitAutocall at 0x1a858e965e0>,\n",
       " '_': {...},\n",
       " '__': (100, 200, 300),\n",
       " '___': str,\n",
       " '_i': 'globals()',\n",
       " '_ii': 'a, b, c',\n",
       " '_iii': 'a = 100; b = 200; c = a + b',\n",
       " '_i1': '!python --version',\n",
       " '_exit_code': 0,\n",
       " '_i2': 'import sys',\n",
       " 'sys': <module 'sys' (built-in)>,\n",
       " '_i3': 'print(sys.version)',\n",
       " '_i4': '%%writefile helloworld.py\\n\\nprint(\"Hello World!\")',\n",
       " '_i5': 'import helloworld',\n",
       " 'helloworld': <module 'helloworld' from 'C:\\\\Users\\\\MONOGRAM\\\\python\\\\helloworld.py'>,\n",
       " '_i6': '%ls',\n",
       " '_i7': '!ls',\n",
       " '_i8': '!python helloworld.py',\n",
       " '_i9': '%run helloworld.py',\n",
       " '__nonzero__': <function IPython.core.interactiveshell.InteractiveShell.new_main_mod.<locals>.<lambda>()>,\n",
       " '_i10': 'import keyword',\n",
       " 'keyword': <module 'keyword' from 'C:\\\\Users\\\\MONOGRAM\\\\anaconda3\\\\lib\\\\keyword.py'>,\n",
       " '_i11': 'dir(keyword)',\n",
       " '_11': ['__all__',\n",
       "  '__builtins__',\n",
       "  '__cached__',\n",
       "  '__doc__',\n",
       "  '__file__',\n",
       "  '__loader__',\n",
       "  '__name__',\n",
       "  '__package__',\n",
       "  '__spec__',\n",
       "  'iskeyword',\n",
       "  'kwlist'],\n",
       " '_i12': 'keyword.kwlist',\n",
       " '_12': ['False',\n",
       "  'None',\n",
       "  'True',\n",
       "  'and',\n",
       "  'as',\n",
       "  'assert',\n",
       "  'async',\n",
       "  'await',\n",
       "  'break',\n",
       "  'class',\n",
       "  'continue',\n",
       "  'def',\n",
       "  'del',\n",
       "  'elif',\n",
       "  'else',\n",
       "  'except',\n",
       "  'finally',\n",
       "  'for',\n",
       "  'from',\n",
       "  'global',\n",
       "  'if',\n",
       "  'import',\n",
       "  'in',\n",
       "  'is',\n",
       "  'lambda',\n",
       "  'nonlocal',\n",
       "  'not',\n",
       "  'or',\n",
       "  'pass',\n",
       "  'raise',\n",
       "  'return',\n",
       "  'try',\n",
       "  'while',\n",
       "  'with',\n",
       "  'yield'],\n",
       " '_i13': 'print (keyword.kwlist)',\n",
       " '_i14': 'len(keyword.kwlist)',\n",
       " '_14': 35,\n",
       " '_i15': 'a = 100',\n",
       " 'a': 100,\n",
       " '_i16': '100',\n",
       " '_16': 100,\n",
       " '_i17': 'type(100)',\n",
       " '_17': int,\n",
       " '_i18': 'isinstance(100, bool)',\n",
       " '_18': False,\n",
       " '_i19': 'a',\n",
       " '_19': 100,\n",
       " '_i20': 'a = 100',\n",
       " '_i21': \"a = '200'\",\n",
       " '_i22': 'a',\n",
       " '_22': '200',\n",
       " '_i23': 'type(a)',\n",
       " '_23': str,\n",
       " '_i24': 'for b in a:\\n    print(b)',\n",
       " 'b': 200,\n",
       " '_i25': 'a = 100; b = 200; c = a + b',\n",
       " 'c': 300,\n",
       " '_i26': 'a, b, c',\n",
       " '_26': (100, 200, 300),\n",
       " '_i27': 'globals()',\n",
       " '_27': {...},\n",
       " '_i28': 'locals()',\n",
       " '_28': {...},\n",
       " '_i29': \"a = {\\n    'a' : 100,\\n    'b' : '200'\\n}\",\n",
       " '_i30': 'a',\n",
       " '_30': {'a': 100, 'b': '200'},\n",
       " '_i31': \"a['a']\",\n",
       " '_31': 100,\n",
       " '_i32': \"a['b']\",\n",
       " '_32': '200',\n",
       " '_i33': \"type(a['a'])\",\n",
       " '_33': int,\n",
       " '_i34': \"def test():\\n    global c = 100\\n    d = 200\\n    print(locals())\\n    print(c)\\n    print(locals()['c'])\\n    print(a)\",\n",
       " '_i35': 'b = int(a)',\n",
       " '_i36': \"a = '100'\",\n",
       " '_i37': 'b = int(a)',\n",
       " '_i38': 'test()',\n",
       " '_i39': 'def test2():\\n    print(locals())\\n    print(c)',\n",
       " 'test2': <function __main__.test2()>,\n",
       " '_i40': '!python --version',\n",
       " '_i41': 'import sys',\n",
       " '_i42': 'print(sys.version)',\n",
       " '_i43': '%%writefile helloworld.py\\n\\nprint(\"Hello World!\")',\n",
       " '_i44': 'import helloworld',\n",
       " '_i45': '%ls',\n",
       " '_i46': '!python helloworld.py',\n",
       " '_i47': '%run helloworld.py',\n",
       " '_i48': 'import keyword',\n",
       " '_i49': 'dir(keyword)',\n",
       " '_49': ['__all__',\n",
       "  '__builtins__',\n",
       "  '__cached__',\n",
       "  '__doc__',\n",
       "  '__file__',\n",
       "  '__loader__',\n",
       "  '__name__',\n",
       "  '__package__',\n",
       "  '__spec__',\n",
       "  'iskeyword',\n",
       "  'kwlist'],\n",
       " '_i50': 'keyword.kwlist',\n",
       " '_50': ['False',\n",
       "  'None',\n",
       "  'True',\n",
       "  'and',\n",
       "  'as',\n",
       "  'assert',\n",
       "  'async',\n",
       "  'await',\n",
       "  'break',\n",
       "  'class',\n",
       "  'continue',\n",
       "  'def',\n",
       "  'del',\n",
       "  'elif',\n",
       "  'else',\n",
       "  'except',\n",
       "  'finally',\n",
       "  'for',\n",
       "  'from',\n",
       "  'global',\n",
       "  'if',\n",
       "  'import',\n",
       "  'in',\n",
       "  'is',\n",
       "  'lambda',\n",
       "  'nonlocal',\n",
       "  'not',\n",
       "  'or',\n",
       "  'pass',\n",
       "  'raise',\n",
       "  'return',\n",
       "  'try',\n",
       "  'while',\n",
       "  'with',\n",
       "  'yield'],\n",
       " '_i51': 'print (keyword.kwlist)',\n",
       " '_i52': 'len(keyword.kwlist)',\n",
       " '_52': 35,\n",
       " '_i53': 'a = 100',\n",
       " '_i54': '100',\n",
       " '_54': 100,\n",
       " '_i55': 'type(100)',\n",
       " '_55': int,\n",
       " '_i56': 'isinstance(100, bool)',\n",
       " '_56': False,\n",
       " '_i57': 'a',\n",
       " '_57': 100,\n",
       " '_i58': 'a = 100',\n",
       " '_i59': \"a = '200'\",\n",
       " '_i60': 'a',\n",
       " '_60': '200',\n",
       " '_i61': 'type(a)',\n",
       " '_61': str,\n",
       " '_i62': 'for b in a:\\n    print(b)',\n",
       " '_i63': 'a = 100; b = 200; c = a + b',\n",
       " '_i64': 'a, b, c',\n",
       " '_64': (100, 200, 300),\n",
       " '_i65': 'globals()',\n",
       " '_65': {...},\n",
       " '_i66': 'locals()'}"
      ]
     },
     "execution_count": 66,
     "metadata": {},
     "output_type": "execute_result"
    }
   ],
   "source": [
    "locals()"
   ]
  },
  {
   "cell_type": "code",
   "execution_count": 67,
   "id": "e9b65640",
   "metadata": {},
   "outputs": [],
   "source": [
    "a = {\n",
    "    'a' : 100,\n",
    "    'b' : '200'\n",
    "}"
   ]
  },
  {
   "cell_type": "code",
   "execution_count": 68,
   "id": "db67cc95",
   "metadata": {},
   "outputs": [
    {
     "data": {
      "text/plain": [
       "{'a': 100, 'b': '200'}"
      ]
     },
     "execution_count": 68,
     "metadata": {},
     "output_type": "execute_result"
    }
   ],
   "source": [
    "a"
   ]
  },
  {
   "cell_type": "code",
   "execution_count": 69,
   "id": "e242bab2",
   "metadata": {},
   "outputs": [
    {
     "data": {
      "text/plain": [
       "100"
      ]
     },
     "execution_count": 69,
     "metadata": {},
     "output_type": "execute_result"
    }
   ],
   "source": [
    "a['a']"
   ]
  },
  {
   "cell_type": "code",
   "execution_count": 70,
   "id": "b6b66ef1",
   "metadata": {},
   "outputs": [
    {
     "data": {
      "text/plain": [
       "'200'"
      ]
     },
     "execution_count": 70,
     "metadata": {},
     "output_type": "execute_result"
    }
   ],
   "source": [
    "a['b']"
   ]
  },
  {
   "cell_type": "code",
   "execution_count": 71,
   "id": "7b72ea66",
   "metadata": {},
   "outputs": [
    {
     "data": {
      "text/plain": [
       "int"
      ]
     },
     "execution_count": 71,
     "metadata": {},
     "output_type": "execute_result"
    }
   ],
   "source": [
    "type(a['a'])"
   ]
  },
  {
   "cell_type": "code",
   "execution_count": 79,
   "id": "fdb8983b",
   "metadata": {},
   "outputs": [
    {
     "ename": "SyntaxError",
     "evalue": "invalid syntax (<ipython-input-79-9f9c39d219a6>, line 2)",
     "output_type": "error",
     "traceback": [
      "\u001b[1;36m  File \u001b[1;32m\"<ipython-input-79-9f9c39d219a6>\"\u001b[1;36m, line \u001b[1;32m2\u001b[0m\n\u001b[1;33m    global c = 100\u001b[0m\n\u001b[1;37m             ^\u001b[0m\n\u001b[1;31mSyntaxError\u001b[0m\u001b[1;31m:\u001b[0m invalid syntax\n"
     ]
    }
   ],
   "source": [
    "def test():\n",
    "    global c = 100\n",
    "    d = 200\n",
    "    print(locals())\n",
    "    print(c)\n",
    "    print(locals()['c'])\n",
    "    print(a)"
   ]
  },
  {
   "cell_type": "code",
   "execution_count": 80,
   "id": "5902ba90",
   "metadata": {},
   "outputs": [
    {
     "name": "stdout",
     "output_type": "stream",
     "text": [
      "{'c': 100, 'd': 200}\n",
      "100\n",
      "100\n",
      "{'a': 100, 'b': '200'}\n"
     ]
    }
   ],
   "source": [
    "test()"
   ]
  },
  {
   "cell_type": "code",
   "execution_count": 81,
   "id": "e2800068",
   "metadata": {},
   "outputs": [],
   "source": [
    "def test2():\n",
    "    print(locals())\n",
    "    print(c)"
   ]
  },
  {
   "cell_type": "code",
   "execution_count": 82,
   "id": "843a1134",
   "metadata": {},
   "outputs": [
    {
     "name": "stdout",
     "output_type": "stream",
     "text": [
      "{}\n",
      "300\n"
     ]
    }
   ],
   "source": [
    "test2()"
   ]
  },
  {
   "cell_type": "code",
   "execution_count": 83,
   "id": "3821aa8b",
   "metadata": {},
   "outputs": [
    {
     "data": {
      "text/plain": [
       "<function __main__.test()>"
      ]
     },
     "execution_count": 83,
     "metadata": {},
     "output_type": "execute_result"
    }
   ],
   "source": [
    "globals()['test']"
   ]
  },
  {
   "cell_type": "markdown",
   "id": "732baac0",
   "metadata": {},
   "source": [
    "#### Class"
   ]
  },
  {
   "cell_type": "code",
   "execution_count": 84,
   "id": "0eda92ea",
   "metadata": {},
   "outputs": [],
   "source": [
    "class Person:\n",
    "    def __init__(self, height, weight, age, name):\n",
    "        self.height:int = height\n",
    "        self.weight = weight\n",
    "        self.age = age\n",
    "        self.name = name\n",
    "    \n",
    "    def say_korean(self):\n",
    "        print(\"한국어 할 수 있습니다.\")"
   ]
  },
  {
   "cell_type": "code",
   "execution_count": 85,
   "id": "71635c50",
   "metadata": {},
   "outputs": [],
   "source": [
    "def say_korean():\n",
    "    print(\"한국어\")"
   ]
  },
  {
   "cell_type": "code",
   "execution_count": 86,
   "id": "f1e921ff",
   "metadata": {},
   "outputs": [
    {
     "name": "stdout",
     "output_type": "stream",
     "text": [
      "한국어\n"
     ]
    }
   ],
   "source": [
    "moon = Person(\"165\", 70, 35, '문성혁')\n",
    "say_korean()"
   ]
  },
  {
   "cell_type": "code",
   "execution_count": 87,
   "id": "75d953f8",
   "metadata": {},
   "outputs": [
    {
     "data": {
      "text/plain": [
       "<__main__.Person at 0x1a858eb79d0>"
      ]
     },
     "execution_count": 87,
     "metadata": {},
     "output_type": "execute_result"
    }
   ],
   "source": [
    "moon"
   ]
  },
  {
   "cell_type": "code",
   "execution_count": 88,
   "id": "68509345",
   "metadata": {},
   "outputs": [
    {
     "name": "stdout",
     "output_type": "stream",
     "text": [
      "['__class__', '__delattr__', '__dict__', '__dir__', '__doc__', '__eq__', '__format__', '__ge__', '__getattribute__', '__gt__', '__hash__', '__init__', '__init_subclass__', '__le__', '__lt__', '__module__', '__ne__', '__new__', '__reduce__', '__reduce_ex__', '__repr__', '__setattr__', '__sizeof__', '__str__', '__subclasshook__', '__weakref__', 'age', 'height', 'name', 'say_korean', 'weight']\n"
     ]
    }
   ],
   "source": [
    "print(dir(moon))"
   ]
  },
  {
   "cell_type": "code",
   "execution_count": 89,
   "id": "5cc859fc",
   "metadata": {},
   "outputs": [
    {
     "name": "stdout",
     "output_type": "stream",
     "text": [
      "한국어 할 수 있습니다.\n"
     ]
    }
   ],
   "source": [
    "moon.say_korean()"
   ]
  },
  {
   "cell_type": "code",
   "execution_count": 90,
   "id": "1e9e5ab0",
   "metadata": {},
   "outputs": [
    {
     "data": {
      "text/plain": [
       "str"
      ]
     },
     "execution_count": 90,
     "metadata": {},
     "output_type": "execute_result"
    }
   ],
   "source": [
    "type(moon.height)"
   ]
  },
  {
   "cell_type": "code",
   "execution_count": 91,
   "id": "58e85424",
   "metadata": {
    "scrolled": true
   },
   "outputs": [
    {
     "data": {
      "text/plain": [
       "'문성혁'"
      ]
     },
     "execution_count": 91,
     "metadata": {},
     "output_type": "execute_result"
    }
   ],
   "source": [
    "moon.name"
   ]
  },
  {
   "cell_type": "markdown",
   "id": "4e48c6e9",
   "metadata": {},
   "source": [
    "# 내장 자료형\n",
    "#### builtin data type\n",
    "\n",
    "- 파이썬 내부적으로 가지는 자료형은 숫자, 문자열, 리스트, 튜플, 딕셔너리, 집합 등"
   ]
  },
  {
   "cell_type": "code",
   "execution_count": 92,
   "id": "5521e4a2",
   "metadata": {},
   "outputs": [
    {
     "data": {
      "text/plain": [
       "<module 'builtins' (built-in)>"
      ]
     },
     "execution_count": 92,
     "metadata": {},
     "output_type": "execute_result"
    }
   ],
   "source": [
    "__builtins__"
   ]
  },
  {
   "cell_type": "code",
   "execution_count": 93,
   "id": "18d827e3",
   "metadata": {},
   "outputs": [
    {
     "data": {
      "text/plain": [
       "{'__name__': 'builtins',\n",
       " '__doc__': \"Built-in functions, exceptions, and other objects.\\n\\nNoteworthy: None is the `nil' object; Ellipsis represents `...' in slices.\",\n",
       " '__package__': '',\n",
       " '__loader__': _frozen_importlib.BuiltinImporter,\n",
       " '__spec__': ModuleSpec(name='builtins', loader=<class '_frozen_importlib.BuiltinImporter'>),\n",
       " '__build_class__': <function __build_class__>,\n",
       " '__import__': <function __import__>,\n",
       " 'abs': <function abs(x, /)>,\n",
       " 'all': <function all(iterable, /)>,\n",
       " 'any': <function any(iterable, /)>,\n",
       " 'ascii': <function ascii(obj, /)>,\n",
       " 'bin': <function bin(number, /)>,\n",
       " 'breakpoint': <function breakpoint>,\n",
       " 'callable': <function callable(obj, /)>,\n",
       " 'chr': <function chr(i, /)>,\n",
       " 'compile': <function compile(source, filename, mode, flags=0, dont_inherit=False, optimize=-1, *, _feature_version=-1)>,\n",
       " 'delattr': <function delattr(obj, name, /)>,\n",
       " 'dir': <function dir>,\n",
       " 'divmod': <function divmod(x, y, /)>,\n",
       " 'eval': <function eval(source, globals=None, locals=None, /)>,\n",
       " 'exec': <function exec(source, globals=None, locals=None, /)>,\n",
       " 'format': <function format(value, format_spec='', /)>,\n",
       " 'getattr': <function getattr>,\n",
       " 'globals': <function globals()>,\n",
       " 'hasattr': <function hasattr(obj, name, /)>,\n",
       " 'hash': <function hash(obj, /)>,\n",
       " 'hex': <function hex(number, /)>,\n",
       " 'id': <function id(obj, /)>,\n",
       " 'input': <bound method Kernel.raw_input of <ipykernel.ipkernel.IPythonKernel object at 0x000001A858E4E700>>,\n",
       " 'isinstance': <function isinstance(obj, class_or_tuple, /)>,\n",
       " 'issubclass': <function issubclass(cls, class_or_tuple, /)>,\n",
       " 'iter': <function iter>,\n",
       " 'len': <function len(obj, /)>,\n",
       " 'locals': <function locals()>,\n",
       " 'max': <function max>,\n",
       " 'min': <function min>,\n",
       " 'next': <function next>,\n",
       " 'oct': <function oct(number, /)>,\n",
       " 'ord': <function ord(c, /)>,\n",
       " 'pow': <function pow(base, exp, mod=None)>,\n",
       " 'print': <function print>,\n",
       " 'repr': <function repr(obj, /)>,\n",
       " 'round': <function round(number, ndigits=None)>,\n",
       " 'setattr': <function setattr(obj, name, value, /)>,\n",
       " 'sorted': <function sorted(iterable, /, *, key=None, reverse=False)>,\n",
       " 'sum': <function sum(iterable, /, start=0)>,\n",
       " 'vars': <function vars>,\n",
       " 'None': None,\n",
       " 'Ellipsis': Ellipsis,\n",
       " 'NotImplemented': NotImplemented,\n",
       " 'False': False,\n",
       " 'True': True,\n",
       " 'bool': bool,\n",
       " 'memoryview': memoryview,\n",
       " 'bytearray': bytearray,\n",
       " 'bytes': bytes,\n",
       " 'classmethod': classmethod,\n",
       " 'complex': complex,\n",
       " 'dict': dict,\n",
       " 'enumerate': enumerate,\n",
       " 'filter': filter,\n",
       " 'float': float,\n",
       " 'frozenset': frozenset,\n",
       " 'property': property,\n",
       " 'int': int,\n",
       " 'list': list,\n",
       " 'map': map,\n",
       " 'object': object,\n",
       " 'range': range,\n",
       " 'reversed': reversed,\n",
       " 'set': set,\n",
       " 'slice': slice,\n",
       " 'staticmethod': staticmethod,\n",
       " 'str': str,\n",
       " 'super': super,\n",
       " 'tuple': tuple,\n",
       " 'type': type,\n",
       " 'zip': zip,\n",
       " '__debug__': True,\n",
       " 'BaseException': BaseException,\n",
       " 'Exception': Exception,\n",
       " 'TypeError': TypeError,\n",
       " 'StopAsyncIteration': StopAsyncIteration,\n",
       " 'StopIteration': StopIteration,\n",
       " 'GeneratorExit': GeneratorExit,\n",
       " 'SystemExit': SystemExit,\n",
       " 'KeyboardInterrupt': KeyboardInterrupt,\n",
       " 'ImportError': ImportError,\n",
       " 'ModuleNotFoundError': ModuleNotFoundError,\n",
       " 'OSError': OSError,\n",
       " 'EnvironmentError': OSError,\n",
       " 'IOError': OSError,\n",
       " 'WindowsError': OSError,\n",
       " 'EOFError': EOFError,\n",
       " 'RuntimeError': RuntimeError,\n",
       " 'RecursionError': RecursionError,\n",
       " 'NotImplementedError': NotImplementedError,\n",
       " 'NameError': NameError,\n",
       " 'UnboundLocalError': UnboundLocalError,\n",
       " 'AttributeError': AttributeError,\n",
       " 'SyntaxError': SyntaxError,\n",
       " 'IndentationError': IndentationError,\n",
       " 'TabError': TabError,\n",
       " 'LookupError': LookupError,\n",
       " 'IndexError': IndexError,\n",
       " 'KeyError': KeyError,\n",
       " 'ValueError': ValueError,\n",
       " 'UnicodeError': UnicodeError,\n",
       " 'UnicodeEncodeError': UnicodeEncodeError,\n",
       " 'UnicodeDecodeError': UnicodeDecodeError,\n",
       " 'UnicodeTranslateError': UnicodeTranslateError,\n",
       " 'AssertionError': AssertionError,\n",
       " 'ArithmeticError': ArithmeticError,\n",
       " 'FloatingPointError': FloatingPointError,\n",
       " 'OverflowError': OverflowError,\n",
       " 'ZeroDivisionError': ZeroDivisionError,\n",
       " 'SystemError': SystemError,\n",
       " 'ReferenceError': ReferenceError,\n",
       " 'MemoryError': MemoryError,\n",
       " 'BufferError': BufferError,\n",
       " 'Warning': Warning,\n",
       " 'UserWarning': UserWarning,\n",
       " 'DeprecationWarning': DeprecationWarning,\n",
       " 'PendingDeprecationWarning': PendingDeprecationWarning,\n",
       " 'SyntaxWarning': SyntaxWarning,\n",
       " 'RuntimeWarning': RuntimeWarning,\n",
       " 'FutureWarning': FutureWarning,\n",
       " 'ImportWarning': ImportWarning,\n",
       " 'UnicodeWarning': UnicodeWarning,\n",
       " 'BytesWarning': BytesWarning,\n",
       " 'ResourceWarning': ResourceWarning,\n",
       " 'ConnectionError': ConnectionError,\n",
       " 'BlockingIOError': BlockingIOError,\n",
       " 'BrokenPipeError': BrokenPipeError,\n",
       " 'ChildProcessError': ChildProcessError,\n",
       " 'ConnectionAbortedError': ConnectionAbortedError,\n",
       " 'ConnectionRefusedError': ConnectionRefusedError,\n",
       " 'ConnectionResetError': ConnectionResetError,\n",
       " 'FileExistsError': FileExistsError,\n",
       " 'FileNotFoundError': FileNotFoundError,\n",
       " 'IsADirectoryError': IsADirectoryError,\n",
       " 'NotADirectoryError': NotADirectoryError,\n",
       " 'InterruptedError': InterruptedError,\n",
       " 'PermissionError': PermissionError,\n",
       " 'ProcessLookupError': ProcessLookupError,\n",
       " 'TimeoutError': TimeoutError,\n",
       " 'open': <function io.open(file, mode='r', buffering=-1, encoding=None, errors=None, newline=None, closefd=True, opener=None)>,\n",
       " 'copyright': Copyright (c) 2001-2021 Python Software Foundation.\n",
       " All Rights Reserved.\n",
       " \n",
       " Copyright (c) 2000 BeOpen.com.\n",
       " All Rights Reserved.\n",
       " \n",
       " Copyright (c) 1995-2001 Corporation for National Research Initiatives.\n",
       " All Rights Reserved.\n",
       " \n",
       " Copyright (c) 1991-1995 Stichting Mathematisch Centrum, Amsterdam.\n",
       " All Rights Reserved.,\n",
       " 'credits':     Thanks to CWI, CNRI, BeOpen.com, Zope Corporation and a cast of thousands\n",
       "     for supporting Python development.  See www.python.org for more information.,\n",
       " 'license': See https://www.python.org/psf/license/,\n",
       " 'help': Type help() for interactive help, or help(object) for help about object.,\n",
       " '__IPYTHON__': True,\n",
       " 'display': <function IPython.core.display.display(*objs, include=None, exclude=None, metadata=None, transient=None, display_id=None, **kwargs)>,\n",
       " 'get_ipython': <bound method InteractiveShell.get_ipython of <ipykernel.zmqshell.ZMQInteractiveShell object at 0x000001A858E04C70>>}"
      ]
     },
     "execution_count": 93,
     "metadata": {},
     "output_type": "execute_result"
    }
   ],
   "source": [
    "__builtins__.__dict__"
   ]
  },
  {
   "cell_type": "code",
   "execution_count": 94,
   "id": "3048c5e4",
   "metadata": {},
   "outputs": [
    {
     "data": {
      "text/plain": [
       "int"
      ]
     },
     "execution_count": 94,
     "metadata": {},
     "output_type": "execute_result"
    }
   ],
   "source": [
    "__builtins__.__dict__['int']"
   ]
  },
  {
   "cell_type": "code",
   "execution_count": 95,
   "id": "f7bc3ab4",
   "metadata": {},
   "outputs": [
    {
     "data": {
      "text/plain": [
       "float"
      ]
     },
     "execution_count": 95,
     "metadata": {},
     "output_type": "execute_result"
    }
   ],
   "source": [
    "__builtins__.__dict__['float']"
   ]
  },
  {
   "cell_type": "code",
   "execution_count": 96,
   "id": "85dbcaed",
   "metadata": {},
   "outputs": [
    {
     "data": {
      "text/plain": [
       "tuple"
      ]
     },
     "execution_count": 96,
     "metadata": {},
     "output_type": "execute_result"
    }
   ],
   "source": [
    "__builtins__.__dict__['tuple']"
   ]
  },
  {
   "cell_type": "code",
   "execution_count": 97,
   "id": "7747af4f",
   "metadata": {},
   "outputs": [
    {
     "data": {
      "text/plain": [
       "int"
      ]
     },
     "execution_count": 97,
     "metadata": {},
     "output_type": "execute_result"
    }
   ],
   "source": [
    "100\n",
    "type(100)"
   ]
  },
  {
   "cell_type": "code",
   "execution_count": 98,
   "id": "5305af95",
   "metadata": {},
   "outputs": [
    {
     "data": {
      "text/plain": [
       "int"
      ]
     },
     "execution_count": 98,
     "metadata": {},
     "output_type": "execute_result"
    }
   ],
   "source": [
    "(100).__class__"
   ]
  },
  {
   "cell_type": "code",
   "execution_count": 99,
   "id": "68915322",
   "metadata": {},
   "outputs": [
    {
     "name": "stdout",
     "output_type": "stream",
     "text": [
      "['__abs__', '__add__', '__and__', '__bool__', '__ceil__', '__class__', '__delattr__', '__dir__', '__divmod__', '__doc__', '__eq__', '__float__', '__floor__', '__floordiv__', '__format__', '__ge__', '__getattribute__', '__getnewargs__', '__gt__', '__hash__', '__index__', '__init__', '__init_subclass__', '__int__', '__invert__', '__le__', '__lshift__', '__lt__', '__mod__', '__mul__', '__ne__', '__neg__', '__new__', '__or__', '__pos__', '__pow__', '__radd__', '__rand__', '__rdivmod__', '__reduce__', '__reduce_ex__', '__repr__', '__rfloordiv__', '__rlshift__', '__rmod__', '__rmul__', '__ror__', '__round__', '__rpow__', '__rrshift__', '__rshift__', '__rsub__', '__rtruediv__', '__rxor__', '__setattr__', '__sizeof__', '__str__', '__sub__', '__subclasshook__', '__truediv__', '__trunc__', '__xor__', 'as_integer_ratio', 'bit_length', 'conjugate', 'denominator', 'from_bytes', 'imag', 'numerator', 'real', 'to_bytes']\n"
     ]
    }
   ],
   "source": [
    "print(dir(100))"
   ]
  },
  {
   "cell_type": "code",
   "execution_count": 100,
   "id": "daa26898",
   "metadata": {},
   "outputs": [
    {
     "name": "stdout",
     "output_type": "stream",
     "text": [
      "['__abs__', '__add__', '__and__', '__bool__', '__ceil__', '__class__', '__delattr__', '__dir__', '__divmod__', '__doc__', '__eq__', '__float__', '__floor__', '__floordiv__', '__format__', '__ge__', '__getattribute__', '__getnewargs__', '__gt__', '__hash__', '__index__', '__init__', '__init_subclass__', '__int__', '__invert__', '__le__', '__lshift__', '__lt__', '__mod__', '__mul__', '__ne__', '__neg__', '__new__', '__or__', '__pos__', '__pow__', '__radd__', '__rand__', '__rdivmod__', '__reduce__', '__reduce_ex__', '__repr__', '__rfloordiv__', '__rlshift__', '__rmod__', '__rmul__', '__ror__', '__round__', '__rpow__', '__rrshift__', '__rshift__', '__rsub__', '__rtruediv__', '__rxor__', '__setattr__', '__sizeof__', '__str__', '__sub__', '__subclasshook__', '__truediv__', '__trunc__', '__xor__', 'as_integer_ratio', 'bit_length', 'conjugate', 'denominator', 'from_bytes', 'imag', 'numerator', 'real', 'to_bytes']\n"
     ]
    }
   ],
   "source": [
    "print(dir(int))"
   ]
  },
  {
   "cell_type": "code",
   "execution_count": 101,
   "id": "11f9b2f8",
   "metadata": {},
   "outputs": [
    {
     "data": {
      "text/plain": [
       "int"
      ]
     },
     "execution_count": 101,
     "metadata": {},
     "output_type": "execute_result"
    }
   ],
   "source": [
    "(100).__class__"
   ]
  },
  {
   "cell_type": "code",
   "execution_count": 102,
   "id": "bf0081c5",
   "metadata": {},
   "outputs": [
    {
     "data": {
      "text/plain": [
       "float"
      ]
     },
     "execution_count": 102,
     "metadata": {},
     "output_type": "execute_result"
    }
   ],
   "source": [
    "(100.0).__class__"
   ]
  },
  {
   "cell_type": "code",
   "execution_count": 103,
   "id": "cace6d87",
   "metadata": {},
   "outputs": [
    {
     "data": {
      "text/plain": [
       "complex"
      ]
     },
     "execution_count": 103,
     "metadata": {},
     "output_type": "execute_result"
    }
   ],
   "source": [
    "(100.1 + 1j).__class__"
   ]
  },
  {
   "cell_type": "code",
   "execution_count": 104,
   "id": "0cdf3539",
   "metadata": {},
   "outputs": [
    {
     "data": {
      "text/plain": [
       "200.0"
      ]
     },
     "execution_count": 104,
     "metadata": {},
     "output_type": "execute_result"
    }
   ],
   "source": [
    "100 + 100.0"
   ]
  },
  {
   "cell_type": "code",
   "execution_count": 105,
   "id": "39124010",
   "metadata": {},
   "outputs": [],
   "source": [
    "from datetime import datetime\n",
    "import pytz"
   ]
  },
  {
   "cell_type": "code",
   "execution_count": 106,
   "id": "ea16549a",
   "metadata": {},
   "outputs": [
    {
     "name": "stdout",
     "output_type": "stream",
     "text": [
      "['AmbiguousTimeError', 'BaseTzInfo', 'FixedOffset', 'HOUR', 'InvalidTimeError', 'LazyDict', 'LazyList', 'LazySet', 'NonExistentTimeError', 'OLSEN_VERSION', 'OLSON_VERSION', 'UTC', 'UnknownTimeZoneError', 'VERSION', 'ZERO', '_CountryNameDict', '_CountryTimezoneDict', '_FixedOffset', '_UTC', '__all__', '__builtins__', '__cached__', '__doc__', '__file__', '__loader__', '__name__', '__package__', '__path__', '__spec__', '__version__', '_all_timezones_lower_to_standard', '_case_insensitive_zone_lookup', '_p', '_test', '_tzinfo_cache', '_unmunge_zone', 'all_timezones', 'all_timezones_set', 'ascii', 'build_tzinfo', 'common_timezones', 'common_timezones_set', 'country_names', 'country_timezones', 'datetime', 'exceptions', 'lazy', 'open_resource', 'os', 'resource_exists', 'sys', 'timezone', 'tzfile', 'tzinfo', 'unicode', 'unpickler', 'utc']\n"
     ]
    }
   ],
   "source": [
    "print(dir(pytz))"
   ]
  },
  {
   "cell_type": "code",
   "execution_count": 107,
   "id": "73518719",
   "metadata": {},
   "outputs": [],
   "source": [
    "utc = pytz.timezone(\"UTC\")"
   ]
  },
  {
   "cell_type": "code",
   "execution_count": 108,
   "id": "8708539e",
   "metadata": {},
   "outputs": [
    {
     "data": {
      "text/plain": [
       "<UTC>"
      ]
     },
     "execution_count": 108,
     "metadata": {},
     "output_type": "execute_result"
    }
   ],
   "source": [
    "utc"
   ]
  },
  {
   "cell_type": "code",
   "execution_count": 109,
   "id": "cdcd452d",
   "metadata": {},
   "outputs": [],
   "source": [
    "asia_seoul = pytz.timezone('Asia/Seoul')"
   ]
  },
  {
   "cell_type": "code",
   "execution_count": 110,
   "id": "b5bbccde",
   "metadata": {},
   "outputs": [
    {
     "data": {
      "text/plain": [
       "<DstTzInfo 'Asia/Seoul' LMT+8:28:00 STD>"
      ]
     },
     "execution_count": 110,
     "metadata": {},
     "output_type": "execute_result"
    }
   ],
   "source": [
    "asia_seoul"
   ]
  },
  {
   "cell_type": "code",
   "execution_count": 111,
   "id": "ab0178e3",
   "metadata": {},
   "outputs": [],
   "source": [
    "utc_now = datetime.now(utc)"
   ]
  },
  {
   "cell_type": "code",
   "execution_count": 112,
   "id": "b7ab14df",
   "metadata": {},
   "outputs": [],
   "source": [
    "seoul_now = datetime.now(asia_seoul)"
   ]
  },
  {
   "cell_type": "code",
   "execution_count": 113,
   "id": "337a3b05",
   "metadata": {},
   "outputs": [
    {
     "data": {
      "text/plain": [
       "datetime.datetime(2021, 7, 28, 3, 22, 45, 617611, tzinfo=<UTC>)"
      ]
     },
     "execution_count": 113,
     "metadata": {},
     "output_type": "execute_result"
    }
   ],
   "source": [
    "utc_now"
   ]
  },
  {
   "cell_type": "code",
   "execution_count": 114,
   "id": "f8e0e099",
   "metadata": {},
   "outputs": [
    {
     "data": {
      "text/plain": [
       "datetime.datetime(2021, 7, 28, 12, 22, 45, 630229, tzinfo=<DstTzInfo 'Asia/Seoul' KST+9:00:00 STD>)"
      ]
     },
     "execution_count": 114,
     "metadata": {},
     "output_type": "execute_result"
    }
   ],
   "source": [
    "seoul_now"
   ]
  },
  {
   "cell_type": "code",
   "execution_count": 115,
   "id": "28cc89f3",
   "metadata": {},
   "outputs": [
    {
     "data": {
      "text/plain": [
       "datetime.timedelta(days=-1, seconds=86399, microseconds=987382)"
      ]
     },
     "execution_count": 115,
     "metadata": {},
     "output_type": "execute_result"
    }
   ],
   "source": [
    "utc_now - seoul_now"
   ]
  },
  {
   "cell_type": "code",
   "execution_count": 116,
   "id": "ea612bd7",
   "metadata": {},
   "outputs": [],
   "source": [
    "a = '100'"
   ]
  },
  {
   "cell_type": "code",
   "execution_count": 117,
   "id": "cf7bec30",
   "metadata": {},
   "outputs": [],
   "source": [
    "b = int(a)"
   ]
  },
  {
   "cell_type": "code",
   "execution_count": 118,
   "id": "ac85b9cb",
   "metadata": {},
   "outputs": [],
   "source": [
    "import math"
   ]
  },
  {
   "cell_type": "code",
   "execution_count": 119,
   "id": "ab05ca5b",
   "metadata": {},
   "outputs": [
    {
     "data": {
      "text/plain": [
       "100"
      ]
     },
     "execution_count": 119,
     "metadata": {},
     "output_type": "execute_result"
    }
   ],
   "source": [
    "math.floor(100.9)"
   ]
  },
  {
   "cell_type": "code",
   "execution_count": 120,
   "id": "45adccd7",
   "metadata": {},
   "outputs": [
    {
     "data": {
      "text/plain": [
       "101"
      ]
     },
     "execution_count": 120,
     "metadata": {},
     "output_type": "execute_result"
    }
   ],
   "source": [
    "math.ceil(100.1)"
   ]
  },
  {
   "cell_type": "code",
   "execution_count": 121,
   "id": "87972541",
   "metadata": {},
   "outputs": [
    {
     "data": {
      "text/plain": [
       "100"
      ]
     },
     "execution_count": 121,
     "metadata": {},
     "output_type": "execute_result"
    }
   ],
   "source": [
    "round(100.4)"
   ]
  },
  {
   "cell_type": "code",
   "execution_count": 122,
   "id": "936310bb",
   "metadata": {},
   "outputs": [
    {
     "data": {
      "text/plain": [
       "101"
      ]
     },
     "execution_count": 122,
     "metadata": {},
     "output_type": "execute_result"
    }
   ],
   "source": [
    "round(100.6)"
   ]
  },
  {
   "cell_type": "markdown",
   "id": "79f70d4f",
   "metadata": {},
   "source": [
    "#### 시퀀스 자료형\n",
    "- 문자열, 리스트, 튜플"
   ]
  },
  {
   "cell_type": "code",
   "execution_count": 124,
   "id": "84ad1c66",
   "metadata": {},
   "outputs": [],
   "source": [
    "import collections as cols"
   ]
  },
  {
   "cell_type": "code",
   "execution_count": 125,
   "id": "ef5052e7",
   "metadata": {},
   "outputs": [
    {
     "data": {
      "text/plain": [
       "<module 'collections' from 'C:\\\\Users\\\\MONOGRAM\\\\anaconda3\\\\lib\\\\collections\\\\__init__.py'>"
      ]
     },
     "execution_count": 125,
     "metadata": {},
     "output_type": "execute_result"
    }
   ],
   "source": [
    "cols"
   ]
  },
  {
   "cell_type": "code",
   "execution_count": 126,
   "id": "c7956ae8",
   "metadata": {},
   "outputs": [
    {
     "name": "stdout",
     "output_type": "stream",
     "text": [
      "['ChainMap', 'Counter', 'OrderedDict', 'UserDict', 'UserList', 'UserString', '_Link', '_OrderedDictItemsView', '_OrderedDictKeysView', '_OrderedDictValuesView', '__all__', '__builtins__', '__cached__', '__doc__', '__file__', '__getattr__', '__loader__', '__name__', '__package__', '__path__', '__spec__', '_chain', '_collections_abc', '_count_elements', '_eq', '_heapq', '_iskeyword', '_itemgetter', '_proxy', '_recursive_repr', '_repeat', '_starmap', '_sys', '_tuplegetter', 'abc', 'defaultdict', 'deque', 'namedtuple']\n"
     ]
    }
   ],
   "source": [
    "print(dir(cols))"
   ]
  },
  {
   "cell_type": "code",
   "execution_count": 127,
   "id": "6cc7c735",
   "metadata": {},
   "outputs": [
    {
     "data": {
      "text/plain": [
       "True"
      ]
     },
     "execution_count": 127,
     "metadata": {},
     "output_type": "execute_result"
    }
   ],
   "source": [
    "issubclass(str, cols.abc.Sequence)"
   ]
  },
  {
   "cell_type": "code",
   "execution_count": 128,
   "id": "2e4d4424",
   "metadata": {},
   "outputs": [
    {
     "data": {
      "text/plain": [
       "True"
      ]
     },
     "execution_count": 128,
     "metadata": {},
     "output_type": "execute_result"
    }
   ],
   "source": [
    "issubclass(list, cols.abc.Sequence)"
   ]
  },
  {
   "cell_type": "code",
   "execution_count": 130,
   "id": "45cf8a09",
   "metadata": {},
   "outputs": [],
   "source": [
    "a = [1,2,3]"
   ]
  },
  {
   "cell_type": "code",
   "execution_count": 131,
   "id": "9a73db5a",
   "metadata": {},
   "outputs": [
    {
     "data": {
      "text/plain": [
       "[1, 2, 3]"
      ]
     },
     "execution_count": 131,
     "metadata": {},
     "output_type": "execute_result"
    }
   ],
   "source": [
    "a"
   ]
  },
  {
   "cell_type": "code",
   "execution_count": 132,
   "id": "1aaf771f",
   "metadata": {},
   "outputs": [],
   "source": [
    "b = cols.UserList([1,2,3])"
   ]
  },
  {
   "cell_type": "code",
   "execution_count": 133,
   "id": "3b37ac40",
   "metadata": {},
   "outputs": [
    {
     "data": {
      "text/plain": [
       "[1, 2, 3]"
      ]
     },
     "execution_count": 133,
     "metadata": {},
     "output_type": "execute_result"
    }
   ],
   "source": [
    "b"
   ]
  },
  {
   "cell_type": "code",
   "execution_count": 134,
   "id": "ffe539e1",
   "metadata": {},
   "outputs": [
    {
     "data": {
      "text/plain": [
       "'문자열'"
      ]
     },
     "execution_count": 134,
     "metadata": {},
     "output_type": "execute_result"
    }
   ],
   "source": [
    "\"문자열\""
   ]
  },
  {
   "cell_type": "code",
   "execution_count": 135,
   "id": "6a7ca8ec",
   "metadata": {},
   "outputs": [
    {
     "data": {
      "text/plain": [
       "'문자열'"
      ]
     },
     "execution_count": 135,
     "metadata": {},
     "output_type": "execute_result"
    }
   ],
   "source": [
    "str(\"문자열\")"
   ]
  },
  {
   "cell_type": "code",
   "execution_count": 136,
   "id": "47c3f4ca",
   "metadata": {},
   "outputs": [
    {
     "data": {
      "text/plain": [
       "97"
      ]
     },
     "execution_count": 136,
     "metadata": {},
     "output_type": "execute_result"
    }
   ],
   "source": [
    "ord('a')"
   ]
  },
  {
   "cell_type": "code",
   "execution_count": 137,
   "id": "dc404025",
   "metadata": {},
   "outputs": [
    {
     "data": {
      "text/plain": [
       "65"
      ]
     },
     "execution_count": 137,
     "metadata": {},
     "output_type": "execute_result"
    }
   ],
   "source": [
    "ord('A')"
   ]
  },
  {
   "cell_type": "code",
   "execution_count": 138,
   "id": "a553a014",
   "metadata": {},
   "outputs": [
    {
     "name": "stdout",
     "output_type": "stream",
     "text": [
      "입력해주세요 : 123\n"
     ]
    }
   ],
   "source": [
    "a = input('입력해주세요 : ')"
   ]
  },
  {
   "cell_type": "code",
   "execution_count": 139,
   "id": "01eb2ab4",
   "metadata": {},
   "outputs": [
    {
     "data": {
      "text/plain": [
       "'123'"
      ]
     },
     "execution_count": 139,
     "metadata": {},
     "output_type": "execute_result"
    }
   ],
   "source": [
    "a"
   ]
  },
  {
   "cell_type": "code",
   "execution_count": 140,
   "id": "443cee83",
   "metadata": {},
   "outputs": [
    {
     "name": "stdout",
     "output_type": "stream",
     "text": [
      "입력해주세요 : 123\n"
     ]
    }
   ],
   "source": [
    "a = int(input(\"입력해주세요 : \"))"
   ]
  },
  {
   "cell_type": "code",
   "execution_count": 141,
   "id": "57ee23c6",
   "metadata": {},
   "outputs": [
    {
     "data": {
      "text/plain": [
       "123"
      ]
     },
     "execution_count": 141,
     "metadata": {},
     "output_type": "execute_result"
    }
   ],
   "source": [
    "a"
   ]
  },
  {
   "cell_type": "code",
   "execution_count": 143,
   "id": "fee8a886",
   "metadata": {},
   "outputs": [
    {
     "name": "stdout",
     "output_type": "stream",
     "text": [
      "첫 번째 수를 입력해주세요 : 3\n",
      "두 번째 수를 입력해주세요 : 2\n",
      "결과 : 6\n",
      "결과 : 6\n"
     ]
    }
   ],
   "source": [
    "a = int(input('첫 번째 수를 입력해주세요 : '))\n",
    "b = int(input('두 번째 수를 입력해주세요 : '))\n",
    "print(\"결과 : \" + str(a*b))\n",
    "print(f\"결과 : { (a*b) }\")"
   ]
  },
  {
   "cell_type": "code",
   "execution_count": 145,
   "id": "b1ff3d70",
   "metadata": {},
   "outputs": [
    {
     "name": "stdout",
     "output_type": "stream",
     "text": [
      "Help on class int in module builtins:\n",
      "\n",
      "class int(object)\n",
      " |  int([x]) -> integer\n",
      " |  int(x, base=10) -> integer\n",
      " |  \n",
      " |  Convert a number or string to an integer, or return 0 if no arguments\n",
      " |  are given.  If x is a number, return x.__int__().  For floating point\n",
      " |  numbers, this truncates towards zero.\n",
      " |  \n",
      " |  If x is not a number or if base is given, then x must be a string,\n",
      " |  bytes, or bytearray instance representing an integer literal in the\n",
      " |  given base.  The literal can be preceded by '+' or '-' and be surrounded\n",
      " |  by whitespace.  The base defaults to 10.  Valid bases are 0 and 2-36.\n",
      " |  Base 0 means to interpret the base from the string as an integer literal.\n",
      " |  >>> int('0b100', base=0)\n",
      " |  4\n",
      " |  \n",
      " |  Built-in subclasses:\n",
      " |      bool\n",
      " |  \n",
      " |  Methods defined here:\n",
      " |  \n",
      " |  __abs__(self, /)\n",
      " |      abs(self)\n",
      " |  \n",
      " |  __add__(self, value, /)\n",
      " |      Return self+value.\n",
      " |  \n",
      " |  __and__(self, value, /)\n",
      " |      Return self&value.\n",
      " |  \n",
      " |  __bool__(self, /)\n",
      " |      self != 0\n",
      " |  \n",
      " |  __ceil__(...)\n",
      " |      Ceiling of an Integral returns itself.\n",
      " |  \n",
      " |  __divmod__(self, value, /)\n",
      " |      Return divmod(self, value).\n",
      " |  \n",
      " |  __eq__(self, value, /)\n",
      " |      Return self==value.\n",
      " |  \n",
      " |  __float__(self, /)\n",
      " |      float(self)\n",
      " |  \n",
      " |  __floor__(...)\n",
      " |      Flooring an Integral returns itself.\n",
      " |  \n",
      " |  __floordiv__(self, value, /)\n",
      " |      Return self//value.\n",
      " |  \n",
      " |  __format__(self, format_spec, /)\n",
      " |      Default object formatter.\n",
      " |  \n",
      " |  __ge__(self, value, /)\n",
      " |      Return self>=value.\n",
      " |  \n",
      " |  __getattribute__(self, name, /)\n",
      " |      Return getattr(self, name).\n",
      " |  \n",
      " |  __getnewargs__(self, /)\n",
      " |  \n",
      " |  __gt__(self, value, /)\n",
      " |      Return self>value.\n",
      " |  \n",
      " |  __hash__(self, /)\n",
      " |      Return hash(self).\n",
      " |  \n",
      " |  __index__(self, /)\n",
      " |      Return self converted to an integer, if self is suitable for use as an index into a list.\n",
      " |  \n",
      " |  __int__(self, /)\n",
      " |      int(self)\n",
      " |  \n",
      " |  __invert__(self, /)\n",
      " |      ~self\n",
      " |  \n",
      " |  __le__(self, value, /)\n",
      " |      Return self<=value.\n",
      " |  \n",
      " |  __lshift__(self, value, /)\n",
      " |      Return self<<value.\n",
      " |  \n",
      " |  __lt__(self, value, /)\n",
      " |      Return self<value.\n",
      " |  \n",
      " |  __mod__(self, value, /)\n",
      " |      Return self%value.\n",
      " |  \n",
      " |  __mul__(self, value, /)\n",
      " |      Return self*value.\n",
      " |  \n",
      " |  __ne__(self, value, /)\n",
      " |      Return self!=value.\n",
      " |  \n",
      " |  __neg__(self, /)\n",
      " |      -self\n",
      " |  \n",
      " |  __or__(self, value, /)\n",
      " |      Return self|value.\n",
      " |  \n",
      " |  __pos__(self, /)\n",
      " |      +self\n",
      " |  \n",
      " |  __pow__(self, value, mod=None, /)\n",
      " |      Return pow(self, value, mod).\n",
      " |  \n",
      " |  __radd__(self, value, /)\n",
      " |      Return value+self.\n",
      " |  \n",
      " |  __rand__(self, value, /)\n",
      " |      Return value&self.\n",
      " |  \n",
      " |  __rdivmod__(self, value, /)\n",
      " |      Return divmod(value, self).\n",
      " |  \n",
      " |  __repr__(self, /)\n",
      " |      Return repr(self).\n",
      " |  \n",
      " |  __rfloordiv__(self, value, /)\n",
      " |      Return value//self.\n",
      " |  \n",
      " |  __rlshift__(self, value, /)\n",
      " |      Return value<<self.\n",
      " |  \n",
      " |  __rmod__(self, value, /)\n",
      " |      Return value%self.\n",
      " |  \n",
      " |  __rmul__(self, value, /)\n",
      " |      Return value*self.\n",
      " |  \n",
      " |  __ror__(self, value, /)\n",
      " |      Return value|self.\n",
      " |  \n",
      " |  __round__(...)\n",
      " |      Rounding an Integral returns itself.\n",
      " |      Rounding with an ndigits argument also returns an integer.\n",
      " |  \n",
      " |  __rpow__(self, value, mod=None, /)\n",
      " |      Return pow(value, self, mod).\n",
      " |  \n",
      " |  __rrshift__(self, value, /)\n",
      " |      Return value>>self.\n",
      " |  \n",
      " |  __rshift__(self, value, /)\n",
      " |      Return self>>value.\n",
      " |  \n",
      " |  __rsub__(self, value, /)\n",
      " |      Return value-self.\n",
      " |  \n",
      " |  __rtruediv__(self, value, /)\n",
      " |      Return value/self.\n",
      " |  \n",
      " |  __rxor__(self, value, /)\n",
      " |      Return value^self.\n",
      " |  \n",
      " |  __sizeof__(self, /)\n",
      " |      Returns size in memory, in bytes.\n",
      " |  \n",
      " |  __sub__(self, value, /)\n",
      " |      Return self-value.\n",
      " |  \n",
      " |  __truediv__(self, value, /)\n",
      " |      Return self/value.\n",
      " |  \n",
      " |  __trunc__(...)\n",
      " |      Truncating an Integral returns itself.\n",
      " |  \n",
      " |  __xor__(self, value, /)\n",
      " |      Return self^value.\n",
      " |  \n",
      " |  as_integer_ratio(self, /)\n",
      " |      Return integer ratio.\n",
      " |      \n",
      " |      Return a pair of integers, whose ratio is exactly equal to the original int\n",
      " |      and with a positive denominator.\n",
      " |      \n",
      " |      >>> (10).as_integer_ratio()\n",
      " |      (10, 1)\n",
      " |      >>> (-10).as_integer_ratio()\n",
      " |      (-10, 1)\n",
      " |      >>> (0).as_integer_ratio()\n",
      " |      (0, 1)\n",
      " |  \n",
      " |  bit_length(self, /)\n",
      " |      Number of bits necessary to represent self in binary.\n",
      " |      \n",
      " |      >>> bin(37)\n",
      " |      '0b100101'\n",
      " |      >>> (37).bit_length()\n",
      " |      6\n",
      " |  \n",
      " |  conjugate(...)\n",
      " |      Returns self, the complex conjugate of any int.\n",
      " |  \n",
      " |  to_bytes(self, /, length, byteorder, *, signed=False)\n",
      " |      Return an array of bytes representing an integer.\n",
      " |      \n",
      " |      length\n",
      " |        Length of bytes object to use.  An OverflowError is raised if the\n",
      " |        integer is not representable with the given number of bytes.\n",
      " |      byteorder\n",
      " |        The byte order used to represent the integer.  If byteorder is 'big',\n",
      " |        the most significant byte is at the beginning of the byte array.  If\n",
      " |        byteorder is 'little', the most significant byte is at the end of the\n",
      " |        byte array.  To request the native byte order of the host system, use\n",
      " |        `sys.byteorder' as the byte order value.\n",
      " |      signed\n",
      " |        Determines whether two's complement is used to represent the integer.\n",
      " |        If signed is False and a negative integer is given, an OverflowError\n",
      " |        is raised.\n",
      " |  \n",
      " |  ----------------------------------------------------------------------\n",
      " |  Class methods defined here:\n",
      " |  \n",
      " |  from_bytes(bytes, byteorder, *, signed=False) from builtins.type\n",
      " |      Return the integer represented by the given array of bytes.\n",
      " |      \n",
      " |      bytes\n",
      " |        Holds the array of bytes to convert.  The argument must either\n",
      " |        support the buffer protocol or be an iterable object producing bytes.\n",
      " |        Bytes and bytearray are examples of built-in objects that support the\n",
      " |        buffer protocol.\n",
      " |      byteorder\n",
      " |        The byte order used to represent the integer.  If byteorder is 'big',\n",
      " |        the most significant byte is at the beginning of the byte array.  If\n",
      " |        byteorder is 'little', the most significant byte is at the end of the\n",
      " |        byte array.  To request the native byte order of the host system, use\n",
      " |        `sys.byteorder' as the byte order value.\n",
      " |      signed\n",
      " |        Indicates whether two's complement is used to represent the integer.\n",
      " |  \n",
      " |  ----------------------------------------------------------------------\n",
      " |  Static methods defined here:\n",
      " |  \n",
      " |  __new__(*args, **kwargs) from builtins.type\n",
      " |      Create and return a new object.  See help(type) for accurate signature.\n",
      " |  \n",
      " |  ----------------------------------------------------------------------\n",
      " |  Data descriptors defined here:\n",
      " |  \n",
      " |  denominator\n",
      " |      the denominator of a rational number in lowest terms\n",
      " |  \n",
      " |  imag\n",
      " |      the imaginary part of a complex number\n",
      " |  \n",
      " |  numerator\n",
      " |      the numerator of a rational number in lowest terms\n",
      " |  \n",
      " |  real\n",
      " |      the real part of a complex number\n",
      "\n"
     ]
    }
   ],
   "source": [
    "help(int)"
   ]
  },
  {
   "cell_type": "code",
   "execution_count": 146,
   "id": "a4fa79de",
   "metadata": {},
   "outputs": [],
   "source": [
    "import requests"
   ]
  },
  {
   "cell_type": "code",
   "execution_count": 147,
   "id": "d2824e70",
   "metadata": {
    "scrolled": false
   },
   "outputs": [
    {
     "name": "stdout",
     "output_type": "stream",
     "text": [
      "Help on package requests:\n",
      "\n",
      "NAME\n",
      "    requests\n",
      "\n",
      "DESCRIPTION\n",
      "    Requests HTTP Library\n",
      "    ~~~~~~~~~~~~~~~~~~~~~\n",
      "    \n",
      "    Requests is an HTTP library, written in Python, for human beings.\n",
      "    Basic GET usage:\n",
      "    \n",
      "       >>> import requests\n",
      "       >>> r = requests.get('https://www.python.org')\n",
      "       >>> r.status_code\n",
      "       200\n",
      "       >>> b'Python is a programming language' in r.content\n",
      "       True\n",
      "    \n",
      "    ... or POST:\n",
      "    \n",
      "       >>> payload = dict(key1='value1', key2='value2')\n",
      "       >>> r = requests.post('https://httpbin.org/post', data=payload)\n",
      "       >>> print(r.text)\n",
      "       {\n",
      "         ...\n",
      "         \"form\": {\n",
      "           \"key1\": \"value1\",\n",
      "           \"key2\": \"value2\"\n",
      "         },\n",
      "         ...\n",
      "       }\n",
      "    \n",
      "    The other HTTP methods are supported - see `requests.api`. Full documentation\n",
      "    is at <https://requests.readthedocs.io>.\n",
      "    \n",
      "    :copyright: (c) 2017 by Kenneth Reitz.\n",
      "    :license: Apache 2.0, see LICENSE for more details.\n",
      "\n",
      "PACKAGE CONTENTS\n",
      "    __version__\n",
      "    _internal_utils\n",
      "    adapters\n",
      "    api\n",
      "    auth\n",
      "    certs\n",
      "    compat\n",
      "    cookies\n",
      "    exceptions\n",
      "    help\n",
      "    hooks\n",
      "    models\n",
      "    packages\n",
      "    sessions\n",
      "    status_codes\n",
      "    structures\n",
      "    utils\n",
      "\n",
      "FUNCTIONS\n",
      "    check_compatibility(urllib3_version, chardet_version)\n",
      "\n",
      "DATA\n",
      "    __author_email__ = 'me@kennethreitz.org'\n",
      "    __build__ = 140545\n",
      "    __cake__ = '✨ 🍰 ✨'\n",
      "    __copyright__ = 'Copyright 2020 Kenneth Reitz'\n",
      "    __description__ = 'Python HTTP for Humans.'\n",
      "    __license__ = 'Apache 2.0'\n",
      "    __title__ = 'requests'\n",
      "    __url__ = 'https://requests.readthedocs.io'\n",
      "    codes = <lookup 'status_codes'>\n",
      "\n",
      "VERSION\n",
      "    2.25.1\n",
      "\n",
      "AUTHOR\n",
      "    Kenneth Reitz\n",
      "\n",
      "FILE\n",
      "    c:\\users\\monogram\\anaconda3\\lib\\site-packages\\requests\\__init__.py\n",
      "\n",
      "\n"
     ]
    }
   ],
   "source": [
    "help(requests)"
   ]
  },
  {
   "cell_type": "code",
   "execution_count": null,
   "id": "5839f16d",
   "metadata": {},
   "outputs": [],
   "source": []
  }
 ],
 "metadata": {
  "kernelspec": {
   "display_name": "Python 3",
   "language": "python",
   "name": "python3"
  },
  "language_info": {
   "codemirror_mode": {
    "name": "ipython",
    "version": 3
   },
   "file_extension": ".py",
   "mimetype": "text/x-python",
   "name": "python",
   "nbconvert_exporter": "python",
   "pygments_lexer": "ipython3",
   "version": "3.8.8"
  }
 },
 "nbformat": 4,
 "nbformat_minor": 5
}
